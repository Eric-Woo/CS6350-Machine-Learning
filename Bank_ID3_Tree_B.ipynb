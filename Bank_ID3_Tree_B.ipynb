{
 "cells": [
  {
   "cell_type": "code",
   "execution_count": 59,
   "id": "b3fa8e46",
   "metadata": {},
   "outputs": [],
   "source": [
    "from collections import Counter\n",
    "import numpy as np\n",
    "from math import log\n",
    "import copy"
   ]
  },
  {
   "cell_type": "code",
   "execution_count": 60,
   "id": "100361a4",
   "metadata": {},
   "outputs": [],
   "source": [
    "class TreeNode:\n",
    "    \n",
    "    \"\"\"\n",
    "    A class for nodes in a rooted Tree\n",
    "    \"\"\"\n",
    "    def __init__(self, attr):\n",
    "        self.label = None\n",
    "        self.attr = attr\n",
    "        self.children ={}\n",
    "        \n",
    "    def add_child(self,val,node):\n",
    "        self.children[val]=node\n",
    "        "
   ]
  },
  {
   "cell_type": "code",
   "execution_count": 61,
   "id": "9cb54571",
   "metadata": {},
   "outputs": [],
   "source": [
    "class DecisionTree():\n",
    "    \n",
    "    def __init__(self, gain_type, depth):\n",
    "        \n",
    "        self.gain_type = gain_type\n",
    "        self.depth = depth\n",
    "        \n",
    "    def info_gain(self, labels):\n",
    "\n",
    "        measure = 0\n",
    "\n",
    "        if self.gain_type == 'gini_index':\n",
    "            n = len(labels)\n",
    "            counter = Counter(labels)\n",
    "            measure= 1 - sum((counter[count]/n)**2 for count in counter)\n",
    "        \n",
    "            return measure\n",
    "  \n",
    "        elif self.gain_type == 'majority_error':\n",
    "            n = len(labels)\n",
    "            counter = Counter(labels)\n",
    "            majority = counter.most_common(1)[0][1]\n",
    "            measure = 1 - (majority/n)\n",
    "        \n",
    "            return measure\n",
    "    \n",
    "        elif self.gain_type== 'Entropy':\n",
    "            n=len(labels)\n",
    "            counter = Counter(labels)\n",
    "            measure= -sum(counter[count]/n * log(counter[count]/n, 2) for count in counter)\n",
    "\n",
    "            return measure\n",
    "        \n",
    "    def select_feature(self, S, attrs, labels):\n",
    "        \n",
    "        entropy_D = self.info_gain(labels)\n",
    "        \n",
    "        max_gain = -1\n",
    "        best_attr = None\n",
    "\n",
    "        for attr in attrs:\n",
    "            entropy_x= 0\n",
    "            \n",
    "            for v in attrs[attr]:\n",
    "                    Sv_labels = [label for i, label in enumerate(labels) if S[i][attr] == v]\n",
    "                    entropy_x += (len(Sv_labels)/len(labels)) * self.info_gain(Sv_labels)\n",
    "                    gain_x=entropy_D-entropy_x\n",
    "                    \n",
    "            if gain_x > max_gain:\n",
    "                max_gain = gain_x\n",
    "                best_attr = attr\n",
    "\n",
    "        return best_attr\n",
    "     \n",
    "    def common_label(self, label_list):\n",
    "        \n",
    "        count = Counter(label_list)\n",
    "        C_L=count.most_common(1)[0][0]\n",
    "        \n",
    "        return C_L\n",
    "\n",
    "    def ID3(self, S, attrs, labels, depth):\n",
    "        \n",
    "        common_label = self.common_label(labels)\n",
    "        \n",
    "         # If all examples have same label; or Attributes empty; or max_depth\n",
    "            \n",
    "        if len(set(labels)) == 1 or not attrs or depth == 0:\n",
    "            leaf = TreeNode(None)\n",
    "            leaf.label = common_label\n",
    "            return leaf\n",
    "        \n",
    "        best_attr = self.select_feature(S, attrs, labels)\n",
    "\n",
    "        root = TreeNode(best_attr)\n",
    "\n",
    "        for v in attrs[best_attr]:\n",
    "            new_branch = TreeNode(v)\n",
    "\n",
    "            S_val = [val for i, val in enumerate(S) if S[i][best_attr] == v]\n",
    "            S_val_labels = [label for i, label in enumerate(labels) if S[i][best_attr] == v]\n",
    "\n",
    "            if not S_val:\n",
    "                new_branch.label = common_label\n",
    "                root.add_child(v, new_branch)\n",
    "            else:\n",
    "                sub_attrs = copy.deepcopy(attrs)\n",
    "                sub_attrs.pop(best_attr)\n",
    "\n",
    "                root.add_child(v, self.ID3(S_val, sub_attrs, S_val_labels, depth - 1))\n",
    "\n",
    "        return root\n",
    "\n",
    "    def build_tree(self, S, attrs, labels):\n",
    "        \n",
    "        self.root = self.ID3(S, attrs, labels, self.depth)\n",
    "        \n",
    "    def fit(self, instance):\n",
    "        \n",
    "        root=self.root\n",
    "        \n",
    "        while root.children:\n",
    "            attr = instance[root.attr]\n",
    "            if attr in root.children:\n",
    "                root = root.children[attr]\n",
    "\n",
    "        return root.label\n",
    "    \n",
    "    def cls(self, S):\n",
    "        pred_labels = []\n",
    "        for s in S:\n",
    "            pred_label=self.fit(s)\n",
    "            pred_labels.append(pred_label)\n",
    "            \n",
    "        return pred_labels\n",
    "\n",
    "        \n",
    "    def Error(self, pred_labels, true_labels):\n",
    "        count = 0\n",
    "        for i, j in zip(pred_labels, true_labels):\n",
    "            if i == j:\n",
    "                count += 1   \n",
    "        return 1 - count/len(true_labels)"
   ]
  },
  {
   "cell_type": "code",
   "execution_count": 62,
   "id": "c68abd64",
   "metadata": {},
   "outputs": [],
   "source": [
    "features = {'age': [0, 1],  # converted to binary\n",
    "        'job': ['admin.', 'unknown', 'unemployed', 'management', 'housemaid', 'entrepreneur', 'student', 'blue-collar', 'self-employed', 'retired', 'technician', 'services'], \n",
    "        'marital': ['married','divorced','single'], \n",
    "        'education': ['unknown', 'secondary', 'primary', 'tertiary'],\n",
    "        'default': ['yes', 'no'],\n",
    "        'balance': [0, 1],  # converted to binary\n",
    "        'housing': ['yes', 'no'],\n",
    "        'loan': ['yes', 'no'],\n",
    "        'contact': ['unknown', 'telephone', 'cellular'],\n",
    "        'day': [0, 1],  # converted to binary,\n",
    "        'month': ['jan', 'feb', 'mar', 'apr', 'may', 'jun', 'jul', 'aug', 'sep', 'oct', 'nov', 'dec'],\n",
    "        'duration': [0, 1],  # converted to binary\n",
    "        'campaign': [0, 1],  # converted to binary\n",
    "        'pdays': [0, 1],  # converted to binary\n",
    "        'previous': [0, 1],  # converted to binary\n",
    "        'poutcome': ['unknown', 'other', 'failure', 'success']}"
   ]
  },
  {
   "cell_type": "code",
   "execution_count": 63,
   "id": "86e989f7",
   "metadata": {},
   "outputs": [],
   "source": [
    "if __name__ == '__main__':\n",
    "    \n",
    "    attrs = {}\n",
    "    attr_names = ['age', 'job', 'marital', 'education', 'default', 'balance', 'housing', 'loan', 'contact', 'day', 'month', 'duration', 'campaign', 'pdays','previous' , 'poutcome']\n",
    "    attr_numeric = ['age', 'balance', 'day', 'duration', 'campaign', 'pdays', 'previous']\n",
    "    attr_unknown=['job', 'education', 'contact', 'poutcome']\n",
    "    \n",
    "    train_x=[]\n",
    "    train_y=[]\n",
    "    with open ('train.csv' ,'r') as file:\n",
    "        for line in file:\n",
    "            s = {}\n",
    "            term = line.strip().split(',')\n",
    "            for idx, item in enumerate(term[:-1]):\n",
    "                 s[attr_names[idx]] = item\n",
    "\n",
    "            train_x.append(s)\n",
    "            train_y.append(term[-1])"
   ]
  },
  {
   "cell_type": "markdown",
   "id": "ae0ea585",
   "metadata": {},
   "source": [
    "convert numeric variable to binary variable in train dataset"
   ]
  },
  {
   "cell_type": "code",
   "execution_count": 64,
   "id": "c4834f48",
   "metadata": {},
   "outputs": [],
   "source": [
    "#make an empty list of list to extract the numeric variable in train data\n",
    "Median_numeric_list = [[] for __ in range(len(attr_numeric))]\n",
    "\n",
    "for element in train_x:\n",
    "    for idx, value in enumerate(attr_numeric):\n",
    "        # convert to float\n",
    "        sv = float(s[value])\n",
    "        Median_numeric_list[idx].append(sv)\n",
    "        \n",
    "for idx, med in enumerate(Median_numeric_list):\n",
    "       Median_numeric_list[idx] = np.median(med)\n",
    "\n",
    "#convert a numerical feature to a binary one\n",
    "for (attr, med) in zip(attr_numeric, Median_numeric_list):\n",
    "        #feature is bigger (or less) than median\n",
    "        for item in train_x:\n",
    "            item[attr] = 'bigger' if float(item[attr]) >= float(med) else 'less'"
   ]
  },
  {
   "cell_type": "code",
   "execution_count": 65,
   "id": "88fd4642",
   "metadata": {},
   "outputs": [],
   "source": [
    "for item in train_x:\n",
    "    for idx, val in enumerate(item):\n",
    "        attr = item[val]\n",
    "        \n",
    "        if val not in attrs:\n",
    "            attrs[val] = []\n",
    "        if attr not in attrs[val]:\n",
    "                attrs[val].append(attr)"
   ]
  },
  {
   "cell_type": "code",
   "execution_count": 66,
   "id": "0d428a79",
   "metadata": {},
   "outputs": [],
   "source": [
    "#test data\n",
    "test_x=[]\n",
    "test_y=[]\n",
    "    \n",
    "with open ('test.csv' ,'r') as file:\n",
    "    for line in file:\n",
    "        s = {}\n",
    "        term = line.strip().split(',')\n",
    "        for idx, item in enumerate(term[:-1]):\n",
    "            s[attr_names[idx]] = item\n",
    "\n",
    "        test_x.append(s)\n",
    "        test_y.append(term[-1])    "
   ]
  },
  {
   "cell_type": "markdown",
   "id": "416e2abc",
   "metadata": {},
   "source": [
    "Treat unknow as missing value"
   ]
  },
  {
   "cell_type": "code",
   "execution_count": 67,
   "id": "c6b4a741",
   "metadata": {},
   "outputs": [],
   "source": [
    "#extract the unknown variables as missing value\n",
    "unknown_list = [[] for __ in range(len(attr_unknown))]\n",
    "\n",
    "for element in train_x:\n",
    "    for idx, ele in enumerate(attr_unknown):\n",
    "        unknown_list[idx].append(element[ele])\n",
    "        \n",
    "#use majority replace the unknow       \n",
    "unknown_list= [Counter(each_unknow).most_common(1)[0][0] for each_unknow in unknown_list]\n",
    "for (attr, each_unknow) in zip(attr_unknown, unknown_list):\n",
    "    for item in train_x:\n",
    "        item[attr] = each_unknow\n",
    "\n",
    "for (attr, each_unknow) in zip(attr_unknown,unknown_list):\n",
    "    for element in test_x:\n",
    "        element[attr] = each_unknow"
   ]
  },
  {
   "cell_type": "markdown",
   "id": "455ca1c9",
   "metadata": {},
   "source": [
    "convert numeric variable to binary variable in test dataset"
   ]
  },
  {
   "cell_type": "code",
   "execution_count": 68,
   "id": "75bc96c0",
   "metadata": {},
   "outputs": [],
   "source": [
    "for (attr, med) in zip(attr_numeric, Median_numeric_list):\n",
    "        #feature is bigger (or less) than median\n",
    "        for item in test_x:\n",
    "            item[attr] = 'bigger' if float(item[attr]) >= float(med) else 'less'"
   ]
  },
  {
   "cell_type": "code",
   "execution_count": 258,
   "id": "445567b0",
   "metadata": {},
   "outputs": [],
   "source": [
    "clssifier = DecisionTree(gain_type=\"gini_index\", depth=13)\n",
    "clssifier.build_tree(train_x, attrs, train_y)"
   ]
  },
  {
   "cell_type": "code",
   "execution_count": 259,
   "id": "8b5f01bf",
   "metadata": {},
   "outputs": [],
   "source": [
    "train_errors = []\n",
    "train_predicted = clssifier.cls(train_x)\n",
    "train_error = clssifier.Error(train_predicted, train_y)\n",
    "train_errors.append(train_error)"
   ]
  },
  {
   "cell_type": "code",
   "execution_count": 260,
   "id": "8f8cb6d4",
   "metadata": {},
   "outputs": [
    {
     "data": {
      "text/plain": [
       "[0.09079999999999999]"
      ]
     },
     "execution_count": 260,
     "metadata": {},
     "output_type": "execute_result"
    }
   ],
   "source": [
    "train_errors"
   ]
  },
  {
   "cell_type": "code",
   "execution_count": 261,
   "id": "fc24b945",
   "metadata": {},
   "outputs": [],
   "source": [
    "test_errors = []\n",
    "test_predicted = clssifier.cls(test_x)\n",
    "test_error = clssifier.Error(test_predicted, test_y)\n",
    "test_errors.append(test_error)"
   ]
  },
  {
   "cell_type": "code",
   "execution_count": 262,
   "id": "a0ae9591",
   "metadata": {},
   "outputs": [
    {
     "data": {
      "text/plain": [
       "[0.13460000000000005]"
      ]
     },
     "execution_count": 262,
     "metadata": {},
     "output_type": "execute_result"
    }
   ],
   "source": [
    "test_errors"
   ]
  },
  {
   "cell_type": "code",
   "execution_count": null,
   "id": "d89bd826",
   "metadata": {},
   "outputs": [],
   "source": []
  }
 ],
 "metadata": {
  "kernelspec": {
   "display_name": "Python 3",
   "language": "python",
   "name": "python3"
  },
  "language_info": {
   "codemirror_mode": {
    "name": "ipython",
    "version": 3
   },
   "file_extension": ".py",
   "mimetype": "text/x-python",
   "name": "python",
   "nbconvert_exporter": "python",
   "pygments_lexer": "ipython3",
   "version": "3.8.8"
  }
 },
 "nbformat": 4,
 "nbformat_minor": 5
}
