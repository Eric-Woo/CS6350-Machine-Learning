{
 "cells": [
  {
   "cell_type": "code",
   "execution_count": 91,
   "id": "f36ff1ec",
   "metadata": {},
   "outputs": [],
   "source": [
    "import pandas as pd\n",
    "import numpy as np\n",
    "import matplotlib.pyplot as plt\n",
    "import seaborn as sns"
   ]
  },
  {
   "cell_type": "code",
   "execution_count": 2,
   "id": "850224a4",
   "metadata": {},
   "outputs": [],
   "source": [
    "train_data = pd.read_csv(\"train_final.csv\")\n",
    "test_data = pd.read_csv(\"test_final.csv\")"
   ]
  },
  {
   "cell_type": "code",
   "execution_count": 3,
   "id": "7203b1f8",
   "metadata": {},
   "outputs": [
    {
     "data": {
      "text/html": [
       "<div>\n",
       "<style scoped>\n",
       "    .dataframe tbody tr th:only-of-type {\n",
       "        vertical-align: middle;\n",
       "    }\n",
       "\n",
       "    .dataframe tbody tr th {\n",
       "        vertical-align: top;\n",
       "    }\n",
       "\n",
       "    .dataframe thead th {\n",
       "        text-align: right;\n",
       "    }\n",
       "</style>\n",
       "<table border=\"1\" class=\"dataframe\">\n",
       "  <thead>\n",
       "    <tr style=\"text-align: right;\">\n",
       "      <th></th>\n",
       "      <th>age</th>\n",
       "      <th>workclass</th>\n",
       "      <th>fnlwgt</th>\n",
       "      <th>education</th>\n",
       "      <th>education.num</th>\n",
       "      <th>marital.status</th>\n",
       "      <th>occupation</th>\n",
       "      <th>relationship</th>\n",
       "      <th>race</th>\n",
       "      <th>sex</th>\n",
       "      <th>capital.gain</th>\n",
       "      <th>capital.loss</th>\n",
       "      <th>hours.per.week</th>\n",
       "      <th>native.country</th>\n",
       "      <th>income&gt;50K</th>\n",
       "    </tr>\n",
       "  </thead>\n",
       "  <tbody>\n",
       "    <tr>\n",
       "      <th>0</th>\n",
       "      <td>53</td>\n",
       "      <td>Self-emp-not-inc</td>\n",
       "      <td>93449</td>\n",
       "      <td>Prof-school</td>\n",
       "      <td>15</td>\n",
       "      <td>Married-civ-spouse</td>\n",
       "      <td>Prof-specialty</td>\n",
       "      <td>Husband</td>\n",
       "      <td>Asian-Pac-Islander</td>\n",
       "      <td>Male</td>\n",
       "      <td>0</td>\n",
       "      <td>0</td>\n",
       "      <td>40</td>\n",
       "      <td>India</td>\n",
       "      <td>1</td>\n",
       "    </tr>\n",
       "    <tr>\n",
       "      <th>1</th>\n",
       "      <td>33</td>\n",
       "      <td>Self-emp-not-inc</td>\n",
       "      <td>123424</td>\n",
       "      <td>Bachelors</td>\n",
       "      <td>13</td>\n",
       "      <td>Married-civ-spouse</td>\n",
       "      <td>Exec-managerial</td>\n",
       "      <td>Husband</td>\n",
       "      <td>White</td>\n",
       "      <td>Male</td>\n",
       "      <td>0</td>\n",
       "      <td>0</td>\n",
       "      <td>40</td>\n",
       "      <td>United-States</td>\n",
       "      <td>1</td>\n",
       "    </tr>\n",
       "    <tr>\n",
       "      <th>2</th>\n",
       "      <td>47</td>\n",
       "      <td>Private</td>\n",
       "      <td>144844</td>\n",
       "      <td>HS-grad</td>\n",
       "      <td>9</td>\n",
       "      <td>Married-civ-spouse</td>\n",
       "      <td>Craft-repair</td>\n",
       "      <td>Husband</td>\n",
       "      <td>White</td>\n",
       "      <td>Male</td>\n",
       "      <td>0</td>\n",
       "      <td>0</td>\n",
       "      <td>40</td>\n",
       "      <td>United-States</td>\n",
       "      <td>0</td>\n",
       "    </tr>\n",
       "    <tr>\n",
       "      <th>3</th>\n",
       "      <td>40</td>\n",
       "      <td>Private</td>\n",
       "      <td>114580</td>\n",
       "      <td>HS-grad</td>\n",
       "      <td>9</td>\n",
       "      <td>Divorced</td>\n",
       "      <td>Craft-repair</td>\n",
       "      <td>Other-relative</td>\n",
       "      <td>White</td>\n",
       "      <td>Female</td>\n",
       "      <td>0</td>\n",
       "      <td>0</td>\n",
       "      <td>40</td>\n",
       "      <td>Vietnam</td>\n",
       "      <td>0</td>\n",
       "    </tr>\n",
       "    <tr>\n",
       "      <th>4</th>\n",
       "      <td>39</td>\n",
       "      <td>Private</td>\n",
       "      <td>115618</td>\n",
       "      <td>HS-grad</td>\n",
       "      <td>9</td>\n",
       "      <td>Married-civ-spouse</td>\n",
       "      <td>Transport-moving</td>\n",
       "      <td>Husband</td>\n",
       "      <td>White</td>\n",
       "      <td>Male</td>\n",
       "      <td>0</td>\n",
       "      <td>0</td>\n",
       "      <td>50</td>\n",
       "      <td>United-States</td>\n",
       "      <td>0</td>\n",
       "    </tr>\n",
       "  </tbody>\n",
       "</table>\n",
       "</div>"
      ],
      "text/plain": [
       "   age         workclass  fnlwgt    education  education.num  \\\n",
       "0   53  Self-emp-not-inc   93449  Prof-school             15   \n",
       "1   33  Self-emp-not-inc  123424    Bachelors             13   \n",
       "2   47           Private  144844      HS-grad              9   \n",
       "3   40           Private  114580      HS-grad              9   \n",
       "4   39           Private  115618      HS-grad              9   \n",
       "\n",
       "       marital.status        occupation    relationship                race  \\\n",
       "0  Married-civ-spouse    Prof-specialty         Husband  Asian-Pac-Islander   \n",
       "1  Married-civ-spouse   Exec-managerial         Husband               White   \n",
       "2  Married-civ-spouse      Craft-repair         Husband               White   \n",
       "3            Divorced      Craft-repair  Other-relative               White   \n",
       "4  Married-civ-spouse  Transport-moving         Husband               White   \n",
       "\n",
       "      sex  capital.gain  capital.loss  hours.per.week native.country  \\\n",
       "0    Male             0             0              40          India   \n",
       "1    Male             0             0              40  United-States   \n",
       "2    Male             0             0              40  United-States   \n",
       "3  Female             0             0              40        Vietnam   \n",
       "4    Male             0             0              50  United-States   \n",
       "\n",
       "   income>50K  \n",
       "0           1  \n",
       "1           1  \n",
       "2           0  \n",
       "3           0  \n",
       "4           0  "
      ]
     },
     "execution_count": 3,
     "metadata": {},
     "output_type": "execute_result"
    }
   ],
   "source": [
    "train_data.head()"
   ]
  },
  {
   "cell_type": "code",
   "execution_count": 4,
   "id": "3b6a45b8",
   "metadata": {},
   "outputs": [],
   "source": [
    "test_data=test_data.drop('ID',axis=1,inplace=False)"
   ]
  },
  {
   "cell_type": "code",
   "execution_count": 5,
   "id": "c8420c05",
   "metadata": {},
   "outputs": [],
   "source": [
    "train_data['fnlwgt'] = train_data['fnlwgt'].apply(lambda x: np.log1p(x))\n",
    "test_data['fnlwgt'] = test_data['fnlwgt'].apply(lambda x: np.log1p(x))"
   ]
  },
  {
   "cell_type": "code",
   "execution_count": 6,
   "id": "0eb1236b",
   "metadata": {},
   "outputs": [],
   "source": [
    "#Education and Education_num,delete one and keep one\n",
    "train_data = train_data.drop('education',axis=1,inplace=False)"
   ]
  },
  {
   "cell_type": "code",
   "execution_count": 7,
   "id": "ce9a1501",
   "metadata": {},
   "outputs": [],
   "source": [
    "test_data=test_data.drop('education',axis=1,inplace=False)"
   ]
  },
  {
   "cell_type": "code",
   "execution_count": 8,
   "id": "b1924722",
   "metadata": {},
   "outputs": [],
   "source": [
    "train_data.replace('?', np.nan, inplace=True)"
   ]
  },
  {
   "cell_type": "code",
   "execution_count": 9,
   "id": "cea2956a",
   "metadata": {},
   "outputs": [],
   "source": [
    "test_data.replace('?', np.nan, inplace=True)"
   ]
  },
  {
   "cell_type": "code",
   "execution_count": 10,
   "id": "5d4d3cd1",
   "metadata": {},
   "outputs": [
    {
     "data": {
      "text/plain": [
       "age               False\n",
       "workclass          True\n",
       "fnlwgt            False\n",
       "education.num     False\n",
       "marital.status    False\n",
       "occupation         True\n",
       "relationship      False\n",
       "race              False\n",
       "sex               False\n",
       "capital.gain      False\n",
       "capital.loss      False\n",
       "hours.per.week    False\n",
       "native.country     True\n",
       "income>50K        False\n",
       "dtype: bool"
      ]
     },
     "execution_count": 10,
     "metadata": {},
     "output_type": "execute_result"
    }
   ],
   "source": [
    "train_data.isnull().any()"
   ]
  },
  {
   "cell_type": "code",
   "execution_count": 11,
   "id": "b9a997d9",
   "metadata": {},
   "outputs": [],
   "source": [
    "#Workclass Occupation Country: ?\n",
    "test_data[\"workclass\"] = test_data[\"workclass\"].fillna(\"Private\")\n",
    "test_data[\"occupation\"] =test_data[\"occupation\"].fillna(\"Prof-specialty\")\n",
    "test_data[\"native.country\"] =test_data[\"native.country\"].fillna(\"United-States\")"
   ]
  },
  {
   "cell_type": "code",
   "execution_count": 12,
   "id": "2ce9433a",
   "metadata": {},
   "outputs": [],
   "source": [
    "#Workclass Occupation Country :?\n",
    "train_data[\"workclass\"] = train_data[\"workclass\"].fillna(\"Private\")\n",
    "train_data[\"occupation\"] =train_data[\"occupation\"].fillna(\"Prof-specialty\")\n",
    "train_data[\"native.country\"] =train_data[\"native.country\"].fillna(\"United-States\")"
   ]
  },
  {
   "cell_type": "code",
   "execution_count": 13,
   "id": "3ce1359a",
   "metadata": {},
   "outputs": [],
   "source": [
    "def native(country):\n",
    "    if country in ['United-States', 'Cuba']:\n",
    "        return 'US'\n",
    "    elif country in ['England', 'Germany', 'Canada', 'Italy', 'France', 'Greece', 'Philippines']:\n",
    "        return 'Western'\n",
    "    elif country in ['Mexico', 'Puerto-Rico', 'Honduras', 'Jamaica', 'Columbia', 'Laos', 'Portugal', 'Haiti',\n",
    "                     'Dominican-Republic', 'El-Salvador', 'Guatemala', 'Peru', \n",
    "                     'Trinadad&Tobago', 'Outlying-US(Guam-USVI-etc)', 'Nicaragua', 'Vietnam', 'Holand-Netherlands' ]:\n",
    "        return 'Poor' # no offence\n",
    "    elif country in ['India', 'Iran', 'Cambodia', 'Taiwan', 'Japan', 'Yugoslavia', 'China', 'Hong']:\n",
    "        return 'Eastern'\n",
    "    elif country in ['South', 'Poland', 'Ireland', 'Hungary', 'Scotland', 'Thailand', 'Ecuador']:\n",
    "        return 'Poland team'\n",
    "    \n",
    "    else: \n",
    "        return country    "
   ]
  },
  {
   "cell_type": "code",
   "execution_count": 14,
   "id": "c1464161",
   "metadata": {},
   "outputs": [],
   "source": [
    "train_data['native.country'] = train_data['native.country'].apply(native)\n",
    "test_data['native.country'] = test_data['native.country'].apply(native)"
   ]
  },
  {
   "cell_type": "code",
   "execution_count": 15,
   "id": "d284a92c",
   "metadata": {},
   "outputs": [
    {
     "data": {
      "text/plain": [
       "Index(['age', 'workclass', 'fnlwgt', 'education.num', 'marital.status',\n",
       "       'occupation', 'relationship', 'race', 'sex', 'capital.gain',\n",
       "       'capital.loss', 'hours.per.week', 'native.country', 'income>50K'],\n",
       "      dtype='object')"
      ]
     },
     "execution_count": 15,
     "metadata": {},
     "output_type": "execute_result"
    }
   ],
   "source": [
    "train_data.columns"
   ]
  },
  {
   "cell_type": "code",
   "execution_count": 16,
   "id": "f0f3c640",
   "metadata": {},
   "outputs": [],
   "source": [
    "#one-hot encode for train data\n",
    "dummies_sex = pd.get_dummies(train_data['sex'],prefix='sex')\n",
    "dummies_workclass = pd.get_dummies(train_data['workclass'],prefix='wc')\n",
    "dummies_mar_sta = pd.get_dummies(train_data['marital.status'],prefix='ms')\n",
    "dummies_occ = pd.get_dummies(train_data['occupation'],prefix='occ')\n",
    "dummies_rel = pd.get_dummies(train_data['relationship'],prefix='rel')\n",
    "dummies_race = pd.get_dummies(train_data['race'],prefix='race')\n",
    "dummies_country = pd.get_dummies(train_data['native.country'],prefix='cou')\n",
    "\n",
    "train_data = pd.concat([train_data,dummies_sex,dummies_workclass,dummies_mar_sta,dummies_occ,dummies_rel,dummies_race,dummies_country],axis=1)\n",
    "train_data_df = train_data.drop(['sex','workclass','marital.status','occupation','relationship','race','native.country'],axis=1,inplace=False)"
   ]
  },
  {
   "cell_type": "code",
   "execution_count": 17,
   "id": "cca0d383",
   "metadata": {},
   "outputs": [],
   "source": [
    "#one-hot encode for test data\n",
    "dummies_sex = pd.get_dummies(test_data['sex'],prefix='sex')\n",
    "dummies_workclass = pd.get_dummies(test_data['workclass'],prefix='wc')\n",
    "dummies_mar_sta = pd.get_dummies(test_data['marital.status'],prefix='ms')\n",
    "dummies_occ = pd.get_dummies(test_data['occupation'],prefix='occ')\n",
    "dummies_rel = pd.get_dummies(test_data['relationship'],prefix='rel')\n",
    "dummies_race = pd.get_dummies(test_data['race'],prefix='race')\n",
    "dummies_country = pd.get_dummies(test_data['native.country'],prefix='cou')\n",
    "\n",
    "test_data = pd.concat([test_data,dummies_sex,dummies_workclass,dummies_mar_sta,dummies_occ,dummies_rel,dummies_race,dummies_country],axis=1)\n",
    "test_data_df = test_data.drop(['sex','workclass','marital.status','occupation','relationship','race','native.country'],axis=1,inplace=False)"
   ]
  },
  {
   "cell_type": "code",
   "execution_count": 18,
   "id": "fb74fc2a",
   "metadata": {},
   "outputs": [],
   "source": [
    "y_target = train_data_df.pop('income>50K')"
   ]
  },
  {
   "cell_type": "code",
   "execution_count": 19,
   "id": "3235f05a",
   "metadata": {},
   "outputs": [
    {
     "data": {
      "text/plain": [
       "0        1\n",
       "1        1\n",
       "2        0\n",
       "3        0\n",
       "4        0\n",
       "        ..\n",
       "24995    0\n",
       "24996    0\n",
       "24997    0\n",
       "24998    1\n",
       "24999    0\n",
       "Name: income>50K, Length: 25000, dtype: int64"
      ]
     },
     "execution_count": 19,
     "metadata": {},
     "output_type": "execute_result"
    }
   ],
   "source": [
    "y_target"
   ]
  },
  {
   "cell_type": "code",
   "execution_count": 20,
   "id": "262bfa7d",
   "metadata": {},
   "outputs": [],
   "source": [
    "#Capital_Gain and Capital_Loss normalization\n",
    "from sklearn.preprocessing import StandardScaler\n",
    "scaler = StandardScaler()"
   ]
  },
  {
   "cell_type": "code",
   "execution_count": 21,
   "id": "13b6f83a",
   "metadata": {},
   "outputs": [
    {
     "data": {
      "text/html": [
       "<div>\n",
       "<style scoped>\n",
       "    .dataframe tbody tr th:only-of-type {\n",
       "        vertical-align: middle;\n",
       "    }\n",
       "\n",
       "    .dataframe tbody tr th {\n",
       "        vertical-align: top;\n",
       "    }\n",
       "\n",
       "    .dataframe thead th {\n",
       "        text-align: right;\n",
       "    }\n",
       "</style>\n",
       "<table border=\"1\" class=\"dataframe\">\n",
       "  <thead>\n",
       "    <tr style=\"text-align: right;\">\n",
       "      <th></th>\n",
       "      <th>age</th>\n",
       "      <th>fnlwgt</th>\n",
       "      <th>education.num</th>\n",
       "      <th>capital.gain</th>\n",
       "      <th>capital.loss</th>\n",
       "      <th>hours.per.week</th>\n",
       "      <th>sex_Female</th>\n",
       "      <th>sex_Male</th>\n",
       "      <th>wc_Federal-gov</th>\n",
       "      <th>wc_Local-gov</th>\n",
       "      <th>...</th>\n",
       "      <th>race_Amer-Indian-Eskimo</th>\n",
       "      <th>race_Asian-Pac-Islander</th>\n",
       "      <th>race_Black</th>\n",
       "      <th>race_Other</th>\n",
       "      <th>race_White</th>\n",
       "      <th>cou_Eastern</th>\n",
       "      <th>cou_Poland team</th>\n",
       "      <th>cou_Poor</th>\n",
       "      <th>cou_US</th>\n",
       "      <th>cou_Western</th>\n",
       "    </tr>\n",
       "  </thead>\n",
       "  <tbody>\n",
       "    <tr>\n",
       "      <th>0</th>\n",
       "      <td>1.042815</td>\n",
       "      <td>11.445182</td>\n",
       "      <td>1.911731</td>\n",
       "      <td>-0.147005</td>\n",
       "      <td>-0.217501</td>\n",
       "      <td>-0.042502</td>\n",
       "      <td>0</td>\n",
       "      <td>1</td>\n",
       "      <td>0</td>\n",
       "      <td>0</td>\n",
       "      <td>...</td>\n",
       "      <td>0</td>\n",
       "      <td>1</td>\n",
       "      <td>0</td>\n",
       "      <td>0</td>\n",
       "      <td>0</td>\n",
       "      <td>1</td>\n",
       "      <td>0</td>\n",
       "      <td>0</td>\n",
       "      <td>0</td>\n",
       "      <td>0</td>\n",
       "    </tr>\n",
       "    <tr>\n",
       "      <th>1</th>\n",
       "      <td>-0.415003</td>\n",
       "      <td>11.723389</td>\n",
       "      <td>1.135501</td>\n",
       "      <td>-0.147005</td>\n",
       "      <td>-0.217501</td>\n",
       "      <td>-0.042502</td>\n",
       "      <td>0</td>\n",
       "      <td>1</td>\n",
       "      <td>0</td>\n",
       "      <td>0</td>\n",
       "      <td>...</td>\n",
       "      <td>0</td>\n",
       "      <td>0</td>\n",
       "      <td>0</td>\n",
       "      <td>0</td>\n",
       "      <td>1</td>\n",
       "      <td>0</td>\n",
       "      <td>0</td>\n",
       "      <td>0</td>\n",
       "      <td>1</td>\n",
       "      <td>0</td>\n",
       "    </tr>\n",
       "    <tr>\n",
       "      <th>2</th>\n",
       "      <td>0.605470</td>\n",
       "      <td>11.883419</td>\n",
       "      <td>-0.416960</td>\n",
       "      <td>-0.147005</td>\n",
       "      <td>-0.217501</td>\n",
       "      <td>-0.042502</td>\n",
       "      <td>0</td>\n",
       "      <td>1</td>\n",
       "      <td>0</td>\n",
       "      <td>0</td>\n",
       "      <td>...</td>\n",
       "      <td>0</td>\n",
       "      <td>0</td>\n",
       "      <td>0</td>\n",
       "      <td>0</td>\n",
       "      <td>1</td>\n",
       "      <td>0</td>\n",
       "      <td>0</td>\n",
       "      <td>0</td>\n",
       "      <td>1</td>\n",
       "      <td>0</td>\n",
       "    </tr>\n",
       "    <tr>\n",
       "      <th>3</th>\n",
       "      <td>0.095233</td>\n",
       "      <td>11.649037</td>\n",
       "      <td>-0.416960</td>\n",
       "      <td>-0.147005</td>\n",
       "      <td>-0.217501</td>\n",
       "      <td>-0.042502</td>\n",
       "      <td>1</td>\n",
       "      <td>0</td>\n",
       "      <td>0</td>\n",
       "      <td>0</td>\n",
       "      <td>...</td>\n",
       "      <td>0</td>\n",
       "      <td>0</td>\n",
       "      <td>0</td>\n",
       "      <td>0</td>\n",
       "      <td>1</td>\n",
       "      <td>0</td>\n",
       "      <td>0</td>\n",
       "      <td>1</td>\n",
       "      <td>0</td>\n",
       "      <td>0</td>\n",
       "    </tr>\n",
       "    <tr>\n",
       "      <th>4</th>\n",
       "      <td>0.022343</td>\n",
       "      <td>11.658056</td>\n",
       "      <td>-0.416960</td>\n",
       "      <td>-0.147005</td>\n",
       "      <td>-0.217501</td>\n",
       "      <td>0.763076</td>\n",
       "      <td>0</td>\n",
       "      <td>1</td>\n",
       "      <td>0</td>\n",
       "      <td>0</td>\n",
       "      <td>...</td>\n",
       "      <td>0</td>\n",
       "      <td>0</td>\n",
       "      <td>0</td>\n",
       "      <td>0</td>\n",
       "      <td>1</td>\n",
       "      <td>0</td>\n",
       "      <td>0</td>\n",
       "      <td>0</td>\n",
       "      <td>1</td>\n",
       "      <td>0</td>\n",
       "    </tr>\n",
       "    <tr>\n",
       "      <th>...</th>\n",
       "      <td>...</td>\n",
       "      <td>...</td>\n",
       "      <td>...</td>\n",
       "      <td>...</td>\n",
       "      <td>...</td>\n",
       "      <td>...</td>\n",
       "      <td>...</td>\n",
       "      <td>...</td>\n",
       "      <td>...</td>\n",
       "      <td>...</td>\n",
       "      <td>...</td>\n",
       "      <td>...</td>\n",
       "      <td>...</td>\n",
       "      <td>...</td>\n",
       "      <td>...</td>\n",
       "      <td>...</td>\n",
       "      <td>...</td>\n",
       "      <td>...</td>\n",
       "      <td>...</td>\n",
       "      <td>...</td>\n",
       "      <td>...</td>\n",
       "    </tr>\n",
       "    <tr>\n",
       "      <th>24995</th>\n",
       "      <td>-1.508367</td>\n",
       "      <td>11.332027</td>\n",
       "      <td>-0.416960</td>\n",
       "      <td>-0.147005</td>\n",
       "      <td>-0.217501</td>\n",
       "      <td>-1.250870</td>\n",
       "      <td>1</td>\n",
       "      <td>0</td>\n",
       "      <td>0</td>\n",
       "      <td>0</td>\n",
       "      <td>...</td>\n",
       "      <td>0</td>\n",
       "      <td>0</td>\n",
       "      <td>0</td>\n",
       "      <td>0</td>\n",
       "      <td>1</td>\n",
       "      <td>0</td>\n",
       "      <td>0</td>\n",
       "      <td>0</td>\n",
       "      <td>1</td>\n",
       "      <td>0</td>\n",
       "    </tr>\n",
       "    <tr>\n",
       "      <th>24996</th>\n",
       "      <td>1.844615</td>\n",
       "      <td>12.219675</td>\n",
       "      <td>-0.416960</td>\n",
       "      <td>-0.147005</td>\n",
       "      <td>-0.217501</td>\n",
       "      <td>-0.445292</td>\n",
       "      <td>1</td>\n",
       "      <td>0</td>\n",
       "      <td>0</td>\n",
       "      <td>1</td>\n",
       "      <td>...</td>\n",
       "      <td>0</td>\n",
       "      <td>0</td>\n",
       "      <td>0</td>\n",
       "      <td>0</td>\n",
       "      <td>1</td>\n",
       "      <td>0</td>\n",
       "      <td>0</td>\n",
       "      <td>0</td>\n",
       "      <td>1</td>\n",
       "      <td>0</td>\n",
       "    </tr>\n",
       "    <tr>\n",
       "      <th>24997</th>\n",
       "      <td>0.022343</td>\n",
       "      <td>12.326275</td>\n",
       "      <td>1.523616</td>\n",
       "      <td>-0.147005</td>\n",
       "      <td>-0.217501</td>\n",
       "      <td>-0.042502</td>\n",
       "      <td>0</td>\n",
       "      <td>1</td>\n",
       "      <td>0</td>\n",
       "      <td>0</td>\n",
       "      <td>...</td>\n",
       "      <td>0</td>\n",
       "      <td>0</td>\n",
       "      <td>0</td>\n",
       "      <td>0</td>\n",
       "      <td>1</td>\n",
       "      <td>0</td>\n",
       "      <td>1</td>\n",
       "      <td>0</td>\n",
       "      <td>0</td>\n",
       "      <td>0</td>\n",
       "    </tr>\n",
       "    <tr>\n",
       "      <th>24998</th>\n",
       "      <td>1.042815</td>\n",
       "      <td>12.756711</td>\n",
       "      <td>-0.416960</td>\n",
       "      <td>0.486620</td>\n",
       "      <td>-0.217501</td>\n",
       "      <td>0.440845</td>\n",
       "      <td>0</td>\n",
       "      <td>1</td>\n",
       "      <td>0</td>\n",
       "      <td>0</td>\n",
       "      <td>...</td>\n",
       "      <td>0</td>\n",
       "      <td>0</td>\n",
       "      <td>0</td>\n",
       "      <td>0</td>\n",
       "      <td>1</td>\n",
       "      <td>0</td>\n",
       "      <td>0</td>\n",
       "      <td>0</td>\n",
       "      <td>1</td>\n",
       "      <td>0</td>\n",
       "    </tr>\n",
       "    <tr>\n",
       "      <th>24999</th>\n",
       "      <td>-1.508367</td>\n",
       "      <td>12.166926</td>\n",
       "      <td>-0.028845</td>\n",
       "      <td>-0.147005</td>\n",
       "      <td>-0.217501</td>\n",
       "      <td>-0.042502</td>\n",
       "      <td>0</td>\n",
       "      <td>1</td>\n",
       "      <td>0</td>\n",
       "      <td>0</td>\n",
       "      <td>...</td>\n",
       "      <td>0</td>\n",
       "      <td>0</td>\n",
       "      <td>0</td>\n",
       "      <td>0</td>\n",
       "      <td>1</td>\n",
       "      <td>0</td>\n",
       "      <td>0</td>\n",
       "      <td>0</td>\n",
       "      <td>1</td>\n",
       "      <td>0</td>\n",
       "    </tr>\n",
       "  </tbody>\n",
       "</table>\n",
       "<p>25000 rows × 53 columns</p>\n",
       "</div>"
      ],
      "text/plain": [
       "            age     fnlwgt  education.num  capital.gain  capital.loss  \\\n",
       "0      1.042815  11.445182       1.911731     -0.147005     -0.217501   \n",
       "1     -0.415003  11.723389       1.135501     -0.147005     -0.217501   \n",
       "2      0.605470  11.883419      -0.416960     -0.147005     -0.217501   \n",
       "3      0.095233  11.649037      -0.416960     -0.147005     -0.217501   \n",
       "4      0.022343  11.658056      -0.416960     -0.147005     -0.217501   \n",
       "...         ...        ...            ...           ...           ...   \n",
       "24995 -1.508367  11.332027      -0.416960     -0.147005     -0.217501   \n",
       "24996  1.844615  12.219675      -0.416960     -0.147005     -0.217501   \n",
       "24997  0.022343  12.326275       1.523616     -0.147005     -0.217501   \n",
       "24998  1.042815  12.756711      -0.416960      0.486620     -0.217501   \n",
       "24999 -1.508367  12.166926      -0.028845     -0.147005     -0.217501   \n",
       "\n",
       "       hours.per.week  sex_Female  sex_Male  wc_Federal-gov  wc_Local-gov  \\\n",
       "0           -0.042502           0         1               0             0   \n",
       "1           -0.042502           0         1               0             0   \n",
       "2           -0.042502           0         1               0             0   \n",
       "3           -0.042502           1         0               0             0   \n",
       "4            0.763076           0         1               0             0   \n",
       "...               ...         ...       ...             ...           ...   \n",
       "24995       -1.250870           1         0               0             0   \n",
       "24996       -0.445292           1         0               0             1   \n",
       "24997       -0.042502           0         1               0             0   \n",
       "24998        0.440845           0         1               0             0   \n",
       "24999       -0.042502           0         1               0             0   \n",
       "\n",
       "       ...  race_Amer-Indian-Eskimo  race_Asian-Pac-Islander  race_Black  \\\n",
       "0      ...                        0                        1           0   \n",
       "1      ...                        0                        0           0   \n",
       "2      ...                        0                        0           0   \n",
       "3      ...                        0                        0           0   \n",
       "4      ...                        0                        0           0   \n",
       "...    ...                      ...                      ...         ...   \n",
       "24995  ...                        0                        0           0   \n",
       "24996  ...                        0                        0           0   \n",
       "24997  ...                        0                        0           0   \n",
       "24998  ...                        0                        0           0   \n",
       "24999  ...                        0                        0           0   \n",
       "\n",
       "       race_Other  race_White  cou_Eastern  cou_Poland team  cou_Poor  cou_US  \\\n",
       "0               0           0            1                0         0       0   \n",
       "1               0           1            0                0         0       1   \n",
       "2               0           1            0                0         0       1   \n",
       "3               0           1            0                0         1       0   \n",
       "4               0           1            0                0         0       1   \n",
       "...           ...         ...          ...              ...       ...     ...   \n",
       "24995           0           1            0                0         0       1   \n",
       "24996           0           1            0                0         0       1   \n",
       "24997           0           1            0                1         0       0   \n",
       "24998           0           1            0                0         0       1   \n",
       "24999           0           1            0                0         0       1   \n",
       "\n",
       "       cou_Western  \n",
       "0                0  \n",
       "1                0  \n",
       "2                0  \n",
       "3                0  \n",
       "4                0  \n",
       "...            ...  \n",
       "24995            0  \n",
       "24996            0  \n",
       "24997            0  \n",
       "24998            0  \n",
       "24999            0  \n",
       "\n",
       "[25000 rows x 53 columns]"
      ]
     },
     "execution_count": 21,
     "metadata": {},
     "output_type": "execute_result"
    }
   ],
   "source": [
    "train_data_df['capital.gain'] = scaler.fit(train_data_df['capital.gain'].values.reshape(-1,1)).transform(train_data_df['capital.gain'].values.reshape(-1,1))\n",
    "train_data_df['capital.loss'] = scaler.fit(train_data_df['capital.loss'].values.reshape(-1,1)).transform(train_data_df['capital.loss'].values.reshape(-1,1))\n",
    "\n",
    "train_data_df['age'] = scaler.fit(train_data_df['age'].values.reshape(-1,1)).transform(train_data_df['age'].values.reshape(-1,1))\n",
    "train_data_df['education.num'] = scaler.fit(train_data_df['education.num'].values.reshape(-1,1)).transform(train_data_df['education.num'].values.reshape(-1,1))\n",
    "train_data_df['hours.per.week'] = scaler.fit(train_data_df['hours.per.week'].values.reshape(-1,1)).transform(train_data_df['hours.per.week'].values.reshape(-1,1))\n",
    "\n",
    "train_data_df"
   ]
  },
  {
   "cell_type": "code",
   "execution_count": 23,
   "id": "a578d294",
   "metadata": {},
   "outputs": [
    {
     "data": {
      "text/html": [
       "<div>\n",
       "<style scoped>\n",
       "    .dataframe tbody tr th:only-of-type {\n",
       "        vertical-align: middle;\n",
       "    }\n",
       "\n",
       "    .dataframe tbody tr th {\n",
       "        vertical-align: top;\n",
       "    }\n",
       "\n",
       "    .dataframe thead th {\n",
       "        text-align: right;\n",
       "    }\n",
       "</style>\n",
       "<table border=\"1\" class=\"dataframe\">\n",
       "  <thead>\n",
       "    <tr style=\"text-align: right;\">\n",
       "      <th></th>\n",
       "      <th>age</th>\n",
       "      <th>fnlwgt</th>\n",
       "      <th>education.num</th>\n",
       "      <th>capital.gain</th>\n",
       "      <th>capital.loss</th>\n",
       "      <th>hours.per.week</th>\n",
       "      <th>sex_Female</th>\n",
       "      <th>sex_Male</th>\n",
       "      <th>wc_Federal-gov</th>\n",
       "      <th>wc_Local-gov</th>\n",
       "      <th>...</th>\n",
       "      <th>race_Amer-Indian-Eskimo</th>\n",
       "      <th>race_Asian-Pac-Islander</th>\n",
       "      <th>race_Black</th>\n",
       "      <th>race_Other</th>\n",
       "      <th>race_White</th>\n",
       "      <th>cou_Eastern</th>\n",
       "      <th>cou_Poland team</th>\n",
       "      <th>cou_Poor</th>\n",
       "      <th>cou_US</th>\n",
       "      <th>cou_Western</th>\n",
       "    </tr>\n",
       "  </thead>\n",
       "  <tbody>\n",
       "    <tr>\n",
       "      <th>0</th>\n",
       "      <td>-0.408092</td>\n",
       "      <td>12.311167</td>\n",
       "      <td>-0.421840</td>\n",
       "      <td>-0.142462</td>\n",
       "      <td>-0.216745</td>\n",
       "      <td>-0.025233</td>\n",
       "      <td>0</td>\n",
       "      <td>1</td>\n",
       "      <td>0</td>\n",
       "      <td>0</td>\n",
       "      <td>...</td>\n",
       "      <td>0</td>\n",
       "      <td>0</td>\n",
       "      <td>0</td>\n",
       "      <td>0</td>\n",
       "      <td>1</td>\n",
       "      <td>0</td>\n",
       "      <td>0</td>\n",
       "      <td>0</td>\n",
       "      <td>1</td>\n",
       "      <td>0</td>\n",
       "    </tr>\n",
       "    <tr>\n",
       "      <th>1</th>\n",
       "      <td>2.146469</td>\n",
       "      <td>10.283327</td>\n",
       "      <td>-0.421840</td>\n",
       "      <td>-0.142462</td>\n",
       "      <td>-0.216745</td>\n",
       "      <td>-2.289301</td>\n",
       "      <td>1</td>\n",
       "      <td>0</td>\n",
       "      <td>0</td>\n",
       "      <td>0</td>\n",
       "      <td>...</td>\n",
       "      <td>0</td>\n",
       "      <td>0</td>\n",
       "      <td>0</td>\n",
       "      <td>0</td>\n",
       "      <td>1</td>\n",
       "      <td>0</td>\n",
       "      <td>0</td>\n",
       "      <td>0</td>\n",
       "      <td>1</td>\n",
       "      <td>0</td>\n",
       "    </tr>\n",
       "    <tr>\n",
       "      <th>2</th>\n",
       "      <td>-0.335105</td>\n",
       "      <td>11.548264</td>\n",
       "      <td>-0.421840</td>\n",
       "      <td>-0.142462</td>\n",
       "      <td>-0.216745</td>\n",
       "      <td>-0.025233</td>\n",
       "      <td>0</td>\n",
       "      <td>1</td>\n",
       "      <td>0</td>\n",
       "      <td>0</td>\n",
       "      <td>...</td>\n",
       "      <td>0</td>\n",
       "      <td>0</td>\n",
       "      <td>0</td>\n",
       "      <td>0</td>\n",
       "      <td>1</td>\n",
       "      <td>0</td>\n",
       "      <td>0</td>\n",
       "      <td>0</td>\n",
       "      <td>1</td>\n",
       "      <td>0</td>\n",
       "    </tr>\n",
       "    <tr>\n",
       "      <th>3</th>\n",
       "      <td>1.343607</td>\n",
       "      <td>11.546399</td>\n",
       "      <td>-2.760980</td>\n",
       "      <td>-0.142462</td>\n",
       "      <td>-0.216745</td>\n",
       "      <td>-0.025233</td>\n",
       "      <td>0</td>\n",
       "      <td>1</td>\n",
       "      <td>0</td>\n",
       "      <td>0</td>\n",
       "      <td>...</td>\n",
       "      <td>0</td>\n",
       "      <td>0</td>\n",
       "      <td>0</td>\n",
       "      <td>0</td>\n",
       "      <td>1</td>\n",
       "      <td>0</td>\n",
       "      <td>0</td>\n",
       "      <td>0</td>\n",
       "      <td>1</td>\n",
       "      <td>0</td>\n",
       "    </tr>\n",
       "    <tr>\n",
       "      <th>4</th>\n",
       "      <td>0.686720</td>\n",
       "      <td>11.937644</td>\n",
       "      <td>-0.031984</td>\n",
       "      <td>-0.142462</td>\n",
       "      <td>-0.216745</td>\n",
       "      <td>-0.025233</td>\n",
       "      <td>1</td>\n",
       "      <td>0</td>\n",
       "      <td>0</td>\n",
       "      <td>0</td>\n",
       "      <td>...</td>\n",
       "      <td>0</td>\n",
       "      <td>0</td>\n",
       "      <td>0</td>\n",
       "      <td>0</td>\n",
       "      <td>1</td>\n",
       "      <td>0</td>\n",
       "      <td>0</td>\n",
       "      <td>0</td>\n",
       "      <td>1</td>\n",
       "      <td>0</td>\n",
       "    </tr>\n",
       "    <tr>\n",
       "      <th>...</th>\n",
       "      <td>...</td>\n",
       "      <td>...</td>\n",
       "      <td>...</td>\n",
       "      <td>...</td>\n",
       "      <td>...</td>\n",
       "      <td>...</td>\n",
       "      <td>...</td>\n",
       "      <td>...</td>\n",
       "      <td>...</td>\n",
       "      <td>...</td>\n",
       "      <td>...</td>\n",
       "      <td>...</td>\n",
       "      <td>...</td>\n",
       "      <td>...</td>\n",
       "      <td>...</td>\n",
       "      <td>...</td>\n",
       "      <td>...</td>\n",
       "      <td>...</td>\n",
       "      <td>...</td>\n",
       "      <td>...</td>\n",
       "      <td>...</td>\n",
       "    </tr>\n",
       "    <tr>\n",
       "      <th>23837</th>\n",
       "      <td>-0.919005</td>\n",
       "      <td>10.678422</td>\n",
       "      <td>1.137586</td>\n",
       "      <td>-0.142462</td>\n",
       "      <td>-0.216745</td>\n",
       "      <td>-0.025233</td>\n",
       "      <td>0</td>\n",
       "      <td>1</td>\n",
       "      <td>0</td>\n",
       "      <td>0</td>\n",
       "      <td>...</td>\n",
       "      <td>0</td>\n",
       "      <td>0</td>\n",
       "      <td>0</td>\n",
       "      <td>0</td>\n",
       "      <td>1</td>\n",
       "      <td>0</td>\n",
       "      <td>0</td>\n",
       "      <td>0</td>\n",
       "      <td>1</td>\n",
       "      <td>0</td>\n",
       "    </tr>\n",
       "    <tr>\n",
       "      <th>23838</th>\n",
       "      <td>-0.846017</td>\n",
       "      <td>11.664556</td>\n",
       "      <td>1.137586</td>\n",
       "      <td>-0.142462</td>\n",
       "      <td>-0.216745</td>\n",
       "      <td>-0.025233</td>\n",
       "      <td>1</td>\n",
       "      <td>0</td>\n",
       "      <td>0</td>\n",
       "      <td>0</td>\n",
       "      <td>...</td>\n",
       "      <td>0</td>\n",
       "      <td>0</td>\n",
       "      <td>0</td>\n",
       "      <td>0</td>\n",
       "      <td>1</td>\n",
       "      <td>0</td>\n",
       "      <td>0</td>\n",
       "      <td>0</td>\n",
       "      <td>1</td>\n",
       "      <td>0</td>\n",
       "    </tr>\n",
       "    <tr>\n",
       "      <th>23839</th>\n",
       "      <td>2.073482</td>\n",
       "      <td>12.114955</td>\n",
       "      <td>-0.031984</td>\n",
       "      <td>2.588446</td>\n",
       "      <td>-0.216745</td>\n",
       "      <td>-1.642424</td>\n",
       "      <td>0</td>\n",
       "      <td>1</td>\n",
       "      <td>0</td>\n",
       "      <td>0</td>\n",
       "      <td>...</td>\n",
       "      <td>0</td>\n",
       "      <td>0</td>\n",
       "      <td>0</td>\n",
       "      <td>0</td>\n",
       "      <td>1</td>\n",
       "      <td>0</td>\n",
       "      <td>0</td>\n",
       "      <td>0</td>\n",
       "      <td>1</td>\n",
       "      <td>0</td>\n",
       "    </tr>\n",
       "    <tr>\n",
       "      <th>23840</th>\n",
       "      <td>0.540745</td>\n",
       "      <td>12.523398</td>\n",
       "      <td>0.747729</td>\n",
       "      <td>-0.142462</td>\n",
       "      <td>-0.216745</td>\n",
       "      <td>-0.025233</td>\n",
       "      <td>0</td>\n",
       "      <td>1</td>\n",
       "      <td>0</td>\n",
       "      <td>1</td>\n",
       "      <td>...</td>\n",
       "      <td>0</td>\n",
       "      <td>0</td>\n",
       "      <td>0</td>\n",
       "      <td>0</td>\n",
       "      <td>1</td>\n",
       "      <td>0</td>\n",
       "      <td>0</td>\n",
       "      <td>0</td>\n",
       "      <td>1</td>\n",
       "      <td>0</td>\n",
       "    </tr>\n",
       "    <tr>\n",
       "      <th>23841</th>\n",
       "      <td>2.000494</td>\n",
       "      <td>10.765512</td>\n",
       "      <td>-1.591410</td>\n",
       "      <td>0.330282</td>\n",
       "      <td>-0.216745</td>\n",
       "      <td>-0.025233</td>\n",
       "      <td>0</td>\n",
       "      <td>1</td>\n",
       "      <td>1</td>\n",
       "      <td>0</td>\n",
       "      <td>...</td>\n",
       "      <td>0</td>\n",
       "      <td>0</td>\n",
       "      <td>0</td>\n",
       "      <td>0</td>\n",
       "      <td>1</td>\n",
       "      <td>0</td>\n",
       "      <td>0</td>\n",
       "      <td>0</td>\n",
       "      <td>1</td>\n",
       "      <td>0</td>\n",
       "    </tr>\n",
       "  </tbody>\n",
       "</table>\n",
       "<p>23842 rows × 53 columns</p>\n",
       "</div>"
      ],
      "text/plain": [
       "            age     fnlwgt  education.num  capital.gain  capital.loss  \\\n",
       "0     -0.408092  12.311167      -0.421840     -0.142462     -0.216745   \n",
       "1      2.146469  10.283327      -0.421840     -0.142462     -0.216745   \n",
       "2     -0.335105  11.548264      -0.421840     -0.142462     -0.216745   \n",
       "3      1.343607  11.546399      -2.760980     -0.142462     -0.216745   \n",
       "4      0.686720  11.937644      -0.031984     -0.142462     -0.216745   \n",
       "...         ...        ...            ...           ...           ...   \n",
       "23837 -0.919005  10.678422       1.137586     -0.142462     -0.216745   \n",
       "23838 -0.846017  11.664556       1.137586     -0.142462     -0.216745   \n",
       "23839  2.073482  12.114955      -0.031984      2.588446     -0.216745   \n",
       "23840  0.540745  12.523398       0.747729     -0.142462     -0.216745   \n",
       "23841  2.000494  10.765512      -1.591410      0.330282     -0.216745   \n",
       "\n",
       "       hours.per.week  sex_Female  sex_Male  wc_Federal-gov  wc_Local-gov  \\\n",
       "0           -0.025233           0         1               0             0   \n",
       "1           -2.289301           1         0               0             0   \n",
       "2           -0.025233           0         1               0             0   \n",
       "3           -0.025233           0         1               0             0   \n",
       "4           -0.025233           1         0               0             0   \n",
       "...               ...         ...       ...             ...           ...   \n",
       "23837       -0.025233           0         1               0             0   \n",
       "23838       -0.025233           1         0               0             0   \n",
       "23839       -1.642424           0         1               0             0   \n",
       "23840       -0.025233           0         1               0             1   \n",
       "23841       -0.025233           0         1               1             0   \n",
       "\n",
       "       ...  race_Amer-Indian-Eskimo  race_Asian-Pac-Islander  race_Black  \\\n",
       "0      ...                        0                        0           0   \n",
       "1      ...                        0                        0           0   \n",
       "2      ...                        0                        0           0   \n",
       "3      ...                        0                        0           0   \n",
       "4      ...                        0                        0           0   \n",
       "...    ...                      ...                      ...         ...   \n",
       "23837  ...                        0                        0           0   \n",
       "23838  ...                        0                        0           0   \n",
       "23839  ...                        0                        0           0   \n",
       "23840  ...                        0                        0           0   \n",
       "23841  ...                        0                        0           0   \n",
       "\n",
       "       race_Other  race_White  cou_Eastern  cou_Poland team  cou_Poor  cou_US  \\\n",
       "0               0           1            0                0         0       1   \n",
       "1               0           1            0                0         0       1   \n",
       "2               0           1            0                0         0       1   \n",
       "3               0           1            0                0         0       1   \n",
       "4               0           1            0                0         0       1   \n",
       "...           ...         ...          ...              ...       ...     ...   \n",
       "23837           0           1            0                0         0       1   \n",
       "23838           0           1            0                0         0       1   \n",
       "23839           0           1            0                0         0       1   \n",
       "23840           0           1            0                0         0       1   \n",
       "23841           0           1            0                0         0       1   \n",
       "\n",
       "       cou_Western  \n",
       "0                0  \n",
       "1                0  \n",
       "2                0  \n",
       "3                0  \n",
       "4                0  \n",
       "...            ...  \n",
       "23837            0  \n",
       "23838            0  \n",
       "23839            0  \n",
       "23840            0  \n",
       "23841            0  \n",
       "\n",
       "[23842 rows x 53 columns]"
      ]
     },
     "execution_count": 23,
     "metadata": {},
     "output_type": "execute_result"
    }
   ],
   "source": [
    "test_data_df['capital.gain'] = scaler.fit(test_data_df['capital.gain'].values.reshape(-1,1)).transform(test_data_df['capital.gain'].values.reshape(-1,1))\n",
    "test_data_df['capital.loss'] = scaler.fit(test_data_df['capital.loss'].values.reshape(-1,1)).transform(test_data_df['capital.loss'].values.reshape(-1,1))\n",
    "\n",
    "test_data_df['age'] = scaler.fit(test_data_df['age'].values.reshape(-1,1)).transform(test_data_df['age'].values.reshape(-1,1))\n",
    "test_data_df['education.num'] = scaler.fit(test_data_df['education.num'].values.reshape(-1,1)).transform(test_data_df['education.num'].values.reshape(-1,1))\n",
    "test_data_df['hours.per.week'] = scaler.fit(test_data_df['hours.per.week'].values.reshape(-1,1)).transform(test_data_df['hours.per.week'].values.reshape(-1,1))\n",
    "\n",
    "test_data_df"
   ]
  },
  {
   "cell_type": "code",
   "execution_count": 25,
   "id": "7dd2d105",
   "metadata": {},
   "outputs": [],
   "source": [
    "train_df = train_data_df.values\n",
    "train_target = y_target.values"
   ]
  },
  {
   "cell_type": "code",
   "execution_count": 26,
   "id": "a2057d4a",
   "metadata": {},
   "outputs": [],
   "source": [
    "test_df = test_data_df.values"
   ]
  },
  {
   "cell_type": "code",
   "execution_count": 74,
   "id": "98a8acd3",
   "metadata": {},
   "outputs": [],
   "source": [
    "import sklearn\n",
    "from sklearn.model_selection import cross_val_score\n",
    "from sklearn.ensemble import GradientBoostingClassifier\n",
    "from sklearn.ensemble import BaggingClassifier\n",
    "from sklearn.preprocessing import StandardScaler\n",
    "from sklearn.model_selection import train_test_split\n",
    "from sklearn import metrics\n",
    "from sklearn.naive_bayes import GaussianNB\n",
    "from sklearn.tree import DecisionTreeClassifier\n",
    "from sklearn.ensemble import RandomForestClassifier\n",
    "from sklearn.neighbors import KNeighborsClassifier\n",
    "from sklearn.linear_model import LogisticRegression\n",
    "from sklearn.svm import SVC\n",
    "import xgboost as xgb "
   ]
  },
  {
   "cell_type": "code",
   "execution_count": 28,
   "id": "c9cfbab2",
   "metadata": {},
   "outputs": [],
   "source": [
    "# two ways hyperparameters turning\n",
    "from sklearn.model_selection import GridSearchCV\n",
    "from sklearn.model_selection import RandomizedSearchCV"
   ]
  },
  {
   "cell_type": "code",
   "execution_count": null,
   "id": "733b743c",
   "metadata": {},
   "outputs": [],
   "source": [
    "# I run this on colab pro, it took so long\n",
    "param_grid ={'n_estimators':[20,50,80,120,200],'learning_rate':[0.05,0.1,0.5,1],'max_depth':[1,3,5,10]}\n",
    "grid_search=GridSearchCV(GradientBoostingClassifier(),param_grid,cv=10)\n",
    "\n",
    "grid_search.fit(train_df,train_target)\n",
    "\n",
    "grid_search.best_params_,grid_search.best_score_"
   ]
  },
  {
   "cell_type": "code",
   "execution_count": 30,
   "id": "d31b9802",
   "metadata": {},
   "outputs": [
    {
     "data": {
      "text/plain": [
       "GradientBoostingClassifier(max_depth=5, n_estimators=200)"
      ]
     },
     "execution_count": 30,
     "metadata": {},
     "output_type": "execute_result"
    }
   ],
   "source": [
    "#GradientBoostingClassifier\n",
    "gbt = GradientBoostingClassifier(n_estimators=200,learning_rate=0.1,max_depth=5)\n",
    "gbt.fit(train_df,train_target)"
   ]
  },
  {
   "cell_type": "code",
   "execution_count": 31,
   "id": "5a19a70e",
   "metadata": {},
   "outputs": [],
   "source": [
    "score = cross_val_score(gbt,train_df,train_target,cv=5)"
   ]
  },
  {
   "cell_type": "code",
   "execution_count": 32,
   "id": "4464dff3",
   "metadata": {},
   "outputs": [
    {
     "data": {
      "text/plain": [
       "0.8741999999999999"
      ]
     },
     "execution_count": 32,
     "metadata": {},
     "output_type": "execute_result"
    }
   ],
   "source": [
    "score.mean()"
   ]
  },
  {
   "cell_type": "code",
   "execution_count": 33,
   "id": "c97df772",
   "metadata": {},
   "outputs": [],
   "source": [
    "new_test_data = pd.read_csv(\"test_final.csv\")\n",
    "idx=new_test_data.iloc[:,0].to_numpy()"
   ]
  },
  {
   "cell_type": "code",
   "execution_count": 34,
   "id": "144071da",
   "metadata": {},
   "outputs": [],
   "source": [
    "prediction = gbt.predict_proba(test_df)[:,1]\n",
    "submissions = pd.DataFrame({'ID':idx, 'Prediction':prediction})"
   ]
  },
  {
   "cell_type": "code",
   "execution_count": 36,
   "id": "4ea53001",
   "metadata": {},
   "outputs": [],
   "source": [
    "submissions.to_csv('submission01.csv', index=False)"
   ]
  },
  {
   "cell_type": "code",
   "execution_count": 37,
   "id": "a94e1abf",
   "metadata": {},
   "outputs": [],
   "source": [
    "submission2 = pd.read_csv('submission01.csv')"
   ]
  },
  {
   "cell_type": "code",
   "execution_count": 38,
   "id": "35dfb814",
   "metadata": {},
   "outputs": [
    {
     "data": {
      "text/html": [
       "<div>\n",
       "<style scoped>\n",
       "    .dataframe tbody tr th:only-of-type {\n",
       "        vertical-align: middle;\n",
       "    }\n",
       "\n",
       "    .dataframe tbody tr th {\n",
       "        vertical-align: top;\n",
       "    }\n",
       "\n",
       "    .dataframe thead th {\n",
       "        text-align: right;\n",
       "    }\n",
       "</style>\n",
       "<table border=\"1\" class=\"dataframe\">\n",
       "  <thead>\n",
       "    <tr style=\"text-align: right;\">\n",
       "      <th></th>\n",
       "      <th>ID</th>\n",
       "      <th>Prediction</th>\n",
       "    </tr>\n",
       "  </thead>\n",
       "  <tbody>\n",
       "    <tr>\n",
       "      <th>0</th>\n",
       "      <td>1</td>\n",
       "      <td>0.153794</td>\n",
       "    </tr>\n",
       "    <tr>\n",
       "      <th>1</th>\n",
       "      <td>2</td>\n",
       "      <td>0.020585</td>\n",
       "    </tr>\n",
       "    <tr>\n",
       "      <th>2</th>\n",
       "      <td>3</td>\n",
       "      <td>0.087426</td>\n",
       "    </tr>\n",
       "    <tr>\n",
       "      <th>3</th>\n",
       "      <td>4</td>\n",
       "      <td>0.147690</td>\n",
       "    </tr>\n",
       "    <tr>\n",
       "      <th>4</th>\n",
       "      <td>5</td>\n",
       "      <td>0.043348</td>\n",
       "    </tr>\n",
       "    <tr>\n",
       "      <th>...</th>\n",
       "      <td>...</td>\n",
       "      <td>...</td>\n",
       "    </tr>\n",
       "    <tr>\n",
       "      <th>23837</th>\n",
       "      <td>23838</td>\n",
       "      <td>0.219908</td>\n",
       "    </tr>\n",
       "    <tr>\n",
       "      <th>23838</th>\n",
       "      <td>23839</td>\n",
       "      <td>0.022927</td>\n",
       "    </tr>\n",
       "    <tr>\n",
       "      <th>23839</th>\n",
       "      <td>23840</td>\n",
       "      <td>0.914590</td>\n",
       "    </tr>\n",
       "    <tr>\n",
       "      <th>23840</th>\n",
       "      <td>23841</td>\n",
       "      <td>0.197572</td>\n",
       "    </tr>\n",
       "    <tr>\n",
       "      <th>23841</th>\n",
       "      <td>23842</td>\n",
       "      <td>0.028757</td>\n",
       "    </tr>\n",
       "  </tbody>\n",
       "</table>\n",
       "<p>23842 rows × 2 columns</p>\n",
       "</div>"
      ],
      "text/plain": [
       "          ID  Prediction\n",
       "0          1    0.153794\n",
       "1          2    0.020585\n",
       "2          3    0.087426\n",
       "3          4    0.147690\n",
       "4          5    0.043348\n",
       "...      ...         ...\n",
       "23837  23838    0.219908\n",
       "23838  23839    0.022927\n",
       "23839  23840    0.914590\n",
       "23840  23841    0.197572\n",
       "23841  23842    0.028757\n",
       "\n",
       "[23842 rows x 2 columns]"
      ]
     },
     "execution_count": 38,
     "metadata": {},
     "output_type": "execute_result"
    }
   ],
   "source": [
    "submission2"
   ]
  },
  {
   "cell_type": "code",
   "execution_count": null,
   "id": "81c8f326",
   "metadata": {},
   "outputs": [],
   "source": []
  },
  {
   "cell_type": "code",
   "execution_count": 92,
   "id": "b03c0a19",
   "metadata": {},
   "outputs": [],
   "source": [
    "param_dist = {'n_estimators':range(50,200,2), 'max_depth' : range(1,14,3),}"
   ]
  },
  {
   "cell_type": "code",
   "execution_count": 93,
   "id": "c8061ae1",
   "metadata": {},
   "outputs": [
    {
     "name": "stdout",
     "output_type": "stream",
     "text": [
      "Fitting 10 folds for each of 50 candidates, totalling 500 fits\n"
     ]
    },
    {
     "data": {
      "text/plain": [
       "RandomizedSearchCV(cv=10, estimator=GradientBoostingClassifier(), n_iter=50,\n",
       "                   n_jobs=-1,\n",
       "                   param_distributions={'max_depth': range(1, 14, 3),\n",
       "                                        'n_estimators': range(50, 200, 2)},\n",
       "                   random_state=42, verbose=2)"
      ]
     },
     "execution_count": 93,
     "metadata": {},
     "output_type": "execute_result"
    }
   ],
   "source": [
    "rand_grid_search=RandomizedSearchCV(GradientBoostingClassifier(),param_dist,cv=10,n_iter=50,\n",
    "                                  verbose=2,random_state=42,n_jobs=-1)\n",
    "rand_grid_search.fit(train_df,train_target)\n",
    "\n",
    "#rand_grid_search.best_params_"
   ]
  },
  {
   "cell_type": "code",
   "execution_count": 94,
   "id": "36e7d733",
   "metadata": {},
   "outputs": [
    {
     "name": "stdout",
     "output_type": "stream",
     "text": [
      "Fitting 10 folds for each of 50 candidates, totalling 500 fits\n",
      "Fitting 10 folds for each of 50 candidates, totalling 500 fits\n",
      "Fitting 10 folds for each of 50 candidates, totalling 500 fits\n",
      "Fitting 10 folds for each of 50 candidates, totalling 500 fits\n",
      "Fitting 10 folds for each of 50 candidates, totalling 500 fits\n"
     ]
    }
   ],
   "source": [
    "score = cross_val_score(rand_grid_search,train_df,train_target,cv=5)"
   ]
  },
  {
   "cell_type": "code",
   "execution_count": 95,
   "id": "11da8d22",
   "metadata": {},
   "outputs": [
    {
     "data": {
      "text/plain": [
       "0.8751200000000001"
      ]
     },
     "execution_count": 95,
     "metadata": {},
     "output_type": "execute_result"
    }
   ],
   "source": [
    "score.mean()"
   ]
  },
  {
   "cell_type": "code",
   "execution_count": 96,
   "id": "0cb34cc0",
   "metadata": {},
   "outputs": [],
   "source": [
    "predictions = rand_grid_search.predict_proba(test_df)[:,1]"
   ]
  },
  {
   "cell_type": "code",
   "execution_count": 97,
   "id": "b4f0fb06",
   "metadata": {},
   "outputs": [],
   "source": [
    "submissions = pd.DataFrame({'ID':idx, 'Prediction':predictions})"
   ]
  },
  {
   "cell_type": "code",
   "execution_count": 98,
   "id": "3d8ed000",
   "metadata": {},
   "outputs": [],
   "source": [
    "submissions.to_csv('submission02.csv', index=False)"
   ]
  },
  {
   "cell_type": "code",
   "execution_count": null,
   "id": "7089e89d",
   "metadata": {},
   "outputs": [],
   "source": []
  },
  {
   "cell_type": "markdown",
   "id": "f137725d",
   "metadata": {},
   "source": [
    "Split the dataset as validation"
   ]
  },
  {
   "cell_type": "code",
   "execution_count": 81,
   "id": "74762d47",
   "metadata": {},
   "outputs": [],
   "source": [
    "X_train_new, X_test_new, y_train_new, y_test_new = train_test_split(train_data_df, y_target, test_size=0.3)"
   ]
  },
  {
   "cell_type": "code",
   "execution_count": 82,
   "id": "eb74073e",
   "metadata": {},
   "outputs": [
    {
     "data": {
      "text/plain": [
       "LogisticRegression(max_iter=1000)"
      ]
     },
     "execution_count": 82,
     "metadata": {},
     "output_type": "execute_result"
    }
   ],
   "source": [
    "lr = LogisticRegression(solver='lbfgs', max_iter=1000) \n",
    "lr.fit(X_train_new, y_train_new)"
   ]
  },
  {
   "cell_type": "code",
   "execution_count": 83,
   "id": "1b3138b8",
   "metadata": {},
   "outputs": [],
   "source": [
    "y_train_pred = lr.predict(X_train_new)\n",
    "y_train_pred_prob = lr.predict_proba(X_train_new)[:,1]\n",
    "train_acc = accuracy_score(y_train_new, y_train_pred)\n",
    "train_auc = roc_auc_score(y_train_new, y_train_pred_prob)\n",
    "\n",
    "# Test data evaluation\n",
    "y_test_pred = lr.predict(X_test_new)\n",
    "y_test_pred_prob = lr.predict_proba(X_test_new)[:,1]\n",
    "test_acc = accuracy_score(y_test_new, y_test_pred)\n",
    "test_auc = roc_auc_score(y_test_new, y_test_pred_prob)"
   ]
  },
  {
   "cell_type": "code",
   "execution_count": 84,
   "id": "11419049",
   "metadata": {},
   "outputs": [
    {
     "name": "stdout",
     "output_type": "stream",
     "text": [
      "0.908092304804697\n",
      "0.9028341393601473\n"
     ]
    }
   ],
   "source": [
    "print(train_auc)\n",
    "print(test_auc)"
   ]
  },
  {
   "cell_type": "code",
   "execution_count": 85,
   "id": "e5531373",
   "metadata": {},
   "outputs": [
    {
     "data": {
      "text/plain": [
       "BaggingClassifier(base_estimator=LogisticRegression(max_iter=1000))"
      ]
     },
     "execution_count": 85,
     "metadata": {},
     "output_type": "execute_result"
    }
   ],
   "source": [
    "bagging = BaggingClassifier(LogisticRegression(solver='lbfgs', max_iter=1000),bootstrap=True)\n",
    "bagging.fit(X_train_new, y_train_new)"
   ]
  },
  {
   "cell_type": "code",
   "execution_count": 86,
   "id": "d3c6b0d7",
   "metadata": {},
   "outputs": [],
   "source": [
    "y_train_pred = bagging.predict(X_train_new)\n",
    "y_train_pred_prob = bagging.predict_proba(X_train_new)[:,1]\n",
    "train_acc = accuracy_score(y_train_new, y_train_pred)\n",
    "train_auc = roc_auc_score(y_train_new, y_train_pred_prob)\n",
    "\n",
    "# Test data evaluation\n",
    "y_test_pred = bagging.predict(X_test_new)\n",
    "y_test_pred_prob = bagging.predict_proba(X_test_new)[:,1]\n",
    "test_acc =accuracy_score(y_test_new, y_test_pred)\n",
    "test_auc = roc_auc_score(y_test_new, y_test_pred_prob)"
   ]
  },
  {
   "cell_type": "code",
   "execution_count": 87,
   "id": "f28572f3",
   "metadata": {},
   "outputs": [
    {
     "name": "stdout",
     "output_type": "stream",
     "text": [
      "0.9080105558750816\n",
      "0.9029222957370221\n"
     ]
    }
   ],
   "source": [
    "print(train_auc)\n",
    "print(test_auc)"
   ]
  },
  {
   "cell_type": "code",
   "execution_count": 88,
   "id": "0ff13765",
   "metadata": {},
   "outputs": [
    {
     "data": {
      "text/plain": [
       "GradientBoostingClassifier(max_depth=5, n_estimators=200)"
      ]
     },
     "execution_count": 88,
     "metadata": {},
     "output_type": "execute_result"
    }
   ],
   "source": [
    "gbt = GradientBoostingClassifier(n_estimators=200,learning_rate=0.1,max_depth=5)\n",
    "gbt.fit(X_train_new, y_train_new)"
   ]
  },
  {
   "cell_type": "code",
   "execution_count": 89,
   "id": "1ec46099",
   "metadata": {},
   "outputs": [],
   "source": [
    "y_train_pred = gbt.predict(X_train_new)\n",
    "y_train_pred_prob = gbt.predict_proba(X_train_new)[:,1]\n",
    "train_acc = accuracy_score(y_train_new, y_train_pred)\n",
    "train_auc = roc_auc_score(y_train_new, y_train_pred_prob)\n",
    "\n",
    "# Test data evaluation\n",
    "y_test_pred = gbt.predict(X_test_new)\n",
    "y_test_pred_prob = gbt.predict_proba(X_test_new)[:,1]\n",
    "test_acc = accuracy_score(y_test_new, y_test_pred)\n",
    "test_auc = roc_auc_score(y_test_new, y_test_pred_prob)"
   ]
  },
  {
   "cell_type": "code",
   "execution_count": 90,
   "id": "95f0765b",
   "metadata": {},
   "outputs": [
    {
     "name": "stdout",
     "output_type": "stream",
     "text": [
      "0.9611275376133721\n",
      "0.9230036817041528\n"
     ]
    }
   ],
   "source": [
    "print(train_auc)\n",
    "print(test_auc)"
   ]
  },
  {
   "cell_type": "code",
   "execution_count": 102,
   "id": "de4ac1d2",
   "metadata": {},
   "outputs": [
    {
     "name": "stderr",
     "output_type": "stream",
     "text": [
      "C:\\Users\\u1363606\\Anaconda3\\lib\\site-packages\\xgboost\\sklearn.py:1224: UserWarning: The use of label encoder in XGBClassifier is deprecated and will be removed in a future release. To remove this warning, do the following: 1) Pass option use_label_encoder=False when constructing XGBClassifier object; and 2) Encode your labels (y) as integers starting with 0, i.e. 0, 1, 2, ..., [num_class - 1].\n",
      "  warnings.warn(label_encoder_deprecation_msg, UserWarning)\n"
     ]
    },
    {
     "name": "stdout",
     "output_type": "stream",
     "text": [
      "[13:16:03] WARNING: C:/Users/Administrator/workspace/xgboost-win64_release_1.5.0/src/learner.cc:1115: Starting in XGBoost 1.3.0, the default evaluation metric used with the objective 'binary:logistic' was changed from 'error' to 'logloss'. Explicitly set eval_metric if you'd like to restore the old behavior.\n"
     ]
    },
    {
     "data": {
      "text/plain": [
       "XGBClassifier(base_score=0.5, booster='gbtree', colsample_bylevel=1,\n",
       "              colsample_bynode=1, colsample_bytree=1, enable_categorical=False,\n",
       "              gamma=0, gpu_id=-1, importance_type=None,\n",
       "              interaction_constraints='', learning_rate=0.300000012,\n",
       "              max_delta_step=0, max_depth=6, min_child_weight=1, missing=nan,\n",
       "              monotone_constraints='()', n_estimators=100, n_jobs=8,\n",
       "              num_parallel_tree=1, predictor='auto', random_state=42,\n",
       "              reg_alpha=0, reg_lambda=1, scale_pos_weight=1, subsample=1,\n",
       "              tree_method='exact', validate_parameters=1, verbosity=None)"
      ]
     },
     "execution_count": 102,
     "metadata": {},
     "output_type": "execute_result"
    }
   ],
   "source": [
    "xgb = xgb.XGBClassifier(objective=\"binary:logistic\", random_state=42)\n",
    "xgb.fit(X_train_new, y_train_new)"
   ]
  },
  {
   "cell_type": "code",
   "execution_count": 103,
   "id": "3731f6ba",
   "metadata": {},
   "outputs": [],
   "source": [
    "y_train_pred = xgb.predict(X_train_new)\n",
    "y_train_pred_prob = xgb.predict_proba(X_train_new)[:,1]\n",
    "train_acc = accuracy_score(y_train_new, y_train_pred)\n",
    "train_auc = roc_auc_score(y_train_new, y_train_pred_prob)\n",
    "\n",
    "# Test data evaluation\n",
    "y_test_pred = xgb.predict(X_test_new)\n",
    "y_test_pred_prob = xgb.predict_proba(X_test_new)[:,1]\n",
    "test_acc = accuracy_score(y_test_new, y_test_pred)\n",
    "test_auc = roc_auc_score(y_test_new, y_test_pred_prob)"
   ]
  },
  {
   "cell_type": "code",
   "execution_count": 104,
   "id": "a1e23b73",
   "metadata": {},
   "outputs": [
    {
     "name": "stdout",
     "output_type": "stream",
     "text": [
      "0.9715495105140295\n",
      "0.9228172799428276\n"
     ]
    }
   ],
   "source": [
    "print(train_auc)\n",
    "print(test_auc)"
   ]
  },
  {
   "cell_type": "code",
   "execution_count": 106,
   "id": "9dd27cc7",
   "metadata": {},
   "outputs": [],
   "source": [
    "predictions = xgb.predict_proba(test_df)[:,1]\n",
    "submissions = pd.DataFrame({'ID':idx, 'Prediction':predictions})\n",
    "submissions.to_csv('submission03.csv', index=False)"
   ]
  },
  {
   "cell_type": "code",
   "execution_count": 77,
   "id": "164e8495",
   "metadata": {},
   "outputs": [],
   "source": [
    "probs = lr.predict_proba(X_test_new)\n",
    "preds = probs[:,1]\n",
    "fpr1, tpr1, threshold = metrics.roc_curve(y_test_new, preds)\n",
    "roc_auc1 = metrics.auc(fpr1, tpr1)\n",
    "probs2 = bagging.predict_proba(X_test_new)\n",
    "preds2 = probs2[:,1]\n",
    "fpr2, tpr2, threshold = metrics.roc_curve(y_test_new, preds2)\n",
    "roc_auc2 = metrics.auc(fpr2, tpr2)\n",
    "probs3 = gbt.predict_proba(X_test_new)\n",
    "preds3 = probs3[:,1]\n",
    "fpr3, tpr3, threshold = metrics.roc_curve(y_test_new, preds3)\n",
    "roc_auc3 = metrics.auc(fpr3, tpr3)"
   ]
  },
  {
   "cell_type": "code",
   "execution_count": 78,
   "id": "6d3e245f",
   "metadata": {},
   "outputs": [
    {
     "data": {
      "image/png": "[encoded data removed]",
      "text/plain": [
       "<Figure size 540x540 with 1 Axes>"
      ]
     },
     "metadata": {
      "needs_background": "light"
     },
     "output_type": "display_data"
    }
   ],
   "source": [
    "fig, ax = plt.subplots(figsize=(7.5, 7.5))\n",
    " \n",
    "plt.plot(fpr1, tpr1, label='LR (AUC = %0.4f)' % (roc_auc1))\n",
    "plt.plot(fpr2, tpr2, label='Bagging (AUC = %0.4f)' % (roc_auc2))\n",
    "plt.plot(fpr3, tpr3, label='GBT (AUC = %0.4f)' % (roc_auc3))\n",
    "plt.plot([0, 1], [0, 1], linestyle='--', color='red', label='Random Classifier')   \n",
    "plt.plot([0, 0, 1], [0, 1, 1], linestyle=':', color='green', label='Perfect Classifier')\n",
    "plt.xlim([-0.05, 1.05])\n",
    "plt.ylim([-0.05, 1.05])\n",
    "plt.xlabel('False positive rate')\n",
    "plt.ylabel('True positive rate')\n",
    "plt.legend(loc=\"lower right\")\n",
    "plt.show()"
   ]
  },
  {
   "cell_type": "code",
   "execution_count": 79,
   "id": "7e91888e",
   "metadata": {},
   "outputs": [],
   "source": [
    "probs4 = rand_grid_search.predict_proba(X_test_new)\n",
    "preds4 = probs4[:,1]\n",
    "fpr4, tpr4, threshold = metrics.roc_curve(y_test_new, preds4)\n",
    "roc_auc4 = metrics.auc(fpr4, tpr4)"
   ]
  },
  {
   "cell_type": "code",
   "execution_count": 99,
   "id": "ef1dd4c5",
   "metadata": {},
   "outputs": [
    {
     "data": {
      "image/png": "[encoded data removed]",
      "text/plain": [
       "<Figure size 540x540 with 1 Axes>"
      ]
     },
     "metadata": {
      "needs_background": "light"
     },
     "output_type": "display_data"
    }
   ],
   "source": [
    "fig, ax = plt.subplots(figsize=(7.5, 7.5))\n",
    " \n",
    "plt.plot(fpr4, tpr4, label='RandomSearchCV (AUC = %0.4f)' % (roc_auc4))\n",
    "plt.plot(fpr3, tpr3, label='GridSearchCV (AUC = %0.4f)' % (roc_auc3))\n",
    "plt.plot([0, 1], [0, 1], linestyle='--', color='red', label='Random Classifier')   \n",
    "plt.plot([0, 0, 1], [0, 1, 1], linestyle=':', color='green', label='Perfect Classifier')\n",
    "plt.xlim([-0.05, 1.05])\n",
    "plt.ylim([-0.05, 1.05])\n",
    "plt.xlabel('False positive rate')\n",
    "plt.ylabel('True positive rate')\n",
    "plt.legend(loc=\"lower right\")\n",
    "plt.show()"
   ]
  },
  {
   "cell_type": "code",
   "execution_count": null,
   "id": "28653e0e",
   "metadata": {},
   "outputs": [],
   "source": []
  }
 ],
 "metadata": {
  "kernelspec": {
   "display_name": "Python 3",
   "language": "python",
   "name": "python3"
  },
  "language_info": {
   "codemirror_mode": {
    "name": "ipython",
    "version": 3
   },
   "file_extension": ".py",
   "mimetype": "text/x-python",
   "name": "python",
   "nbconvert_exporter": "python",
   "pygments_lexer": "ipython3",
   "version": "3.8.8"
  }
 },
 "nbformat": 4,
 "nbformat_minor": 5
}
