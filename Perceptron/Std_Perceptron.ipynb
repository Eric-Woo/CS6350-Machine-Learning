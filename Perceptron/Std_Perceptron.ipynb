{
 "cells": [
  {
   "cell_type": "code",
   "execution_count": 1,
   "id": "ea338a87",
   "metadata": {},
   "outputs": [],
   "source": [
    "import pandas as pd\n",
    "import numpy as np"
   ]
  },
  {
   "cell_type": "code",
   "execution_count": 2,
   "id": "bfc22960",
   "metadata": {},
   "outputs": [],
   "source": [
    "def std_perceptron(X,y,lr,T):\n",
    "    num_data=X.shape[0]\n",
    "    idx=np.arange(num_data)\n",
    "    #initialized the weight\n",
    "    w=np.zeros(X.shape[1])\n",
    "    for t in range(T):\n",
    "        np.random.shuffle(idx)\n",
    "        X=X[idx,:]\n",
    "        y=y[idx]\n",
    "        \n",
    "        for row in range(num_data):\n",
    "            temp=np.sum(X[row]*w)\n",
    "            if not (temp*y[row]>0):\n",
    "                w=w+lr*X[row]*y[row]\n",
    "    return w"
   ]
  },
  {
   "cell_type": "code",
   "execution_count": 3,
   "id": "f57df9e2",
   "metadata": {},
   "outputs": [],
   "source": [
    "#train data processing\n",
    "train_data = pd.read_csv('train.csv', header=None)\n",
    "num_col = train_data.values.shape[1]\n",
    "num_row = train_data.values.shape[0]\n",
    "\n",
    "#extract the train_x\n",
    "train_x = np.copy(train_data.values)\n",
    "train_x[:,num_col - 1] = 1\n",
    "\n",
    "#convert label with 1,-1\n",
    "train_y = train_data.values[:, num_col - 1]\n",
    "train_y = 2 * train_y - 1"
   ]
  },
  {
   "cell_type": "code",
   "execution_count": 4,
   "id": "c79e6ff7",
   "metadata": {},
   "outputs": [],
   "source": [
    "#test data processing\n",
    "test_data = pd.read_csv('test.csv', header=None)\n",
    "num_col = test_data.values.shape[1]\n",
    "num_row = test_data.values.shape[0]\n",
    "\n",
    "#extract the train_x\n",
    "test_x = np.copy(test_data.values)\n",
    "test_x[:,num_col - 1] = 1\n",
    "\n",
    "#convert label with 1,-1\n",
    "test_y = test_data.values[:, num_col - 1]\n",
    "test_y = 2 * test_y - 1"
   ]
  },
  {
   "cell_type": "code",
   "execution_count": 5,
   "id": "6678e224",
   "metadata": {},
   "outputs": [
    {
     "name": "stdout",
     "output_type": "stream",
     "text": [
      "[-5.16979945 -4.190536   -4.5414233  -0.8728637   5.8       ]\n"
     ]
    }
   ],
   "source": [
    "weight=std_perceptron(train_x,train_y,lr=0.1,T=10)\n",
    "# the last is b\n",
    "print(weight)"
   ]
  },
  {
   "cell_type": "code",
   "execution_count": 6,
   "id": "dcb39aa8",
   "metadata": {},
   "outputs": [],
   "source": [
    "def pred_err(x,y,w):\n",
    "    w=np.reshape(w,(-1,1))\n",
    "    prediction=np.matmul(x,w)\n",
    "    prediction[prediction>0]=1\n",
    "    prediction[prediction<=0]=-1\n",
    "    x=np.reshape(y,(-1,1))\n",
    "    pred_sum=np.sum(np.abs(prediction-x))\n",
    "    error=0.5*pred_sum/y.shape[0]\n",
    "    \n",
    "    return error"
   ]
  },
  {
   "cell_type": "code",
   "execution_count": 7,
   "id": "81c5465d",
   "metadata": {},
   "outputs": [
    {
     "data": {
      "text/plain": [
       "0.01"
      ]
     },
     "execution_count": 7,
     "metadata": {},
     "output_type": "execute_result"
    }
   ],
   "source": [
    "pred_err(test_x,test_y,weight)"
   ]
  },
  {
   "cell_type": "code",
   "execution_count": null,
   "id": "2fa28633",
   "metadata": {},
   "outputs": [],
   "source": []
  },
  {
   "cell_type": "code",
   "execution_count": null,
   "id": "5a34b61a",
   "metadata": {},
   "outputs": [],
   "source": []
  }
 ],
 "metadata": {
  "kernelspec": {
   "display_name": "Python 3",
   "language": "python",
   "name": "python3"
  },
  "language_info": {
   "codemirror_mode": {
    "name": "ipython",
    "version": 3
   },
   "file_extension": ".py",
   "mimetype": "text/x-python",
   "name": "python",
   "nbconvert_exporter": "python",
   "pygments_lexer": "ipython3",
   "version": "3.8.8"
  }
 },
 "nbformat": 4,
 "nbformat_minor": 5
}
