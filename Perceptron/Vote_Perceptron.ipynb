{
 "cells": [
  {
   "cell_type": "code",
   "execution_count": 1,
   "id": "0e509c9e",
   "metadata": {},
   "outputs": [],
   "source": [
    "import pandas as pd\n",
    "import numpy as np"
   ]
  },
  {
   "cell_type": "code",
   "execution_count": 2,
   "id": "1314ab71",
   "metadata": {},
   "outputs": [],
   "source": [
    "def vote_perceptron(X,y,lr,T):\n",
    "    num_data=X.shape[0]\n",
    "    idx=np.arange(num_data)\n",
    "    #initialized the weight\n",
    "    w=np.zeros(X.shape[1])\n",
    "    m=0\n",
    "    W=np.array([])\n",
    "    C=np.array([])\n",
    "    \n",
    "    for t in range(T):\n",
    "        np.random.shuffle(idx)\n",
    "        X=X[idx,:]\n",
    "        y=y[idx]\n",
    "        \n",
    "        for row in range(num_data):\n",
    "            temp=np.sum(X[row]*w)\n",
    "            if not (temp*y[row]>0):\n",
    "                W=np.append(W,w)\n",
    "                C=np.append(C,m)\n",
    "                w=w+lr*X[row]*y[row]\n",
    "                m=1\n",
    "            else:\n",
    "                m=m+1\n",
    "    W=np.reshape(W,(C.shape[0],-1)) \n",
    "    return C,W"
   ]
  },
  {
   "cell_type": "code",
   "execution_count": 3,
   "id": "6975e15b",
   "metadata": {},
   "outputs": [],
   "source": [
    "#train data processing\n",
    "train_data = pd.read_csv('train.csv', header=None)\n",
    "num_col = train_data.values.shape[1]\n",
    "num_row = train_data.values.shape[0]\n",
    "\n",
    "#extract the train_x\n",
    "train_x = np.copy(train_data.values)\n",
    "train_x[:,num_col - 1] = 1\n",
    "\n",
    "#convert label with 1,-1\n",
    "train_y = train_data.values[:, num_col - 1]\n",
    "train_y = 2 * train_y - 1"
   ]
  },
  {
   "cell_type": "code",
   "execution_count": 4,
   "id": "242713cf",
   "metadata": {},
   "outputs": [],
   "source": [
    "#test data processing\n",
    "test_data = pd.read_csv('test.csv', header=None)\n",
    "num_col = test_data.values.shape[1]\n",
    "num_row = test_data.values.shape[0]\n",
    "\n",
    "#extract the train_x\n",
    "test_x = np.copy(test_data.values)\n",
    "test_x[:,num_col - 1] = 1\n",
    "\n",
    "#convert label with 1,-1\n",
    "test_y = test_data.values[:, num_col - 1]\n",
    "test_y = 2 * test_y - 1"
   ]
  },
  {
   "cell_type": "code",
   "execution_count": 5,
   "id": "bacce83f",
   "metadata": {},
   "outputs": [
    {
     "name": "stdout",
     "output_type": "stream",
     "text": [
      "[[ 0.         0.         0.         0.         0.       ]\n",
      " [-0.15681   -0.72446    0.65537   -0.01276    0.1      ]\n",
      " [-0.5004    -0.790676   0.44496   -0.20198    0.       ]\n",
      " ...\n",
      " [-5.7399591 -2.7612145 -4.776717  -0.6297413  5.       ]\n",
      " [-6.2033391 -4.0363045 -3.105057  -0.9514213  5.1      ]\n",
      " [-6.1872311 -3.3900645 -3.940787  -0.7992613  5.       ]]\n"
     ]
    }
   ],
   "source": [
    "C,W=vote_perceptron(train_x,train_y,lr=0.1,T=10)\n",
    "# the last is b\n",
    "print(W)"
   ]
  },
  {
   "cell_type": "code",
   "execution_count": 8,
   "id": "6bd4a8cc",
   "metadata": {},
   "outputs": [
    {
     "name": "stdout",
     "output_type": "stream",
     "text": [
      "[  0.   2.   3.   8.   3.   4.   1.   2.  10.   8.   7.   3.   1.   4.\n",
      "  17.  11.   2.   4.   2.   5.   4.   5.   7.  10.  12.   9.  15.  39.\n",
      "  31.  13.  11.  90.   5.  10.  20.   9.   2.   1.   1.  70.   5.   3.\n",
      "   5.  91.   1.   3.   5.   4.  37. 111.  14.   3.   1.  26.  21.  40.\n",
      "  45.  46.  20.  14.   5.   4.  15.   8.  19. 156.  13.  57.  60.   9.\n",
      "  72.   9.  16.  12.   8.  73.  30.  18.  30.   3.   8.  17. 161.   4.\n",
      "   4.   4.  42.  37.   1.  10.  13.  17.  16.   9.   3.   6.  44.  66.\n",
      "   6. 156. 128.   8.   7. 117.   3.  11.  11.  41.  39.  53. 194.  13.\n",
      "  16.   3.   5. 113.  31.  25.  24.  31.  44.  13.  50.  44.  24.  10.\n",
      "  58.   4.   1.  24.  31.   3.  10.   9.  58.   1.  45. 213.   4. 112.\n",
      "  14.   3.  27.  37.  38.  59.  11.   1.   8.  26. 227.  66.   8.   6.\n",
      "  13. 231.  96.  36.  16.  29.  42.  77.   8.  20.  21.  14.   3.  19.\n",
      " 344.  15. 215.   6.   1.  39.  34.  20.   9.  91.   3.  75.  16.  90.\n",
      " 135.  20.  11.   7.  50.   9. 110.  35.  11. 124.  16.  27. 104.  93.\n",
      "   6.  40.   9.  74.  30.  22.  46.  57.  10.  47.  17.   5.  27.  12.\n",
      "  16. 179.  20.  21.  29.  16.  27.  66.  79.  64.  37.  96.  33.  22.\n",
      "   8.  60.  81.  79.  14.  11. 167.  25.  17.  52.  27. 147.  26.  23.\n",
      "   7.  61.  35.]\n"
     ]
    }
   ],
   "source": [
    "print(C)"
   ]
  },
  {
   "cell_type": "code",
   "execution_count": 6,
   "id": "7821c71e",
   "metadata": {},
   "outputs": [],
   "source": [
    "def pred_err(x,y,W,C):\n",
    "    w=np.transpose(W)\n",
    "    C=np.reshape(C,(-1,1))\n",
    "    prediction=np.matmul(x,w)\n",
    "    prediction[prediction>0]=1\n",
    "    prediction[prediction<=0]=-1\n",
    "    \n",
    "    voted = np.matmul(prediction, C)\n",
    "    voted[voted >0] = 1\n",
    "    voted[voted<=0] = -1\n",
    "    new_y=np.reshape(y,(-1,1))\n",
    "    pred_sum=np.sum(np.abs(voted-new_y))\n",
    "    error=0.5*pred_sum/y.shape[0]\n",
    "    \n",
    "    return error"
   ]
  },
  {
   "cell_type": "code",
   "execution_count": 7,
   "id": "a5dfaf6b",
   "metadata": {},
   "outputs": [
    {
     "data": {
      "text/plain": [
       "0.014"
      ]
     },
     "execution_count": 7,
     "metadata": {},
     "output_type": "execute_result"
    }
   ],
   "source": [
    "pred_err(test_x,test_y,W,C)"
   ]
  },
  {
   "cell_type": "code",
   "execution_count": null,
   "id": "1446c36e",
   "metadata": {},
   "outputs": [],
   "source": []
  }
 ],
 "metadata": {
  "kernelspec": {
   "display_name": "Python 3",
   "language": "python",
   "name": "python3"
  },
  "language_info": {
   "codemirror_mode": {
    "name": "ipython",
    "version": 3
   },
   "file_extension": ".py",
   "mimetype": "text/x-python",
   "name": "python",
   "nbconvert_exporter": "python",
   "pygments_lexer": "ipython3",
   "version": "3.8.8"
  }
 },
 "nbformat": 4,
 "nbformat_minor": 5
}
