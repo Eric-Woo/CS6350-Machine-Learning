{
 "cells": [
  {
   "cell_type": "code",
   "execution_count": 21,
   "id": "8b0fa38b",
   "metadata": {},
   "outputs": [],
   "source": [
    "import numpy as np\n",
    "import math"
   ]
  },
  {
   "cell_type": "code",
   "execution_count": 32,
   "id": "57177d01",
   "metadata": {},
   "outputs": [],
   "source": [
    "def LR_SGD(x, y, T, r0, d, schdule_func, prior_v, select_type='MAP',epsilon=0.00001):\n",
    "    \n",
    "    N = x.shape[0]\n",
    "    w = np.zeros(x.shape[1], dtype='float64')\n",
    "    initial_grad = w\n",
    "\n",
    "    for t in range(T):\n",
    "        # shuffleing data\n",
    "        idx = np.random.permutation(N)\n",
    "        x = x[idx]\n",
    "        y = y[idx]\n",
    "\n",
    "        for i in range(N):\n",
    "            x_new = x[i]\n",
    "            y_new = y[i]\n",
    "\n",
    "            # calculate gradient: MAP and MLE\n",
    "            if select_type == 'MAP':\n",
    "                grad = MAP_gradient(x_new, y_new, w, prior_v)\n",
    "            else:\n",
    "                grad = MLE_gradient(x_new, y_new, w)\n",
    "            # update weights\n",
    "            w = w - (schdule_func(r0, t,d) * grad)\n",
    "            \n",
    "            # check convergence\n",
    "            if np.linalg.norm(initial_grad - grad) < epsilon * t:\n",
    "                    return w\n",
    "            initial_grad = grad\n",
    "\n",
    "    return w"
   ]
  },
  {
   "cell_type": "code",
   "execution_count": 33,
   "id": "02b45d6b",
   "metadata": {},
   "outputs": [],
   "source": [
    "# initialize parameters\n",
    "def schdule_func(r0,t,d):\n",
    "    return r0 / (1 + (r0 / d) * t)"
   ]
  },
  {
   "cell_type": "code",
   "execution_count": 34,
   "id": "5868d2d0",
   "metadata": {},
   "outputs": [],
   "source": [
    "def MAP_gradient(x, y, w, v):\n",
    "    top = -x * y * v\n",
    "    sigmoid = 1 + np.exp(y * w.T @ x)\n",
    "    prior = w / (2 * v)\n",
    "    map_grad=top / sigmoid + prior\n",
    "    \n",
    "    return map_grad\n",
    "\n",
    "def MLE_gradient(x, y, w):\n",
    "    top = -x* y\n",
    "    sigmoid = 1 + np.exp(y * w.T @ x)\n",
    "    mle_grad=top/sigmoid\n",
    "    \n",
    "    return mle_grad"
   ]
  },
  {
   "cell_type": "code",
   "execution_count": 35,
   "id": "f4df4728",
   "metadata": {},
   "outputs": [],
   "source": [
    "def test_error(x, y, w):\n",
    "    error = 0.0\n",
    "    num=x.shape[0]\n",
    "\n",
    "    for i in range(num):\n",
    "        x_new = x[i]\n",
    "        y_new = y[i]\n",
    "\n",
    "        if y_new == 0:\n",
    "            y_new = -1\n",
    "\n",
    "        if (y_new * np.dot(w, x_new)) <= 0:\n",
    "            error += 1\n",
    "\n",
    "    return error/num"
   ]
  },
  {
   "cell_type": "code",
   "execution_count": 36,
   "id": "bbe41045",
   "metadata": {},
   "outputs": [],
   "source": [
    "train_data = []\n",
    "with open('train.csv', 'r') as f:\n",
    "    for term in f:\n",
    "        train_data.append(term.strip().split(','))\n",
    "        \n",
    "test_data= []\n",
    "with open('test.csv', 'r') as f:\n",
    "    for term in f:\n",
    "        test_data.append(term.strip().split(','))"
   ]
  },
  {
   "cell_type": "code",
   "execution_count": 37,
   "id": "29f4543e",
   "metadata": {},
   "outputs": [],
   "source": [
    "train_data = np.array(train_data, dtype='float64')\n",
    "test_data = np.array(test_data, dtype='float64')"
   ]
  },
  {
   "cell_type": "code",
   "execution_count": 38,
   "id": "6679c9fc",
   "metadata": {},
   "outputs": [],
   "source": [
    "train_x= train_data[:, :-1]\n",
    "train_y = train_data[:, -1].astype(int)\n",
    "# convert y label with -1,1\n",
    "train_y[train_y == 0] = -1  "
   ]
  },
  {
   "cell_type": "code",
   "execution_count": 39,
   "id": "ed861bf1",
   "metadata": {},
   "outputs": [],
   "source": [
    "test_x= test_data[:, :-1]\n",
    "test_y = test_data[:, -1].astype(int)\n",
    "# convert y label with -1,1\n",
    "test_y[test_y == 0] = -1 "
   ]
  },
  {
   "cell_type": "code",
   "execution_count": 40,
   "id": "5c3b6bab",
   "metadata": {},
   "outputs": [
    {
     "name": "stdout",
     "output_type": "stream",
     "text": [
      "converged on iter 57\n",
      "prior_v: 0.01 train_error: 0.26490825688073394 test_error: 0.272\n",
      "converged on iter 47\n",
      "prior_v: 0.1 train_error: 0.2855504587155963 test_error: 0.286\n",
      "converged on iter 29\n",
      "prior_v: 0.5 train_error: 0.09403669724770643 test_error: 0.1\n",
      "converged on iter 89\n",
      "prior_v: 1 train_error: 0.05733944954128441 test_error: 0.074\n",
      "converged on iter 89\n",
      "prior_v: 3 train_error: 0.04128440366972477 test_error: 0.048\n",
      "converged on iter 29\n",
      "prior_v: 5 train_error: 0.04243119266055046 test_error: 0.05\n",
      "converged on iter 2\n",
      "prior_v: 10 train_error: 0.04128440366972477 test_error: 0.058\n",
      "converged on iter 1\n",
      "prior_v: 100 train_error: 0.0481651376146789 test_error: 0.06\n"
     ]
    }
   ],
   "source": [
    "T = 100\n",
    "r0 = 0.01\n",
    "d=0.02\n",
    "var_list = [0.01, 0.1, 0.5, 1, 3, 5, 10, 100]\n",
    "\n",
    "# MAP\n",
    "for prior_v in var_list:\n",
    "    w = LR_SGD(train_x, train_y, T, r0, d, schdule_func, prior_v, select_type='MAP')\n",
    "    train_err = test_error(train_x,train_y, w)\n",
    "    test_err = test_error(test_x,test_y, w)\n",
    "    print(\"prior_v:\",prior_v, 'train_error:', train_err, 'test_error:', test_err)\n"
   ]
  },
  {
   "cell_type": "code",
   "execution_count": 41,
   "id": "f1f5038c",
   "metadata": {},
   "outputs": [
    {
     "name": "stdout",
     "output_type": "stream",
     "text": [
      "converged on iter 4\n",
      "prior_v: 0.01 train_error: 0.04128440366972477 test_error: 0.048\n",
      "converged on iter 7\n",
      "prior_v: 0.1 train_error: 0.040137614678899085 test_error: 0.046\n",
      "converged on iter 4\n",
      "prior_v: 0.5 train_error: 0.040137614678899085 test_error: 0.05\n",
      "converged on iter 5\n",
      "prior_v: 1 train_error: 0.04128440366972477 test_error: 0.046\n",
      "converged on iter 2\n",
      "prior_v: 3 train_error: 0.04128440366972477 test_error: 0.046\n",
      "converged on iter 4\n",
      "prior_v: 5 train_error: 0.04243119266055046 test_error: 0.048\n",
      "converged on iter 3\n",
      "prior_v: 10 train_error: 0.04128440366972477 test_error: 0.05\n",
      "converged on iter 6\n",
      "prior_v: 100 train_error: 0.04243119266055046 test_error: 0.05\n"
     ]
    }
   ],
   "source": [
    "# MLE\n",
    "for prior_v in var_list:\n",
    "    w = LR_SGD(train_x, train_y, T, r0, d, schdule_func, prior_v, select_type='MLE')\n",
    "    train_err = test_error(train_x,train_y, w)\n",
    "    test_err = test_error(test_x,test_y, w)\n",
    "    print(\"prior_v:\",prior_v, 'train_error:', train_err, 'test_error:', test_err)"
   ]
  },
  {
   "cell_type": "code",
   "execution_count": null,
   "id": "c04f732a",
   "metadata": {},
   "outputs": [],
   "source": []
  },
  {
   "cell_type": "code",
   "execution_count": null,
   "id": "fb6c68f5",
   "metadata": {},
   "outputs": [],
   "source": []
  }
 ],
 "metadata": {
  "kernelspec": {
   "display_name": "Python 3",
   "language": "python",
   "name": "python3"
  },
  "language_info": {
   "codemirror_mode": {
    "name": "ipython",
    "version": 3
   },
   "file_extension": ".py",
   "mimetype": "text/x-python",
   "name": "python",
   "nbconvert_exporter": "python",
   "pygments_lexer": "ipython3",
   "version": "3.8.8"
  }
 },
 "nbformat": 4,
 "nbformat_minor": 5
}
