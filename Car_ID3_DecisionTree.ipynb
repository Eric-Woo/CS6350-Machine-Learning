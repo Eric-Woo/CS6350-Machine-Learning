{
 "cells": [
  {
   "cell_type": "code",
   "execution_count": 12,
   "id": "dea4de2d",
   "metadata": {},
   "outputs": [],
   "source": [
    "from collections import Counter\n",
    "import numpy as np\n",
    "from math import log\n",
    "import copy"
   ]
  },
  {
   "cell_type": "code",
   "execution_count": 13,
   "id": "c38cb515",
   "metadata": {},
   "outputs": [],
   "source": [
    "class TreeNode:\n",
    "    \n",
    "    \"\"\"\n",
    "    A class for nodes in a rooted Tree\n",
    "    \"\"\"\n",
    "    def __init__(self, attr):\n",
    "        self.label = None\n",
    "        self.attr = attr\n",
    "        self.children ={}\n",
    "        \n",
    "    def add_child(self,val,node):\n",
    "        self.children[val]=node\n",
    "        "
   ]
  },
  {
   "cell_type": "code",
   "execution_count": 14,
   "id": "2a090347",
   "metadata": {},
   "outputs": [],
   "source": [
    "class DecisionTree():\n",
    "    \n",
    "    def __init__(self, gain_type, depth):\n",
    "        \n",
    "        self.gain_type = gain_type\n",
    "        self.depth = depth\n",
    "        \n",
    "    def info_gain(self, labels):\n",
    "\n",
    "        measure = 0\n",
    "\n",
    "        if self.gain_type == 'gini_index':\n",
    "            n = len(labels)\n",
    "            counter = Counter(labels)\n",
    "            measure= 1 - sum((counter[count]/n)**2 for count in counter)\n",
    "        \n",
    "            return measure\n",
    "  \n",
    "        elif self.gain_type == 'majority_error':\n",
    "        \n",
    "            n=len(labels)\n",
    "            counter = Counter(labels)\n",
    "            majority = counter.most_common(1)[0][1]\n",
    "            measure = 1 - (majority/n)\n",
    "        \n",
    "            return measure\n",
    "    \n",
    "        elif self.gain_type== 'Entropy':\n",
    "            n=len(labels)\n",
    "            counter = Counter(labels)\n",
    "            measure= -sum(counter[count]/n * log(counter[count]/n, 2) for count in counter)\n",
    "\n",
    "            return measure\n",
    "        \n",
    "    def select_feature(self, S, attrs, labels):\n",
    "        \n",
    "        entropy_D = self.info_gain(labels)\n",
    "        \n",
    "        max_gain = -1\n",
    "        best_attr = None\n",
    "\n",
    "        for attr in attrs:\n",
    "            entropy_x= 0\n",
    "            \n",
    "            for v in attrs[attr]:\n",
    "                    Sv_labels = [label for i, label in enumerate(labels) if S[i][attr] == v]\n",
    "                    entropy_x += (len(Sv_labels)/len(labels)) * self.info_gain(Sv_labels)\n",
    "                    gain_x=entropy_D-entropy_x\n",
    "                    \n",
    "            if gain_x > max_gain:\n",
    "                max_gain = gain_x\n",
    "                best_attr = attr\n",
    "\n",
    "        return best_attr\n",
    "     \n",
    "    def common_label(self, label_list):\n",
    "        \n",
    "        count = Counter(label_list)\n",
    "        C_L=count.most_common(1)[0][0]\n",
    "        \n",
    "        return C_L\n",
    "\n",
    "    def ID3(self, S, attrs, labels, depth):\n",
    "        \n",
    "        common_label = self.common_label(labels)\n",
    "        \n",
    "         # If all examples have same label; or Attributes empty; or max_depth\n",
    "            \n",
    "        if len(set(labels)) == 1 or not attrs or depth == 0:\n",
    "            leaf = TreeNode(None)\n",
    "            leaf.label = common_label\n",
    "            return leaf\n",
    "        \n",
    "        best_attr = self.select_feature(S, attrs, labels)\n",
    "\n",
    "        root = TreeNode(best_attr)\n",
    "\n",
    "        for v in attrs[best_attr]:\n",
    "            new_branch = TreeNode(v)\n",
    "\n",
    "            S_val = [val for i, val in enumerate(S) if S[i][best_attr] == v]\n",
    "            S_val_labels = [label for i, label in enumerate(labels) if S[i][best_attr] == v]\n",
    "\n",
    "            if not S_val:\n",
    "                new_branch.label = common_label\n",
    "                root.add_child(v, new_branch)\n",
    "            else:\n",
    "                sub_attrs = copy.deepcopy(attrs)\n",
    "                sub_attrs.pop(best_attr)\n",
    "\n",
    "                root.add_child(v, self.ID3(S_val, sub_attrs, S_val_labels, depth - 1))\n",
    "\n",
    "        return root\n",
    "\n",
    "    def build_tree(self, S, attrs, labels):\n",
    "        \n",
    "        self.root = self.ID3(S, attrs, labels, self.depth)\n",
    "        \n",
    "    def fit(self, instance):\n",
    "        \n",
    "        root=self.root\n",
    "        \n",
    "        while root.children:\n",
    "            attr = instance[root.attr]\n",
    "            if attr in root.children:\n",
    "                root = root.children[attr]\n",
    "\n",
    "        return root.label\n",
    "    \n",
    "    def cls(self, S):\n",
    "        pred_labels = []\n",
    "        for s in S:\n",
    "            pred_label=self.fit(s)\n",
    "            pred_labels.append(pred_label)\n",
    "            \n",
    "        return pred_labels\n",
    "\n",
    "        \n",
    "    def Error(self, pred_labels, true_labels):\n",
    "        count = 0\n",
    "        for i, j in zip(pred_labels, true_labels):\n",
    "            if i == j:\n",
    "                count += 1   \n",
    "        return 1 - count/len(true_labels)"
   ]
  },
  {
   "cell_type": "code",
   "execution_count": null,
   "id": "fca0e7ef",
   "metadata": {},
   "outputs": [],
   "source": []
  },
  {
   "cell_type": "code",
   "execution_count": 15,
   "id": "b089ff5c",
   "metadata": {},
   "outputs": [],
   "source": [
    "if __name__ == '__main__':\n",
    "    \n",
    "    label = ['unacc', 'acc', 'good', 'vgood']\n",
    "    attrs = {'buying' : ['vhigh', 'high', 'med', 'low'],\n",
    "                   'maint' : ['vhigh', 'high', 'med', 'low'],\n",
    "                   'doors' : ['2', '3', '4', '5more'],\n",
    "                   'persons' : ['2', '4', 'more'],\n",
    "                   'lug_boot' : ['small', 'med', 'big'],\n",
    "                   'safety' : ['low', 'med', 'high']}\n",
    "    attr_names = ['buying', 'maint', 'doors', 'persons', 'lug_boot', 'safety']\n",
    "    \n",
    "    train_x=[]\n",
    "    train_y=[]\n",
    "    \n",
    "    with open ('train.csv' ,'r') as file:\n",
    "        for line in file:\n",
    "            s = {}\n",
    "            term = line.strip().split(',')\n",
    "            for idx, item in enumerate(term[:-1]):\n",
    "                s[attr_names[idx]] = item\n",
    "\n",
    "            train_x.append(s)\n",
    "            train_y.append(term[-1])\n",
    "            \n",
    "    tree = DecisionTree(\"Entropy\", 6)\n",
    "    tree.build_tree(train_x, attrs, train_y)\n",
    "    "
   ]
  },
  {
   "cell_type": "code",
   "execution_count": 16,
   "id": "94f3fd98",
   "metadata": {},
   "outputs": [],
   "source": [
    "test_x=[]\n",
    "test_y=[]\n",
    "    \n",
    "with open ('test.csv' ,'r') as file:\n",
    "    for line in file:\n",
    "        s = {}\n",
    "        term = line.strip().split(',')\n",
    "        for idx, item in enumerate(term[:-1]):\n",
    "            s[attr_names[idx]] = item\n",
    "\n",
    "        test_x.append(s)\n",
    "        test_y.append(term[-1])            "
   ]
  },
  {
   "cell_type": "code",
   "execution_count": 17,
   "id": "1bbdf078",
   "metadata": {},
   "outputs": [],
   "source": [
    "tree = DecisionTree(gain_type=\"gini_index\", depth=3)\n",
    "tree.build_tree(train_x, attrs, train_y)\n",
    "\n",
    "    \n",
    "train_errors = []\n",
    "train_predicted = tree.cls(train_x)\n",
    "train_error = tree.Error(train_predicted, train_y)\n",
    "train_errors.append(train_error)"
   ]
  },
  {
   "cell_type": "code",
   "execution_count": 18,
   "id": "cdbdb51e",
   "metadata": {},
   "outputs": [
    {
     "data": {
      "text/plain": [
       "[0.17600000000000005]"
      ]
     },
     "execution_count": 18,
     "metadata": {},
     "output_type": "execute_result"
    }
   ],
   "source": [
    "train_errors"
   ]
  },
  {
   "cell_type": "code",
   "execution_count": 19,
   "id": "ac8fd19e",
   "metadata": {},
   "outputs": [],
   "source": [
    "tree = DecisionTree(gain_type=\"gini_index\", depth=4)\n",
    "tree.build_tree(train_x, attrs, train_y)\n",
    "\n",
    "test_errors = []\n",
    "test_predicted = tree.cls(test_x)\n",
    "test_error = tree.Error(test_predicted, test_y)\n",
    "test_errors.append(test_error)"
   ]
  },
  {
   "cell_type": "code",
   "execution_count": 20,
   "id": "4134827b",
   "metadata": {},
   "outputs": [
    {
     "data": {
      "text/plain": [
       "[0.1332417582417582]"
      ]
     },
     "execution_count": 20,
     "metadata": {},
     "output_type": "execute_result"
    }
   ],
   "source": [
    "test_errors"
   ]
  },
  {
   "cell_type": "code",
   "execution_count": null,
   "id": "ed26899d",
   "metadata": {},
   "outputs": [],
   "source": []
  }
 ],
 "metadata": {
  "kernelspec": {
   "display_name": "Python 3",
   "language": "python",
   "name": "python3"
  },
  "language_info": {
   "codemirror_mode": {
    "name": "ipython",
    "version": 3
   },
   "file_extension": ".py",
   "mimetype": "text/x-python",
   "name": "python",
   "nbconvert_exporter": "python",
   "pygments_lexer": "ipython3",
   "version": "3.8.8"
  }
 },
 "nbformat": 4,
 "nbformat_minor": 5
}
