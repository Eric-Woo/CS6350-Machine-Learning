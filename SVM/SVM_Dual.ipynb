{
 "cells": [
  {
   "cell_type": "code",
   "execution_count": 1,
   "id": "ffd98d83",
   "metadata": {},
   "outputs": [],
   "source": [
    "import numpy as np\n",
    "from scipy.optimize import minimize\n",
    "import math"
   ]
  },
  {
   "cell_type": "code",
   "execution_count": 2,
   "id": "00cc52b0",
   "metadata": {},
   "outputs": [],
   "source": [
    "def main_function(alpha, Mat):\n",
    "    \n",
    "    return 0.5 * np.dot(alpha, np.dot(Mat, alpha)) - np.sum(alpha)"
   ]
  },
  {
   "cell_type": "code",
   "execution_count": 3,
   "id": "3ea9fe78",
   "metadata": {},
   "outputs": [],
   "source": [
    "def jac(alpha, Mat):\n",
    "    \n",
    "    return np.dot(alpha.T, Mat) - np.ones(alpha.shape[0])"
   ]
  },
  {
   "cell_type": "code",
   "execution_count": 4,
   "id": "d17a136c",
   "metadata": {},
   "outputs": [],
   "source": [
    "def dual_svm(train_x, train_y, C):\n",
    "    \n",
    "    num_data=train_x.shape[0]\n",
    "    \n",
    "    # set parameters\n",
    "    x0 = np.random.rand(num_data)\n",
    "    bnds = [(0, C)] * num_data\n",
    "    Mat = np.zeros((num_data, num_data))\n",
    "    \n",
    "    def Mat_func(train_x,train_y):\n",
    "        for i in range(num_data):\n",
    "            for j in range(num_data):\n",
    "                Mat[i,j]=np.dot(train_x[i],train_x[j])*train_y[i]*train_y[j]\n",
    "        return Mat\n",
    "    \n",
    "    Mat=Mat_func(train_x,train_y)\n",
    "    # optimize\n",
    "    res = minimize(main_function, x0, args=(Mat,), method='L-BFGS-B', jac=jac, bounds=bnds)\n",
    "\n",
    "    # recover w, b\n",
    "    w = np.sum([res.x[i] * train_y[i] * train_x[i,:] for i in range(train_x.shape[0])], axis=0)\n",
    "    b = np.mean(train_y - np.dot(train_x, w))\n",
    "\n",
    "    return w, b"
   ]
  },
  {
   "cell_type": "code",
   "execution_count": 5,
   "id": "36532136",
   "metadata": {},
   "outputs": [],
   "source": [
    "def dual_test(x,y,w,b):\n",
    "    \n",
    "    error=0\n",
    "    num_data=x.shape[0]\n",
    "    for i in range(num_data):\n",
    "        tem=np.sign(w.dot(x[i]+b))\n",
    "        if tem!=y[i]:\n",
    "            error+=1\n",
    "    return error/num_data"
   ]
  },
  {
   "cell_type": "code",
   "execution_count": 6,
   "id": "05a83b38",
   "metadata": {},
   "outputs": [],
   "source": [
    "train_data = []\n",
    "with open('train.csv', 'r') as f:\n",
    "    for term in f:\n",
    "        train_data.append(term.strip().split(','))\n",
    "        \n",
    "test_data= []\n",
    "with open('test.csv', 'r') as f:\n",
    "    for term in f:\n",
    "        test_data.append(term.strip().split(','))"
   ]
  },
  {
   "cell_type": "code",
   "execution_count": 7,
   "id": "1b1e0d87",
   "metadata": {},
   "outputs": [],
   "source": [
    "train_data = np.array(train_data, dtype='float64')\n",
    "test_data = np.array(test_data, dtype='float64')"
   ]
  },
  {
   "cell_type": "code",
   "execution_count": 8,
   "id": "4fff08fd",
   "metadata": {},
   "outputs": [],
   "source": [
    "train_x= train_data[:, :-1]\n",
    "train_y = train_data[:, -1].astype(int)\n",
    "# convert y label with -1,1\n",
    "train_y[train_y == 0] = -1  "
   ]
  },
  {
   "cell_type": "code",
   "execution_count": 9,
   "id": "bc52eb5a",
   "metadata": {},
   "outputs": [],
   "source": [
    "test_x= test_data[:, :-1]\n",
    "test_y = test_data[:, -1].astype(int)\n",
    "# convert y label with -1,1\n",
    "test_y[test_y == 0] = -1 "
   ]
  },
  {
   "cell_type": "code",
   "execution_count": 10,
   "id": "7ccb1ed9",
   "metadata": {},
   "outputs": [],
   "source": [
    "C_set =  [100.0/873, 500.0/873, 700.0/873]"
   ]
  },
  {
   "cell_type": "code",
   "execution_count": 11,
   "id": "d5f1094a",
   "metadata": {},
   "outputs": [
    {
     "name": "stdout",
     "output_type": "stream",
     "text": [
      "C: 0.1145475372279496 weights: [-1.2683416  -0.67324123 -0.74689017 -0.25551805] bias: 2.4765196654753145\n",
      "C: 0.572737686139748 weights: [-1.69303249 -0.70342801 -0.77135958 -0.15729592] bias: 2.8780229871343943\n",
      "C: 0.8018327605956472 weights: [-1.7978385  -0.86819483 -1.08485354 -0.4180363 ] bias: 3.35720492782103\n"
     ]
    }
   ],
   "source": [
    "#Q3.a\n",
    "for c in C_set: \n",
    "    w,b=dual_svm(train_x,train_y,C=c)\n",
    "    print('C:', c,'weights:', w, 'bias:', b)\n",
    "    #train_error=dual_test(train_x,train_y,w,b)\n",
    "    #test_error=dual_test(test_x,test_y,w,b)\n",
    "    #print('training error:', train_error, 'test error', test_error)"
   ]
  },
  {
   "cell_type": "code",
   "execution_count": null,
   "id": "87b7772b",
   "metadata": {},
   "outputs": [],
   "source": []
  }
 ],
 "metadata": {
  "kernelspec": {
   "display_name": "Python 3",
   "language": "python",
   "name": "python3"
  },
  "language_info": {
   "codemirror_mode": {
    "name": "ipython",
    "version": 3
   },
   "file_extension": ".py",
   "mimetype": "text/x-python",
   "name": "python",
   "nbconvert_exporter": "python",
   "pygments_lexer": "ipython3",
   "version": "3.8.8"
  }
 },
 "nbformat": 4,
 "nbformat_minor": 5
}
