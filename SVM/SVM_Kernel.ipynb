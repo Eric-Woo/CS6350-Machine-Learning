{
 "cells": [
  {
   "cell_type": "code",
   "execution_count": 1,
   "id": "ffd98d83",
   "metadata": {},
   "outputs": [],
   "source": [
    "import numpy as np\n",
    "from scipy.optimize import minimize\n",
    "import math"
   ]
  },
  {
   "cell_type": "code",
   "execution_count": 2,
   "id": "6cc19788",
   "metadata": {},
   "outputs": [],
   "source": [
    "def Gaussian(x1, x2, gamma):\n",
    "    #Guassian kernel definition\n",
    "    return math.exp((-1) * np.linalg.norm(x1 - x2, 2) / gamma)\n",
    "\n",
    "def kernel_func(x1,x2,gamma):\n",
    "        Kernel=np.zeros((x1.shape[0], x2.shape[0]))\n",
    "        for i in range(x1.shape[0]):\n",
    "            for j in range(x2.shape[0]):\n",
    "                Kernel[i,j]=Gaussian(x1[i],x2[j],gamma)\n",
    "        return Kernel"
   ]
  },
  {
   "cell_type": "code",
   "execution_count": 3,
   "id": "1a935bd5",
   "metadata": {},
   "outputs": [],
   "source": [
    "def main_function(alpha, Mat):\n",
    "    \n",
    "    return 0.5 * np.dot(alpha, np.dot(Mat, alpha)) - np.sum(alpha)"
   ]
  },
  {
   "cell_type": "code",
   "execution_count": 4,
   "id": "1795dbc0",
   "metadata": {},
   "outputs": [],
   "source": [
    "def jac(alpha, Mat):\n",
    "    \n",
    "    return np.dot(alpha.T, Mat) - np.ones(alpha.shape[0])"
   ]
  },
  {
   "cell_type": "code",
   "execution_count": 5,
   "id": "3445ccc1",
   "metadata": {},
   "outputs": [],
   "source": [
    "def kernel_svm(train_x, train_y, C,epoch, gamma):\n",
    "    \n",
    "    num_data=train_x.shape[0]\n",
    "    \n",
    "    # set parameters\n",
    "    x0 = np.random.rand(num_data)\n",
    "    bnds = [(0, C)] * num_data\n",
    "    Mat = np.zeros((num_data, num_data))\n",
    "    \n",
    "    def Mat_func(train_x,train_y,gamma):\n",
    "        for i in range(num_data):\n",
    "            for j in range(num_data):\n",
    "                Mat[i,j]=Gaussian(train_x[i],train_x[j],gamma)*train_y[i]*train_y[j]\n",
    "        return Mat\n",
    "    \n",
    "    Mat=Mat_func(train_x,train_y,gamma)\n",
    "    # optimize\n",
    "    res = minimize(main_function, x0, args=(Mat,), method='L-BFGS-B', jac=jac, bounds=bnds)\n",
    "\n",
    "    # w, b,alpha\n",
    "    alpha=res.x\n",
    "    \n",
    "    Kernel=kernel_func(train_x,train_y,gamma)\n",
    "    Kernel=Kernel*alpha*train_y\n",
    "    \n",
    "    w = np.sum([res.x[i] * train_y[i] * train_x[i,:] for i in range(num_data)], axis=0)\n",
    "    b = np.mean(train_y - np.sum(Kernel, axis=0))\n",
    "\n",
    "    return w, b,alpha"
   ]
  },
  {
   "cell_type": "code",
   "execution_count": 6,
   "id": "ab9ebb65",
   "metadata": {},
   "outputs": [],
   "source": [
    "def kernel_test(x,y,train_x,train_y,alpha,b,gamma):\n",
    "    \n",
    "    error=0\n",
    "    num_data=x.shape[0]\n",
    "    Kernel=kernel_func(train_x,x,gamma)\n",
    "    alpha = np.reshape(alpha, (alpha.shape[0], 1))\n",
    "    train_y = np.reshape(train_y, (train_y.shape[0], 1))\n",
    "    \n",
    "    Kernel = Kernel*alpha * train_y \n",
    "    for i in range(num_data):\n",
    "        tem=np.sign((np.sum(Kernel, axis=0) + b)[i])\n",
    "        if tem!=y[i]:\n",
    "            error+=1\n",
    "    return error/num_data"
   ]
  },
  {
   "cell_type": "code",
   "execution_count": 7,
   "id": "05a83b38",
   "metadata": {},
   "outputs": [],
   "source": [
    "train_data = []\n",
    "with open('train.csv', 'r') as f:\n",
    "    for term in f:\n",
    "        train_data.append(term.strip().split(','))\n",
    "        \n",
    "test_data= []\n",
    "with open('test.csv', 'r') as f:\n",
    "    for term in f:\n",
    "        test_data.append(term.strip().split(','))"
   ]
  },
  {
   "cell_type": "code",
   "execution_count": 8,
   "id": "1b1e0d87",
   "metadata": {},
   "outputs": [],
   "source": [
    "train_data = np.array(train_data, dtype='float64')\n",
    "test_data = np.array(test_data, dtype='float64')"
   ]
  },
  {
   "cell_type": "code",
   "execution_count": 9,
   "id": "4fff08fd",
   "metadata": {},
   "outputs": [],
   "source": [
    "train_x= train_data[:, :-1]\n",
    "train_y = train_data[:, -1].astype(int)\n",
    "# convert y label with -1,1\n",
    "train_y[train_y == 0] = -1  "
   ]
  },
  {
   "cell_type": "code",
   "execution_count": 10,
   "id": "bc52eb5a",
   "metadata": {},
   "outputs": [],
   "source": [
    "test_x= test_data[:, :-1]\n",
    "test_y = test_data[:, -1].astype(int)\n",
    "# convert y label with -1,1\n",
    "test_y[test_y == 0] = -1 "
   ]
  },
  {
   "cell_type": "code",
   "execution_count": 11,
   "id": "7ccb1ed9",
   "metadata": {},
   "outputs": [],
   "source": [
    "gamma_set = [0.1, 0.5, 1, 5, 100]"
   ]
  },
  {
   "cell_type": "code",
   "execution_count": 13,
   "id": "d5f1094a",
   "metadata": {},
   "outputs": [
    {
     "name": "stdout",
     "output_type": "stream",
     "text": [
      "C: 0.1145475372279496 gamma: 0.1 weights: [-204.6327895  -280.24352171   45.18617664   11.61509345] bias: -0.10779731423261878\n",
      "# support vectors: 872\n",
      "training error: 0.0 test error 0.0\n",
      "C: 0.1145475372279496 gamma: 0.5 weights: [-204.5903865  -280.13537712   45.1437178    11.56933734] bias: -0.06482548359998565\n",
      "# support vectors: 872\n",
      "training error: 0.0 test error 0.0\n",
      "C: 0.1145475372279496 gamma: 1 weights: [-155.65215833 -222.20654584   41.40953402    8.94456447] bias: -0.013411721580710415\n",
      "# support vectors: 777\n",
      "training error: 0.0 test error 0.0\n",
      "C: 0.1145475372279496 gamma: 5 weights: [-47.8116733  -53.93136701   7.25562986  -1.42818775] bias: -0.8418853211033555\n",
      "# support vectors: 323\n",
      "training error: 0.06077981651376147 test error 0.06077981651376147\n",
      "C: 0.1145475372279496 gamma: 100 weights: [-145.14649289 -137.22956314  -17.67891807  -11.75211185] bias: -0.4285875996787792\n",
      "# support vectors: 731\n",
      "training error: 0.11353211009174312 test error 0.11353211009174312\n",
      "C: 0.572737686139748 gamma: 0.1 weights: [-1023.77667293 -1394.83876503   231.22722907    49.43162827] bias: -0.10779398534484638\n",
      "# support vectors: 872\n",
      "training error: 0.0 test error 0.0\n",
      "C: 0.572737686139748 gamma: 0.5 weights: [-567.16998702 -887.64080829  177.88565163   49.5158389 ] bias: 0.02420628483362067\n",
      "# support vectors: 855\n",
      "training error: 0.0 test error 0.0\n",
      "C: 0.572737686139748 gamma: 1 weights: [-216.6899133  -337.41751891   83.27461815   15.06280252] bias: 0.019282191515731788\n",
      "# support vectors: 656\n",
      "training error: 0.0 test error 0.0\n",
      "C: 0.572737686139748 gamma: 5 weights: [-51.8431605  -57.43636321   1.62152653   3.25102904] bias: -1.2183325002748842\n",
      "# support vectors: 171\n",
      "training error: 0.32454128440366975 test error 0.32454128440366975\n",
      "C: 0.572737686139748 gamma: 100 weights: [-246.12117909 -176.45023863  -94.36543496   -5.21233842] bias: -0.9461308639514601\n",
      "# support vectors: 372\n",
      "training error: 0.15940366972477063 test error 0.15940366972477063\n",
      "C: 0.8018327605956472 gamma: 0.1 weights: [-1429.1896466  -1938.01575294   326.9522748     61.06342559] bias: -0.10779238939069248\n",
      "# support vectors: 872\n",
      "training error: 0.0 test error 0.0\n",
      "C: 0.8018327605956472 gamma: 0.5 weights: [-582.30958063 -922.21258298  183.01790905   56.08787598] bias: 0.031226197596082333\n",
      "# support vectors: 855\n",
      "training error: 0.0 test error 0.0\n",
      "C: 0.8018327605956472 gamma: 1 weights: [-216.723254   -336.87930579   80.36496378   15.8687092 ] bias: 0.02447979631398403\n",
      "# support vectors: 655\n",
      "training error: 0.0 test error 0.0\n",
      "C: 0.8018327605956472 gamma: 5 weights: [-52.03141762 -57.946171     0.98100806   4.48760343] bias: -1.2813669126722738\n",
      "# support vectors: 160\n",
      "training error: 0.3555045871559633 test error 0.3555045871559633\n",
      "C: 0.8018327605956472 gamma: 100 weights: [-259.75254679 -185.92036058 -110.34266759   -0.65921143] bias: -1.0938761760313083\n",
      "# support vectors: 298\n",
      "training error: 0.25344036697247707 test error 0.25344036697247707\n"
     ]
    }
   ],
   "source": [
    "#Q3.b\n",
    "C_set =  [100.0/873, 500.0/873, 700.0/873]\n",
    "for C in C_set:\n",
    "    for g in gamma_set: \n",
    "        w, b, alpha = kernel_svm(train_x, train_y, epoch=100, C=C, gamma=g)\n",
    "        print('C:', C, 'gamma:', g, 'weights:', w, 'bias:', b)\n",
    "        # support vectors\n",
    "        print('# support vectors:', np.sum(alpha != 0.0))\n",
    "        # calculate training and test errors\n",
    "        train_error = kernel_test(train_x, train_y,train_x, train_y, alpha, b, gamma=g)\n",
    "        test_error = kernel_test(train_x, train_y,train_x, train_y, alpha, b, gamma=g)\n",
    "        print('training error:',  train_error, 'test error', test_error)"
   ]
  },
  {
   "cell_type": "code",
   "execution_count": null,
   "id": "87b7772b",
   "metadata": {},
   "outputs": [],
   "source": []
  }
 ],
 "metadata": {
  "kernelspec": {
   "display_name": "Python 3",
   "language": "python",
   "name": "python3"
  },
  "language_info": {
   "codemirror_mode": {
    "name": "ipython",
    "version": 3
   },
   "file_extension": ".py",
   "mimetype": "text/x-python",
   "name": "python",
   "nbconvert_exporter": "python",
   "pygments_lexer": "ipython3",
   "version": "3.8.8"
  }
 },
 "nbformat": 4,
 "nbformat_minor": 5
}
