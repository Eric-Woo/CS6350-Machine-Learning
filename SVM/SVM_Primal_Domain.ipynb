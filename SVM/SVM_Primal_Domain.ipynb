{
 "cells": [
  {
   "cell_type": "code",
   "execution_count": 1,
   "id": "ffd98d83",
   "metadata": {},
   "outputs": [],
   "source": [
    "import numpy as np\n",
    "from scipy.optimize import minimize\n",
    "import math"
   ]
  },
  {
   "cell_type": "code",
   "execution_count": 2,
   "id": "d2d8220a",
   "metadata": {},
   "outputs": [],
   "source": [
    "def primal_svm(x,y,epoch,C,gamma,schedule_type,d=0.01):\n",
    "    \n",
    "    # put bias term in x use numpy.hstack\n",
    "    x=np.hstack((x,np.ones((x.shape[0],1),dtype='float64')))\n",
    "    \n",
    "    #initialize the weight and gamma_0\n",
    "    w=np.zeros(x.shape[1],dtype='float64')\n",
    "    gamma_0=gamma\n",
    "    T=0\n",
    "\n",
    "    num_data=y.shape[0]\n",
    "    for t in range(0,epoch):\n",
    "        idx = np.arange(num_data)\n",
    "        np.random.shuffle(idx)\n",
    "        x = x[idx]\n",
    "        y = y[idx]\n",
    "        for i in range(num_data):\n",
    "            T=T+1\n",
    "            tmp = y[i] * np.dot(w,x[i])\n",
    "            if tmp <= 1:\n",
    "                w = w*(1-gamma) + gamma* C * num_data * y[i] * x[i]\n",
    "            \n",
    "            else:\n",
    "                w=w*(1-gamma)\n",
    "            \n",
    "            #use schedule_type to update the gammma\n",
    "\n",
    "            #Q2.(1)\n",
    "            if schedule_type==0:\n",
    "                gamma=gamma_0/(1+(gamma_0/d)*T)\n",
    "            #Q2.(2)\n",
    "            else:\n",
    "                gamma=gamma_0/(1+T)\n",
    "\n",
    "    return w    \n",
    "    "
   ]
  },
  {
   "cell_type": "code",
   "execution_count": 3,
   "id": "36532136",
   "metadata": {},
   "outputs": [],
   "source": [
    "def primal_test(x,y,w):\n",
    "    # put bias term in x use numpy.hstack\n",
    "    x=np.hstack((x,np.ones((x.shape[0],1),dtype='float64')))\n",
    "    \n",
    "    error=0\n",
    "    num_data=x.shape[0]\n",
    "    for i in range(num_data):\n",
    "        tem=np.sign(w.dot(x[i]))\n",
    "        if tem!=y[i]:\n",
    "            error+=1\n",
    "    return error/num_data"
   ]
  },
  {
   "cell_type": "code",
   "execution_count": 4,
   "id": "05a83b38",
   "metadata": {},
   "outputs": [],
   "source": [
    "train_data = []\n",
    "with open('train.csv', 'r') as f:\n",
    "    for term in f:\n",
    "        train_data.append(term.strip().split(','))\n",
    "        \n",
    "test_data= []\n",
    "with open('test.csv', 'r') as f:\n",
    "    for term in f:\n",
    "        test_data.append(term.strip().split(','))"
   ]
  },
  {
   "cell_type": "code",
   "execution_count": 5,
   "id": "1b1e0d87",
   "metadata": {},
   "outputs": [],
   "source": [
    "train_data = np.array(train_data, dtype='float64')\n",
    "test_data = np.array(test_data, dtype='float64')"
   ]
  },
  {
   "cell_type": "code",
   "execution_count": 6,
   "id": "4fff08fd",
   "metadata": {},
   "outputs": [],
   "source": [
    "train_x= train_data[:, :-1]\n",
    "train_y = train_data[:, -1].astype(int)\n",
    "# convert y label with -1,1\n",
    "train_y[train_y == 0] = -1  "
   ]
  },
  {
   "cell_type": "code",
   "execution_count": 7,
   "id": "6ace7913",
   "metadata": {},
   "outputs": [
    {
     "name": "stdout",
     "output_type": "stream",
     "text": [
      "[[ 3.8481   10.1539   -3.8561   -4.2228  ]\n",
      " [ 4.0047    0.45937   1.3621    1.6181  ]\n",
      " [-0.048008 -1.6037    8.4756    0.75558 ]\n",
      " ...\n",
      " [-1.2424   -1.7175   -0.52553  -0.21036 ]\n",
      " [ 1.8373    6.1292    0.84027   0.55257 ]\n",
      " [-2.0149    3.6874   -1.9385   -3.8918  ]]\n"
     ]
    }
   ],
   "source": [
    "print(train_x)"
   ]
  },
  {
   "cell_type": "code",
   "execution_count": 8,
   "id": "bc52eb5a",
   "metadata": {},
   "outputs": [],
   "source": [
    "test_x= test_data[:, :-1]\n",
    "test_y = test_data[:, -1].astype(int)\n",
    "# convert y label with -1,1\n",
    "test_y[test_y == 0] = -1 "
   ]
  },
  {
   "cell_type": "code",
   "execution_count": 9,
   "id": "7ccb1ed9",
   "metadata": {},
   "outputs": [],
   "source": [
    "C_set =  [100.0/873, 500.0/873, 700.0/873]"
   ]
  },
  {
   "cell_type": "code",
   "execution_count": 19,
   "id": "d5f1094a",
   "metadata": {},
   "outputs": [
    {
     "name": "stdout",
     "output_type": "stream",
     "text": [
      "C: 0.1145475372279496\n",
      "training error: 0.04243119266055046 test error 0.038\n",
      "C: 0.572737686139748\n",
      "training error: 0.047018348623853214 test error 0.052\n",
      "C: 0.8018327605956472\n",
      "training error: 0.033256880733944956 test error 0.05\n"
     ]
    }
   ],
   "source": [
    "#Q2.a\n",
    "for c in C_set: \n",
    "    w=primal_svm(train_x,train_y,epoch=100,C=c,gamma=0.01,schedule_type=0,d=0.01)\n",
    "    print('C:', c)\n",
    "    train_error=primal_test(train_x,train_y,w)\n",
    "    test_error=primal_test(test_x,test_y,w)\n",
    "    print('training error:', train_error, 'test error', test_error)"
   ]
  },
  {
   "cell_type": "code",
   "execution_count": 24,
   "id": "83c91293",
   "metadata": {},
   "outputs": [
    {
     "name": "stdout",
     "output_type": "stream",
     "text": [
      "C: 0.1145475372279496\n",
      "training error: 0.04931192660550459 test error 0.054\n",
      "C: 0.572737686139748\n",
      "training error: 0.05504587155963303 test error 0.066\n",
      "C: 0.8018327605956472\n",
      "training error: 0.04128440366972477 test error 0.046\n"
     ]
    }
   ],
   "source": [
    "#Q2.b\n",
    "for c in C_set: \n",
    "    w=primal_svm(train_x,train_y,epoch=100,C=c,gamma=0.01,schedule_type=1)\n",
    "    print('C:', c)\n",
    "    train_error=primal_test(train_x,train_y,w)\n",
    "    test_error=primal_test(test_x,test_y,w)\n",
    "    print('training error:', train_error, 'test error', test_error)"
   ]
  },
  {
   "cell_type": "code",
   "execution_count": null,
   "id": "87b7772b",
   "metadata": {},
   "outputs": [],
   "source": []
  }
 ],
 "metadata": {
  "kernelspec": {
   "display_name": "Python 3",
   "language": "python",
   "name": "python3"
  },
  "language_info": {
   "codemirror_mode": {
    "name": "ipython",
    "version": 3
   },
   "file_extension": ".py",
   "mimetype": "text/x-python",
   "name": "python",
   "nbconvert_exporter": "python",
   "pygments_lexer": "ipython3",
   "version": "3.8.8"
  }
 },
 "nbformat": 4,
 "nbformat_minor": 5
}
