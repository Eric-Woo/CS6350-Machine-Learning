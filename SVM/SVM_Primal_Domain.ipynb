{
 "cells": [
  {
   "cell_type": "code",
   "execution_count": 1,
   "id": "a08d8a23",
   "metadata": {},
   "outputs": [],
   "source": [
    "import numpy as np\n",
    "from scipy.optimize import minimize\n",
    "import math"
   ]
  },
  {
   "cell_type": "code",
   "execution_count": 2,
   "id": "b17dbfb9",
   "metadata": {},
   "outputs": [],
   "source": [
    "def primal_svm(x,y,epoch,C,gamma,schedule_type,d=0.01):\n",
    "    \n",
    "    # put bias term in x use numpy.hstack\n",
    "    x=np.hstack((x,np.ones((x.shape[0],1),dtype='float64')))\n",
    "    \n",
    "    #initialize the weight and gamma_0\n",
    "    w=np.zeros(x.shape[1],dtype='float64')\n",
    "    gamma_0=gamma\n",
    "    T=0\n",
    "\n",
    "    num_data=y.shape[0]\n",
    "    for t in range(0,epoch):\n",
    "        idx = np.arange(num_data)\n",
    "        np.random.shuffle(idx)\n",
    "        x = x[idx]\n",
    "        y = y[idx]\n",
    "        for i in range(num_data):\n",
    "            T=T+1\n",
    "            tmp = y[i] * np.dot(w,x[i])\n",
    "            if tmp <= 1:\n",
    "                w = w*(1-gamma) + gamma* C * num_data * y[i] * x[i]\n",
    "            \n",
    "            else:\n",
    "                w=w*(1-gamma)\n",
    "            \n",
    "            #use schedule_type to update the gammma\n",
    "\n",
    "            #Q2.(1)\n",
    "            if schedule_type==0:\n",
    "                gamma=gamma_0/(1+(gamma_0/d)*T)\n",
    "            #Q2.(2)\n",
    "            else:\n",
    "                gamma=gamma_0/(1+T)\n",
    "\n",
    "    return w    \n",
    "    "
   ]
  },
  {
   "cell_type": "code",
   "execution_count": 3,
   "id": "da144857",
   "metadata": {},
   "outputs": [],
   "source": [
    "def primal_test(x,y,w):\n",
    "    # put bias term in x use numpy.hstack\n",
    "    x=np.hstack((x,np.ones((x.shape[0],1),dtype='float64')))\n",
    "    \n",
    "    error=0\n",
    "    num_data=x.shape[0]\n",
    "    for i in range(num_data):\n",
    "        tem=np.sign(w.dot(x[i]))\n",
    "        if tem!=y[i]:\n",
    "            error+=1\n",
    "    return error/num_data"
   ]
  },
  {
   "cell_type": "code",
   "execution_count": 4,
   "id": "4fa34e7d",
   "metadata": {},
   "outputs": [],
   "source": [
    "train_data = []\n",
    "with open('train.csv', 'r') as f:\n",
    "    for term in f:\n",
    "        train_data.append(term.strip().split(','))\n",
    "        \n",
    "test_data= []\n",
    "with open('test.csv', 'r') as f:\n",
    "    for term in f:\n",
    "        test_data.append(term.strip().split(','))"
   ]
  },
  {
   "cell_type": "code",
   "execution_count": 5,
   "id": "f08e16f6",
   "metadata": {},
   "outputs": [],
   "source": [
    "train_data = np.array(train_data, dtype='float64')\n",
    "test_data = np.array(test_data, dtype='float64')"
   ]
  },
  {
   "cell_type": "code",
   "execution_count": 6,
   "id": "4b62df16",
   "metadata": {},
   "outputs": [],
   "source": [
    "train_x= train_data[:, :-1]\n",
    "train_y = train_data[:, -1].astype(int)\n",
    "# convert y label with -1,1\n",
    "train_y[train_y == 0] = -1  "
   ]
  },
  {
   "cell_type": "code",
   "execution_count": 7,
   "id": "425482e1",
   "metadata": {},
   "outputs": [
    {
     "name": "stdout",
     "output_type": "stream",
     "text": [
      "[[ 3.8481   10.1539   -3.8561   -4.2228  ]\n",
      " [ 4.0047    0.45937   1.3621    1.6181  ]\n",
      " [-0.048008 -1.6037    8.4756    0.75558 ]\n",
      " ...\n",
      " [-1.2424   -1.7175   -0.52553  -0.21036 ]\n",
      " [ 1.8373    6.1292    0.84027   0.55257 ]\n",
      " [-2.0149    3.6874   -1.9385   -3.8918  ]]\n"
     ]
    }
   ],
   "source": [
    "print(train_x)"
   ]
  },
  {
   "cell_type": "code",
   "execution_count": 8,
   "id": "3c827e81",
   "metadata": {},
   "outputs": [],
   "source": [
    "test_x= test_data[:, :-1]\n",
    "test_y = test_data[:, -1].astype(int)\n",
    "# convert y label with -1,1\n",
    "test_y[test_y == 0] = -1 "
   ]
  },
  {
   "cell_type": "code",
   "execution_count": 9,
   "id": "4f461c66",
   "metadata": {},
   "outputs": [],
   "source": [
    "C_set =  [100.0/873, 500.0/873, 700.0/873]"
   ]
  },
  {
   "cell_type": "code",
   "execution_count": 15,
   "id": "12a29865",
   "metadata": {},
   "outputs": [
    {
     "name": "stdout",
     "output_type": "stream",
     "text": [
      "C: 0.1145475372279496\n",
      "weight: [-2.87173909 -1.9368885  -2.07686898 -0.84062728  0.38091442]\n",
      "training error: 0.034403669724770644 test error 0.042\n",
      "C: 0.572737686139748\n",
      "weight: [-19.00621819  -4.93745258  -7.65874174   0.75014713  -0.33062305]\n",
      "training error: 0.05389908256880734 test error 0.078\n",
      "C: 0.8018327605956472\n",
      "weight: [-35.85957296 -18.63064816 -15.58956407  -5.608325     0.99037843]\n",
      "training error: 0.05389908256880734 test error 0.078\n"
     ]
    }
   ],
   "source": [
    "#Q2.a\n",
    "for c in C_set: \n",
    "    w=primal_svm(train_x,train_y,epoch=100,C=c,gamma=0.01,schedule_type=0,d=0.01)\n",
    "    print('C:', c)\n",
    "    print(\"weight:\",w)\n",
    "    train_error=primal_test(train_x,train_y,w)\n",
    "    test_error=primal_test(test_x,test_y,w)\n",
    "    print('training error:', train_error, 'test error', test_error)"
   ]
  },
  {
   "cell_type": "code",
   "execution_count": 16,
   "id": "9a67736c",
   "metadata": {},
   "outputs": [
    {
     "name": "stdout",
     "output_type": "stream",
     "text": [
      "C: 0.1145475372279496\n",
      "weight: [-5.87881207 -3.17547378 -3.723896    0.61483615 -0.15081326]\n",
      "training error: 0.06995412844036697 test error 0.096\n",
      "C: 0.572737686139748\n",
      "weight: [-1.49541657e+01 -3.99864920e+00 -6.12169076e+00 -1.36353006e-02\n",
      " -1.21503953e+00]\n",
      "training error: 0.058486238532110095 test error 0.078\n",
      "C: 0.8018327605956472\n",
      "weight: [-19.69450763 -13.42534244 -14.52535492  -3.14762631  -0.40535176]\n",
      "training error: 0.047018348623853214 test error 0.058\n"
     ]
    }
   ],
   "source": [
    "#Q2.b\n",
    "for c in C_set: \n",
    "    w=primal_svm(train_x,train_y,epoch=100,C=c,gamma=0.01,schedule_type=1)\n",
    "    print('C:', c)\n",
    "    print(\"weight:\",w)\n",
    "    train_error=primal_test(train_x,train_y,w)\n",
    "    test_error=primal_test(test_x,test_y,w)\n",
    "    print('training error:', train_error, 'test error', test_error)"
   ]
  },
  {
   "cell_type": "code",
   "execution_count": null,
   "id": "59978fd1",
   "metadata": {},
   "outputs": [],
   "source": []
  }
 ],
 "metadata": {
  "kernelspec": {
   "display_name": "Python 3",
   "language": "python",
   "name": "python3"
  },
  "language_info": {
   "codemirror_mode": {
    "name": "ipython",
    "version": 3
   },
   "file_extension": ".py",
   "mimetype": "text/x-python",
   "name": "python",
   "nbconvert_exporter": "python",
   "pygments_lexer": "ipython3",
   "version": "3.8.8"
  }
 },
 "nbformat": 4,
 "nbformat_minor": 5
}
