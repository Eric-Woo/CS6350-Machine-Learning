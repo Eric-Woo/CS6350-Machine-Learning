{
 "cells": [
  {
   "cell_type": "code",
   "execution_count": 1,
   "id": "ffd98d83",
   "metadata": {},
   "outputs": [],
   "source": [
    "import numpy as np\n",
    "from scipy.optimize import minimize\n",
    "import math"
   ]
  },
  {
   "cell_type": "code",
   "execution_count": 2,
   "id": "457c6fd6",
   "metadata": {},
   "outputs": [],
   "source": [
    "def Gaussian_func(x1, x2, gamma):\n",
    "    #Guassian kernel definition\n",
    "    return math.exp((-1) * np.linalg.norm(x1 - x2, 2) / gamma)"
   ]
  },
  {
   "cell_type": "code",
   "execution_count": 3,
   "id": "d1a89609",
   "metadata": {},
   "outputs": [],
   "source": [
    "def kernel_func(x1,x2,gamma):\n",
    "    \n",
    "    N1=x1.shape[0]\n",
    "    N2=x2.shape[0]\n",
    "    Kernel=np.zeros((N1,N2))\n",
    "    for i in range(N1):\n",
    "        for j in range(N2):\n",
    "            Kernel[i,j]=Gaussian_func(x1[i],x2[j],gamma)\n",
    "    return Kernel"
   ]
  },
  {
   "cell_type": "code",
   "execution_count": 4,
   "id": "276fcc49",
   "metadata": {},
   "outputs": [],
   "source": [
    "def perceptron_kernel(x,y,epoch,gamma):\n",
    "    \n",
    "    N=x.shape[0]\n",
    "    \n",
    "    #initialize the weight and alpha\n",
    "    w=np.zeros(x.shape[1],dtype='float64')\n",
    "    \n",
    "    alpha=np.ones(N)\n",
    "    kernel=kernel_func(x,x,gamma)\n",
    "    \n",
    "    for t in range(epoch):\n",
    "        for i in range(N):\n",
    "            temp = np.dot(alpha * y, kernel)\n",
    "            if np.sign(temp[i]) != y[i]:\n",
    "                alpha[i] += 1\n",
    "\n",
    "    return alpha"
   ]
  },
  {
   "cell_type": "code",
   "execution_count": 5,
   "id": "36532136",
   "metadata": {},
   "outputs": [],
   "source": [
    "def perceptron_test(x,y,train_x,train_y,alpha,gamma):\n",
    "    \n",
    "    error=0\n",
    "    \n",
    "    N=x.shape[0]\n",
    "    Kernel=kernel_func(train_x,x,gamma)\n",
    "    alpha = np.reshape(alpha, (alpha.shape[0], 1))\n",
    "    train_y = np.reshape(train_y, (train_y.shape[0], 1))\n",
    "    \n",
    "    Kernel = Kernel*alpha * train_y\n",
    "    tem=np.sum(Kernel, axis=0)\n",
    "    for i in range(N):\n",
    "        if np.sign(tem[i])!=y[i]:\n",
    "            error+=1\n",
    "    return error/N"
   ]
  },
  {
   "cell_type": "code",
   "execution_count": 6,
   "id": "05a83b38",
   "metadata": {},
   "outputs": [],
   "source": [
    "train_data = []\n",
    "with open('train.csv', 'r') as f:\n",
    "    for term in f:\n",
    "        train_data.append(term.strip().split(','))\n",
    "        \n",
    "test_data= []\n",
    "with open('test.csv', 'r') as f:\n",
    "    for term in f:\n",
    "        test_data.append(term.strip().split(','))"
   ]
  },
  {
   "cell_type": "code",
   "execution_count": 7,
   "id": "1b1e0d87",
   "metadata": {},
   "outputs": [],
   "source": [
    "train_data = np.array(train_data, dtype='float64')\n",
    "test_data = np.array(test_data, dtype='float64')"
   ]
  },
  {
   "cell_type": "code",
   "execution_count": 8,
   "id": "4fff08fd",
   "metadata": {},
   "outputs": [],
   "source": [
    "train_x= train_data[:, :-1]\n",
    "train_y = train_data[:, -1].astype(int)\n",
    "# convert y label with -1,1\n",
    "train_y[train_y == 0] = -1  "
   ]
  },
  {
   "cell_type": "code",
   "execution_count": 9,
   "id": "bc52eb5a",
   "metadata": {},
   "outputs": [],
   "source": [
    "test_x= test_data[:, :-1]\n",
    "test_y = test_data[:, -1].astype(int)\n",
    "# convert y label with -1,1\n",
    "test_y[test_y == 0] = -1 "
   ]
  },
  {
   "cell_type": "code",
   "execution_count": 10,
   "id": "7ccb1ed9",
   "metadata": {},
   "outputs": [],
   "source": [
    "gamma_set = [0.1, 0.5, 1, 5, 100]"
   ]
  },
  {
   "cell_type": "code",
   "execution_count": 11,
   "id": "d5f1094a",
   "metadata": {},
   "outputs": [
    {
     "name": "stdout",
     "output_type": "stream",
     "text": [
      "training error: 0.0 test error 0.002\n",
      "training error: 0.0 test error 0.0\n",
      "training error: 0.0 test error 0.0\n",
      "training error: 0.0 test error 0.004\n",
      "training error: 0.0 test error 0.0\n"
     ]
    }
   ],
   "source": [
    "#Q3.d\n",
    "for g in gamma_set: \n",
    "    alpha = perceptron_kernel(train_x, train_y, epoch=100, gamma=g)\n",
    "    \n",
    "    # calculate training and test errors\n",
    "    train_error = perceptron_test(train_x, train_y,train_x, train_y, alpha, gamma=g)\n",
    "    test_error = perceptron_test(test_x, test_y, train_x, train_y,alpha, gamma=g)\n",
    "    print('training error:',  train_error, 'test error', test_error)"
   ]
  },
  {
   "cell_type": "code",
   "execution_count": null,
   "id": "87b7772b",
   "metadata": {},
   "outputs": [],
   "source": []
  }
 ],
 "metadata": {
  "kernelspec": {
   "display_name": "Python 3",
   "language": "python",
   "name": "python3"
  },
  "language_info": {
   "codemirror_mode": {
    "name": "ipython",
    "version": 3
   },
   "file_extension": ".py",
   "mimetype": "text/x-python",
   "name": "python",
   "nbconvert_exporter": "python",
   "pygments_lexer": "ipython3",
   "version": "3.8.8"
  }
 },
 "nbformat": 4,
 "nbformat_minor": 5
}
