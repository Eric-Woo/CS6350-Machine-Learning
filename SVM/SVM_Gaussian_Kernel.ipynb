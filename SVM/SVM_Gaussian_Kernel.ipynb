{
 "cells": [
  {
   "cell_type": "code",
   "execution_count": 1,
   "id": "ffd98d83",
   "metadata": {},
   "outputs": [],
   "source": [
    "import numpy as np\n",
    "from scipy.optimize import minimize\n",
    "import math"
   ]
  },
  {
   "cell_type": "code",
   "execution_count": 2,
   "id": "597c7616",
   "metadata": {},
   "outputs": [],
   "source": [
    "def Gaussian(x1, x2, gamma):\n",
    "    #Guassian kernel definition\n",
    "    return math.exp((-1) * np.linalg.norm(x1 - x2, 2) / gamma)\n",
    "\n",
    "def kernel_func(x1,x2,gamma):\n",
    "        Kernel=np.zeros((x1.shape[0], x2.shape[0]))\n",
    "        for i in range(x1.shape[0]):\n",
    "            for j in range(x2.shape[0]):\n",
    "                Kernel[i,j]=Gaussian(x1[i],x2[j],gamma)\n",
    "        return Kernel"
   ]
  },
  {
   "cell_type": "code",
   "execution_count": 3,
   "id": "13ac1000",
   "metadata": {},
   "outputs": [],
   "source": [
    "def main_function(alpha, Mat):\n",
    "    \n",
    "    return 0.5 * np.dot(alpha, np.dot(Mat, alpha)) - np.sum(alpha)"
   ]
  },
  {
   "cell_type": "code",
   "execution_count": 4,
   "id": "51a555f0",
   "metadata": {},
   "outputs": [],
   "source": [
    "def jac(alpha, Mat):\n",
    "    \n",
    "    return np.dot(alpha.T, Mat) - np.ones(alpha.shape[0])"
   ]
  },
  {
   "cell_type": "code",
   "execution_count": 5,
   "id": "3445ccc1",
   "metadata": {},
   "outputs": [],
   "source": [
    "def kernel_svm(train_x, train_y, C,epoch, gamma):\n",
    "    \n",
    "    num_data=train_x.shape[0]\n",
    "    \n",
    "    # set parameters\n",
    "    x0 = np.random.rand(num_data)\n",
    "    bnds = [(0, C)] * num_data\n",
    "    Mat = np.zeros((num_data, num_data))\n",
    "    \n",
    "    def Mat_func(train_x,train_y,gamma):\n",
    "        for i in range(num_data):\n",
    "            for j in range(num_data):\n",
    "                Mat[i,j]=Gaussian(train_x[i],train_x[j],gamma)*train_y[i]*train_y[j]\n",
    "        return Mat\n",
    "    \n",
    "    Mat=Mat_func(train_x,train_y,gamma)\n",
    "    # optimize\n",
    "    res = minimize(main_function, x0, args=(Mat,), method='L-BFGS-B', jac=jac, bounds=bnds)\n",
    "\n",
    "    # w, b,alpha\n",
    "    alpha=res.x\n",
    "    \n",
    "    Kernel=kernel_func(train_x,train_y,gamma)\n",
    "    Kernel=Kernel*alpha*train_y\n",
    "    \n",
    "    w = np.sum([res.x[i] * train_y[i] * train_x[i,:] for i in range(num_data)], axis=0)\n",
    "    b = np.mean(train_y - np.sum(Kernel, axis=0))\n",
    "\n",
    "    return w, b,alpha"
   ]
  },
  {
   "cell_type": "code",
   "execution_count": 6,
   "id": "a7f6efee",
   "metadata": {},
   "outputs": [],
   "source": [
    "def kernel_test(x,y,train_x,train_y,alpha,b,gamma):\n",
    "    \n",
    "    error=0\n",
    "    num_data=x.shape[0]\n",
    "    Kernel=kernel_func(train_x,x,gamma)\n",
    "    \n",
    "    #reshape the alpha and train_y\n",
    "    alpha = np.reshape(alpha, (alpha.shape[0], 1))\n",
    "    train_y = np.reshape(train_y, (train_y.shape[0], 1))\n",
    "    \n",
    "    Kernel = Kernel*alpha * train_y \n",
    "    for i in range(num_data):\n",
    "        tem=np.sign((np.sum(Kernel, axis=0) + b)[i])\n",
    "        if tem!=y[i]:\n",
    "            error+=1\n",
    "    return error/num_data"
   ]
  },
  {
   "cell_type": "code",
   "execution_count": 7,
   "id": "05a83b38",
   "metadata": {},
   "outputs": [],
   "source": [
    "train_data = []\n",
    "with open('train.csv', 'r') as f:\n",
    "    for term in f:\n",
    "        train_data.append(term.strip().split(','))\n",
    "        \n",
    "test_data= []\n",
    "with open('test.csv', 'r') as f:\n",
    "    for term in f:\n",
    "        test_data.append(term.strip().split(','))"
   ]
  },
  {
   "cell_type": "code",
   "execution_count": 8,
   "id": "1b1e0d87",
   "metadata": {},
   "outputs": [],
   "source": [
    "train_data = np.array(train_data, dtype='float64')\n",
    "test_data = np.array(test_data, dtype='float64')"
   ]
  },
  {
   "cell_type": "code",
   "execution_count": 9,
   "id": "4fff08fd",
   "metadata": {},
   "outputs": [],
   "source": [
    "train_x= train_data[:, :-1]\n",
    "train_y = train_data[:, -1].astype(int)\n",
    "# convert y label with -1,1\n",
    "train_y[train_y == 0] = -1  "
   ]
  },
  {
   "cell_type": "code",
   "execution_count": 10,
   "id": "bc52eb5a",
   "metadata": {},
   "outputs": [],
   "source": [
    "test_x= test_data[:, :-1]\n",
    "test_y = test_data[:, -1].astype(int)\n",
    "# convert y label with -1,1\n",
    "test_y[test_y == 0] = -1 "
   ]
  },
  {
   "cell_type": "code",
   "execution_count": 11,
   "id": "7ccb1ed9",
   "metadata": {},
   "outputs": [],
   "source": [
    "gamma_set = [0.1, 0.5, 1, 5, 100]"
   ]
  },
  {
   "cell_type": "code",
   "execution_count": 14,
   "id": "d5f1094a",
   "metadata": {},
   "outputs": [
    {
     "name": "stdout",
     "output_type": "stream",
     "text": [
      "C: 0.1145475372279496\n",
      "# support vectors: 872\n",
      "training error: 0.0 test error 0.442\n",
      "C: 0.1145475372279496\n",
      "# support vectors: 872\n",
      "training error: 0.0 test error 0.018\n",
      "C: 0.1145475372279496\n",
      "# support vectors: 777\n",
      "training error: 0.0 test error 0.0\n",
      "C: 0.1145475372279496\n",
      "# support vectors: 323\n",
      "training error: 0.06077981651376147 test error 0.074\n",
      "C: 0.1145475372279496\n",
      "# support vectors: 738\n",
      "training error: 0.11353211009174312 test error 0.134\n",
      "C: 0.572737686139748\n",
      "# support vectors: 872\n",
      "training error: 0.0 test error 0.398\n",
      "C: 0.572737686139748\n",
      "# support vectors: 855\n",
      "training error: 0.0 test error 0.002\n",
      "C: 0.572737686139748\n",
      "# support vectors: 656\n",
      "training error: 0.0 test error 0.002\n",
      "C: 0.572737686139748\n",
      "# support vectors: 171\n",
      "training error: 0.32454128440366975 test error 0.34\n",
      "C: 0.572737686139748\n",
      "# support vectors: 356\n",
      "training error: 0.15825688073394495 test error 0.208\n",
      "C: 0.8018327605956472\n",
      "# support vectors: 872\n",
      "training error: 0.0 test error 0.38\n",
      "C: 0.8018327605956472\n",
      "# support vectors: 855\n",
      "training error: 0.0 test error 0.002\n",
      "C: 0.8018327605956472\n",
      "# support vectors: 655\n",
      "training error: 0.0 test error 0.002\n",
      "C: 0.8018327605956472\n",
      "# support vectors: 160\n",
      "training error: 0.3555045871559633 test error 0.364\n",
      "C: 0.8018327605956472\n",
      "# support vectors: 340\n",
      "training error: 0.24541284403669725 test error 0.248\n"
     ]
    }
   ],
   "source": [
    "#Q3.b\n",
    "C_set =  [100.0/873, 500.0/873, 700.0/873]\n",
    "for C in C_set:\n",
    "    for g in gamma_set: \n",
    "        w, b, alpha = kernel_svm(train_x, train_y, epoch=100, C=C, gamma=g)\n",
    "        #print('C:', C, 'gamma:', g, 'weights:', w, 'bias:', b)\n",
    "        print(\"C:\",C)\n",
    "        # support vectors\n",
    "        print('# support vectors:', np.sum(alpha != 0.0))\n",
    "        # calculate training and test errors\n",
    "        train_error = kernel_test(train_x, train_y,train_x, train_y, alpha, b, gamma=g)\n",
    "        test_error = kernel_test(test_x, test_y,train_x, train_y, alpha, b, gamma=g)\n",
    "        print('training error:',  train_error, 'test error', test_error)"
   ]
  },
  {
   "cell_type": "code",
   "execution_count": 18,
   "id": "af306335",
   "metadata": {},
   "outputs": [
    {
     "name": "stdout",
     "output_type": "stream",
     "text": [
      "gamma: 0.1\n",
      "#intersect:  1\n",
      "gamma: 0.5\n",
      "#intersect:  855\n",
      "gamma: 1\n",
      "#intersect:  656\n",
      "gamma: 5\n",
      "#intersect:  170\n",
      "gamma: 100\n",
      "#intersect:  145\n"
     ]
    }
   ],
   "source": [
    "# look for the intersect support vector if C=500/873\n",
    "for C in C_set:\n",
    "    if C==500/873:\n",
    "        sup_vec=np.zeros(train_x.shape[0])\n",
    "    for g in gamma_set: \n",
    "        w, b, alpha = kernel_svm(train_x, train_y, epoch=100, C=C, gamma=g)\n",
    "        if C==500/873:\n",
    "            tem_vec=np.argwhere(alpha>0)\n",
    "            intersect = len(np.intersect1d(sup_vec,tem_vec))\n",
    "            print(\"gamma:\",g)\n",
    "            print('#intersect: ', intersect)\n",
    "            sup_vec=tem_vec        "
   ]
  },
  {
   "cell_type": "code",
   "execution_count": null,
   "id": "87b7772b",
   "metadata": {},
   "outputs": [],
   "source": []
  }
 ],
 "metadata": {
  "kernelspec": {
   "display_name": "Python 3",
   "language": "python",
   "name": "python3"
  },
  "language_info": {
   "codemirror_mode": {
    "name": "ipython",
    "version": 3
   },
   "file_extension": ".py",
   "mimetype": "text/x-python",
   "name": "python",
   "nbconvert_exporter": "python",
   "pygments_lexer": "ipython3",
   "version": "3.8.8"
  }
 },
 "nbformat": 4,
 "nbformat_minor": 5
}
