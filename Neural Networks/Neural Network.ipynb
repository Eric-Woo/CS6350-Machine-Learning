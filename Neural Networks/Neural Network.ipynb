{
 "cells": [
  {
   "cell_type": "code",
   "execution_count": 1,
   "id": "c19d0c00",
   "metadata": {},
   "outputs": [],
   "source": [
    "import numpy as np\n",
    "import pandas as pd"
   ]
  },
  {
   "cell_type": "code",
   "execution_count": 2,
   "id": "563a6872",
   "metadata": {},
   "outputs": [],
   "source": [
    "def stochestic_nn(x,y,epoches,lr,lr_schedule,initial_type=0,Layers=[3]):\n",
    "    \n",
    "    Num=x.shape[1]\n",
    "    Loss=[]\n",
    "    #set initial_type=0:zeros;else:random\n",
    "    if initial_type==0:\n",
    "        weights = dict()\n",
    "        for i in range(len(Layers)):\n",
    "            #  if it is the first layer\n",
    "            if i == 0:\n",
    "                W = np.zeros((Layers[i], x.shape[0]))\n",
    "                b = np.zeros((Layers[i], 1))\n",
    "            else:\n",
    "                W = np.zeros((Layers[i], Layers[i-1]))\n",
    "                b = np.zeros((Layers[i], 1))\n",
    "\n",
    "            weights['W' + str(i+1)] = W\n",
    "            weights['b' + str(i+1)] = b\n",
    "\n",
    "        #  for the last layer\n",
    "        W = np.zeros((y.shape[0], Layers[-1]))\n",
    "        b = np.zeros((y.shape[0], 1))\n",
    "        weights['W' + str(len(Layers)+1)] = W\n",
    "        weights['b' + str(len(Layers)+1)] = b\n",
    "\n",
    "    else: \n",
    "        weights = dict()\n",
    "        dim_y=y.shape[0]\n",
    "        for i in range(len(Layers)):\n",
    "            num_hidden=Layers[i]\n",
    "\n",
    "            #  if it is the first layer\n",
    "            if i == 0:\n",
    "                W =np.random.normal(0,1,(num_hidden, x.shape[0]))\n",
    "                b = np.zeros((num_hidden, 1))\n",
    "            else:\n",
    "                W = np.random.normal(0,1,(num_hidden, Layers[i-1]))\n",
    "                b = np.zeros((num_hidden, 1))\n",
    "\n",
    "            weights['W' + str(i+1)] = W\n",
    "            weights['b' + str(i+1)] = b\n",
    "\n",
    "        #  for the last layer\n",
    "        W = np.random.normal(0,1,(dim_y, Layers[-1]))\n",
    "        b = np.zeros((dim_y, 1))\n",
    "        weights['W' + str(len(Layers)+1)] = W\n",
    "        weights['b' + str(len(Layers)+1)] = b\n",
    "\n",
    "    idx=np.arange(Num)\n",
    "    for epoch in range(epoches):\n",
    "        np.random.shuffle(idx)\n",
    "        x=x[:,idx]\n",
    "        y=y[:,idx]\n",
    "        \n",
    "        #SGD\n",
    "        for i in range(Num):\n",
    "            #forward pass\n",
    "            out,temp=forward_pass(x[:,i],weights)\n",
    "            #calculate loss\n",
    "            loss=square_loss(y[:,i],out)\n",
    "            #backward pass\n",
    "            grad_weights=backward_pass(y[:,i],out,weights,temp)\n",
    "            lr=lr_schedule(lr,epoch)\n",
    "            #update the weights\n",
    "            weights=update_weights(weights,grad_weights,lr)\n",
    "            \n",
    "            Loss.append(loss)\n",
    "            \n",
    "    return weights"
   ]
  },
  {
   "cell_type": "code",
   "execution_count": 3,
   "id": "16cc1e0f",
   "metadata": {},
   "outputs": [],
   "source": [
    "#The mathematical representation of this unit is  Z[l]=W[l]A[l−1]+b[l] .\n",
    "def forward_pass(x, weights):\n",
    "    \n",
    "    temp = dict()\n",
    "    \n",
    "    A = x[:, np.newaxis]\n",
    "    temp['Z0'],temp[\"A0\"] = x[:, np.newaxis],x[:, np.newaxis]\n",
    "    \n",
    "    #number of layers in the neural network\n",
    "    for i in range(len(weights) // 2):\n",
    "        W = weights['W' + str(i+1)]\n",
    "        Z = np.dot(W, A)\n",
    "        A = sigmoid(Z)\n",
    "        \n",
    "        temp['Z' + str(i+1)] = Z\n",
    "        temp['A' + str(i+1)] = A\n",
    "\n",
    "    return A, temp"
   ]
  },
  {
   "cell_type": "code",
   "execution_count": 4,
   "id": "8ae95f6d",
   "metadata": {},
   "outputs": [],
   "source": [
    "def square_loss(y,out):\n",
    "    loss = -1 * (np.dot(y, np.log(out).T) + np.dot((1-y), np.log(1-out).T))\n",
    "    return loss"
   ]
  },
  {
   "cell_type": "code",
   "execution_count": 5,
   "id": "fdfc81be",
   "metadata": {},
   "outputs": [],
   "source": [
    "def backward_pass(y, out, weights, temp):\n",
    "    grads = dict()\n",
    "    \n",
    "    dZ = out - y\n",
    "     # ith layer: gradients.\n",
    "    for i in reversed(range(len(weights)//2)):\n",
    "        A = temp['A' + str(i)]\n",
    "        dW = np.dot(dZ, A.T)\n",
    "        db = np.sum(dZ, axis=1)\n",
    "        grads['dW' + str(i+1)] = dW\n",
    "        grads['db' + str(i+1)] = db\n",
    "        \n",
    "        W = weights['W' + str(i+1)]\n",
    "        dA_prev = np.dot(W.T, dZ)\n",
    "        Z_prev = temp['Z'+str(i)]\n",
    "        dZ_prev = dA_prev * sigmoid_prime(Z_prev)\n",
    "        dZ = dZ_prev\n",
    "\n",
    "    return grads\n"
   ]
  },
  {
   "cell_type": "code",
   "execution_count": 6,
   "id": "ee252518",
   "metadata": {},
   "outputs": [],
   "source": [
    "def update_weights(weights, grads, lr):\n",
    "    \n",
    "    for i in range(len(weights) // 2):\n",
    "\n",
    "        weights['W' + str(i+1)] =weights['W' + str(i+1)] - lr * grads['dW' + str(i+1)]\n",
    "        weights['b' + str(i+1)] = weights['b' + str(i+1)]- lr * grads['db' + str(i+1)]\n",
    "\n",
    "        weights['W' + str(i+1)] = weights['W' + str(i+1)]\n",
    "        weights['b' + str(i+1)] = weights['b' + str(i+1)]\n",
    "\n",
    "    return weights"
   ]
  },
  {
   "cell_type": "code",
   "execution_count": 7,
   "id": "7dca02a2",
   "metadata": {},
   "outputs": [],
   "source": [
    "def sigmoid(z):\n",
    "    return 1 / (1 + np.exp(-z))\n",
    "\n",
    "\n",
    "def sigmoid_prime(z):\n",
    "    return sigmoid(z) * (1 - sigmoid(z))"
   ]
  },
  {
   "cell_type": "code",
   "execution_count": 8,
   "id": "87979fe4",
   "metadata": {},
   "outputs": [],
   "source": [
    "# schedule function for learning rate\n",
    "def lr_schedule(r0, t):\n",
    "    d = 0.1\n",
    "    r = r0 / (1 + (r0/d)*t)\n",
    "    return r"
   ]
  },
  {
   "cell_type": "code",
   "execution_count": 9,
   "id": "344b2d8f",
   "metadata": {},
   "outputs": [],
   "source": [
    "def pred(x, weights):\n",
    "    A = x\n",
    "    for i in range(len(weights) // 2):\n",
    "        W = weights['W' + str(i+1)]\n",
    "        Z = np.dot(W, A)\n",
    "        A = sigmoid(Z)\n",
    "\n",
    "    predictions = np.where(A >= 0.5, 1, 0)\n",
    "    return predictions\n",
    "\n",
    "def error(y, out):\n",
    "    m = y.shape[1]\n",
    "    err=1-np.sum(y==out) / m\n",
    "    return err"
   ]
  },
  {
   "cell_type": "code",
   "execution_count": null,
   "id": "a14ff843",
   "metadata": {},
   "outputs": [],
   "source": []
  },
  {
   "cell_type": "code",
   "execution_count": 10,
   "id": "3539b6f3",
   "metadata": {},
   "outputs": [],
   "source": [
    "train_data = []\n",
    "with open('train.csv', 'r') as f:\n",
    "    for term in f:\n",
    "        train_data.append(term.strip().split(','))\n",
    "        \n",
    "test_data= []\n",
    "with open('test.csv', 'r') as f:\n",
    "    for term in f:\n",
    "        test_data.append(term.strip().split(','))"
   ]
  },
  {
   "cell_type": "code",
   "execution_count": 11,
   "id": "1d97f3d9",
   "metadata": {},
   "outputs": [],
   "source": [
    "train_data = np.array(train_data, dtype='float64')\n",
    "test_data = np.array(test_data, dtype='float64')"
   ]
  },
  {
   "cell_type": "code",
   "execution_count": 12,
   "id": "c2b4d586",
   "metadata": {},
   "outputs": [],
   "source": [
    "train_x= train_data[:, :-1]\n",
    "train_y = train_data[:, -1].astype(int)\n",
    "train_y  = train_y [:, np.newaxis]\n",
    "train_x, train_y = train_x.T, train_y.T\n",
    "test_x= test_data[:, :-1]\n",
    "test_y = test_data[:, -1].astype(int)\n",
    "test_y  = test_y[:, np.newaxis]\n",
    "test_x, test_y = test_x.T, test_y.T"
   ]
  },
  {
   "cell_type": "code",
   "execution_count": 13,
   "id": "5e48abda",
   "metadata": {},
   "outputs": [
    {
     "name": "stdout",
     "output_type": "stream",
     "text": [
      "5 Train Error 0.4461009174311926 Test Error 0.44199999999999995\n",
      "10 Train Error 0.4461009174311926 Test Error 0.44199999999999995\n",
      "25 Train Error 0.4461009174311926 Test Error 0.44199999999999995\n",
      "50 Train Error 0.4461009174311926 Test Error 0.44199999999999995\n",
      "100 Train Error 0.4461009174311926 Test Error 0.44199999999999995\n"
     ]
    }
   ],
   "source": [
    "widths = [5, 10, 25, 50, 100]\n",
    "for w in widths:\n",
    "    weights=stochestic_nn(train_x,train_y,epoches=10,lr=0.1,lr_schedule=lr_schedule,initial_type=0,Layers=[w,w])\n",
    "    pred_train = pred(train_x, weights)\n",
    "    pred_test = pred(test_x, weights)\n",
    "    train_error= error(train_y, pred_train)\n",
    "    test_error = error(test_y, pred_test)\n",
    "    print(w, 'Train Error', train_error, 'Test Error', test_error)"
   ]
  },
  {
   "cell_type": "code",
   "execution_count": 14,
   "id": "39b1ad14",
   "metadata": {},
   "outputs": [
    {
     "name": "stdout",
     "output_type": "stream",
     "text": [
      "5 Train Error 0.008027522935779796 Test Error 0.018000000000000016\n",
      "10 Train Error 0.0011467889908256534 Test Error 0.0020000000000000018\n",
      "25 Train Error 0.002293577981651418 Test Error 0.0040000000000000036\n",
      "50 Train Error 0.0 Test Error 0.0\n",
      "100 Train Error 0.0 Test Error 0.0\n"
     ]
    }
   ],
   "source": [
    "widths = [5, 10, 25, 50, 100]\n",
    "for w in widths:\n",
    "    weights=stochestic_nn(train_x,train_y,epoches=10,lr=0.1,lr_schedule=lr_schedule,initial_type=1,Layers=[w,w])\n",
    "    pred_train = pred(train_x, weights)\n",
    "    pred_test = pred(test_x, weights)\n",
    "    train_error= error(train_y, pred_train)\n",
    "    test_error = error(test_y, pred_test)\n",
    "    print(w, 'Train Error', train_error, 'Test Error', test_error)"
   ]
  },
  {
   "cell_type": "code",
   "execution_count": null,
   "id": "2c344480",
   "metadata": {},
   "outputs": [],
   "source": []
  },
  {
   "cell_type": "code",
   "execution_count": null,
   "id": "40491452",
   "metadata": {},
   "outputs": [],
   "source": []
  }
 ],
 "metadata": {
  "kernelspec": {
   "display_name": "Python 3",
   "language": "python",
   "name": "python3"
  },
  "language_info": {
   "codemirror_mode": {
    "name": "ipython",
    "version": 3
   },
   "file_extension": ".py",
   "mimetype": "text/x-python",
   "name": "python",
   "nbconvert_exporter": "python",
   "pygments_lexer": "ipython3",
   "version": "3.8.8"
  }
 },
 "nbformat": 4,
 "nbformat_minor": 5
}
