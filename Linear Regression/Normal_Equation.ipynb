{
 "cells": [
  {
   "cell_type": "code",
   "execution_count": 1,
   "id": "5f57cd7b",
   "metadata": {},
   "outputs": [],
   "source": [
    "import numpy as np\n",
    "import matplotlib.pyplot as plt\n",
    "from numpy.linalg import inv"
   ]
  },
  {
   "cell_type": "code",
   "execution_count": 2,
   "id": "83459a5b",
   "metadata": {},
   "outputs": [],
   "source": [
    "train_list=[]\n",
    "with open('train.csv','r') as f:\n",
    "    for line in f:\n",
    "        terms=line.strip().split(',')\n",
    "        train_list.append(terms)\n",
    "test_list = []\n",
    "with open('test.csv','r') as f:\n",
    "    for line in f:\n",
    "        terms=line.strip().split(',')\n",
    "        test_list.append(terms)"
   ]
  },
  {
   "cell_type": "code",
   "execution_count": 3,
   "id": "1196f2cd",
   "metadata": {},
   "outputs": [],
   "source": [
    "# convert to float\n",
    "for row in train_list:\n",
    "        for i in range(len(train_list[0])):\n",
    "            row[i] = float(row[i])"
   ]
  },
  {
   "cell_type": "code",
   "execution_count": 4,
   "id": "265d4745",
   "metadata": {},
   "outputs": [],
   "source": [
    "train_X=[]\n",
    "for row in train_list:\n",
    "    train_x=row[0:7]\n",
    "    train_X.append(train_x) "
   ]
  },
  {
   "cell_type": "code",
   "execution_count": 5,
   "id": "aeb86373",
   "metadata": {},
   "outputs": [],
   "source": [
    "train_Y=[]\n",
    "for row in train_list:\n",
    "    train_y=row[-1]\n",
    "    train_Y.append(train_y)  \n"
   ]
  },
  {
   "cell_type": "code",
   "execution_count": 6,
   "id": "5eda4aa7",
   "metadata": {},
   "outputs": [
    {
     "name": "stdout",
     "output_type": "stream",
     "text": [
      "[0.92154947 0.80829428 0.87397433 1.3142877  0.13392374 1.59904727\n",
      " 1.02029192]\n"
     ]
    }
   ],
   "source": [
    "y = np.array(train_Y)\n",
    "x_t = np.array(train_X).transpose()\n",
    "t1 = inv(np.matmul(x_t, x_t.transpose()))\n",
    "t2 = np.matmul(t1, x_t)\n",
    "t =np.matmul(t2, y)\n",
    "print(t)"
   ]
  },
  {
   "cell_type": "code",
   "execution_count": null,
   "id": "6057c65d",
   "metadata": {},
   "outputs": [],
   "source": []
  }
 ],
 "metadata": {
  "kernelspec": {
   "display_name": "Python 3",
   "language": "python",
   "name": "python3"
  },
  "language_info": {
   "codemirror_mode": {
    "name": "ipython",
    "version": 3
   },
   "file_extension": ".py",
   "mimetype": "text/x-python",
   "name": "python",
   "nbconvert_exporter": "python",
   "pygments_lexer": "ipython3",
   "version": "3.8.8"
  }
 },
 "nbformat": 4,
 "nbformat_minor": 5
}
