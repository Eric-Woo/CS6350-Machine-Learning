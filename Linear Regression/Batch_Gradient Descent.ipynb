{
 "cells": [
  {
   "cell_type": "code",
   "execution_count": 1,
   "id": "7529652b",
   "metadata": {},
   "outputs": [],
   "source": [
    "import pandas as pd\n",
    "import numpy as np\n",
    "import matplotlib.pyplot as plt\n",
    "from numpy.linalg import inv"
   ]
  },
  {
   "cell_type": "code",
   "execution_count": 2,
   "id": "24370203",
   "metadata": {},
   "outputs": [],
   "source": [
    "train_data = pd.read_csv('train.csv', header=None)\n",
    "test_data = pd.read_csv('test.csv', header=None)"
   ]
  },
  {
   "cell_type": "code",
   "execution_count": 3,
   "id": "993f0c87",
   "metadata": {},
   "outputs": [
    {
     "data": {
      "text/html": [
       "<div>\n",
       "<style scoped>\n",
       "    .dataframe tbody tr th:only-of-type {\n",
       "        vertical-align: middle;\n",
       "    }\n",
       "\n",
       "    .dataframe tbody tr th {\n",
       "        vertical-align: top;\n",
       "    }\n",
       "\n",
       "    .dataframe thead th {\n",
       "        text-align: right;\n",
       "    }\n",
       "</style>\n",
       "<table border=\"1\" class=\"dataframe\">\n",
       "  <thead>\n",
       "    <tr style=\"text-align: right;\">\n",
       "      <th></th>\n",
       "      <th>0</th>\n",
       "      <th>1</th>\n",
       "      <th>2</th>\n",
       "      <th>3</th>\n",
       "      <th>4</th>\n",
       "      <th>5</th>\n",
       "      <th>6</th>\n",
       "      <th>7</th>\n",
       "    </tr>\n",
       "  </thead>\n",
       "  <tbody>\n",
       "    <tr>\n",
       "      <th>0</th>\n",
       "      <td>-0.890447</td>\n",
       "      <td>-1.295950</td>\n",
       "      <td>1.188030</td>\n",
       "      <td>-1.450430</td>\n",
       "      <td>1.238500</td>\n",
       "      <td>1.876070</td>\n",
       "      <td>-0.818684</td>\n",
       "      <td>-0.005574</td>\n",
       "    </tr>\n",
       "    <tr>\n",
       "      <th>1</th>\n",
       "      <td>0.549165</td>\n",
       "      <td>0.066917</td>\n",
       "      <td>-0.517804</td>\n",
       "      <td>0.638098</td>\n",
       "      <td>0.164716</td>\n",
       "      <td>0.227616</td>\n",
       "      <td>-0.945600</td>\n",
       "      <td>0.568593</td>\n",
       "    </tr>\n",
       "    <tr>\n",
       "      <th>2</th>\n",
       "      <td>0.941555</td>\n",
       "      <td>-1.292630</td>\n",
       "      <td>1.068030</td>\n",
       "      <td>1.950890</td>\n",
       "      <td>-0.085833</td>\n",
       "      <td>-1.180960</td>\n",
       "      <td>-0.385584</td>\n",
       "      <td>0.798260</td>\n",
       "    </tr>\n",
       "    <tr>\n",
       "      <th>3</th>\n",
       "      <td>-0.966886</td>\n",
       "      <td>1.047520</td>\n",
       "      <td>0.376289</td>\n",
       "      <td>1.831540</td>\n",
       "      <td>0.880569</td>\n",
       "      <td>-0.988829</td>\n",
       "      <td>-0.898007</td>\n",
       "      <td>0.568593</td>\n",
       "    </tr>\n",
       "    <tr>\n",
       "      <th>4</th>\n",
       "      <td>0.638344</td>\n",
       "      <td>0.233121</td>\n",
       "      <td>-0.364867</td>\n",
       "      <td>0.488917</td>\n",
       "      <td>0.164716</td>\n",
       "      <td>-0.011126</td>\n",
       "      <td>-0.961465</td>\n",
       "      <td>0.855677</td>\n",
       "    </tr>\n",
       "  </tbody>\n",
       "</table>\n",
       "</div>"
      ],
      "text/plain": [
       "          0         1         2         3         4         5         6  \\\n",
       "0 -0.890447 -1.295950  1.188030 -1.450430  1.238500  1.876070 -0.818684   \n",
       "1  0.549165  0.066917 -0.517804  0.638098  0.164716  0.227616 -0.945600   \n",
       "2  0.941555 -1.292630  1.068030  1.950890 -0.085833 -1.180960 -0.385584   \n",
       "3 -0.966886  1.047520  0.376289  1.831540  0.880569 -0.988829 -0.898007   \n",
       "4  0.638344  0.233121 -0.364867  0.488917  0.164716 -0.011126 -0.961465   \n",
       "\n",
       "          7  \n",
       "0 -0.005574  \n",
       "1  0.568593  \n",
       "2  0.798260  \n",
       "3  0.568593  \n",
       "4  0.855677  "
      ]
     },
     "execution_count": 3,
     "metadata": {},
     "output_type": "execute_result"
    }
   ],
   "source": [
    "train_data.head()"
   ]
  },
  {
   "cell_type": "code",
   "execution_count": 4,
   "id": "a2504623",
   "metadata": {},
   "outputs": [],
   "source": [
    "train_col=train_data.values.shape[1]\n",
    "train_row=train_data.values.shape[0]"
   ]
  },
  {
   "cell_type": "code",
   "execution_count": 5,
   "id": "0ec92f4d",
   "metadata": {},
   "outputs": [],
   "source": [
    "train_x=np.copy(train_data.values)"
   ]
  },
  {
   "cell_type": "code",
   "execution_count": 6,
   "id": "9937ca89",
   "metadata": {},
   "outputs": [],
   "source": [
    "train_x=train_x[:,:-1]\n",
    "train_y = train_data.values[:,-1]"
   ]
  },
  {
   "cell_type": "code",
   "execution_count": null,
   "id": "94bd3ba1",
   "metadata": {},
   "outputs": [],
   "source": []
  },
  {
   "cell_type": "code",
   "execution_count": 9,
   "id": "377c5a99",
   "metadata": {},
   "outputs": [],
   "source": [
    "def BGD(x,y,lr,tolerance,max_iter):\n",
    "    \n",
    "    #initial weight with 0\n",
    "    w=np.zeros([x.shape[1],1])\n",
    "    #initial iteration\n",
    "    num_iter=0\n",
    "    Loss=[]\n",
    "    difference=1\n",
    "    \n",
    "    while num_iter<max_iter and difference> tolerance:\n",
    "        \n",
    "        num_iter += 1\n",
    "        errors=np.squeeze(np.matmul(x,w))-y\n",
    "        tem1=np.reshape(errors,(-1,1))\n",
    "        delta=-lr*np.reshape(np.sum(np.transpose(tem1*x),axis=1),(-1,1))\n",
    "        difference = np.sqrt(np.sum(np.square(delta)))\n",
    "        w_update=w+delta\n",
    "        \n",
    "        \n",
    "        w=w_update\n",
    "        errors=np.squeeze(np.matmul(x,w))-y\n",
    "        tem2=np.reshape(errors,(-1,1))\n",
    "        loss=0.5 * np.sum(np.square(tem2))\n",
    "        Loss.append(loss)\n",
    "    \n",
    "    return w,Loss"
   ]
  },
  {
   "cell_type": "code",
   "execution_count": 10,
   "id": "41ea003f",
   "metadata": {},
   "outputs": [
    {
     "data": {
      "image/png": "[encoded data removed]",
      "text/plain": [
       "<Figure size 432x288 with 1 Axes>"
      ]
     },
     "metadata": {
      "needs_background": "light"
     },
     "output_type": "display_data"
    }
   ],
   "source": [
    "[w,Loss]=BGD(train_x,train_y,lr=0.001,tolerance=1e-5,max_iter=1000)\n",
    "fig = plt.figure()\n",
    "fig.suptitle('Batch Gradient Descent')\n",
    "plt.xlabel('Number of Iteration', fontsize=20)\n",
    "plt.ylabel('Loss', fontsize=16)\n",
    "plt.plot(Loss, 'r') \n",
    "plt.legend(['tolerance=1e-5'])\n",
    "fig.savefig('BGD.png')"
   ]
  },
  {
   "cell_type": "code",
   "execution_count": null,
   "id": "539d8845",
   "metadata": {},
   "outputs": [],
   "source": []
  },
  {
   "cell_type": "code",
   "execution_count": null,
   "id": "f7187a8b",
   "metadata": {},
   "outputs": [],
   "source": []
  }
 ],
 "metadata": {
  "kernelspec": {
   "display_name": "Python 3",
   "language": "python",
   "name": "python3"
  },
  "language_info": {
   "codemirror_mode": {
    "name": "ipython",
    "version": 3
   },
   "file_extension": ".py",
   "mimetype": "text/x-python",
   "name": "python",
   "nbconvert_exporter": "python",
   "pygments_lexer": "ipython3",
   "version": "3.8.8"
  }
 },
 "nbformat": 4,
 "nbformat_minor": 5
}
