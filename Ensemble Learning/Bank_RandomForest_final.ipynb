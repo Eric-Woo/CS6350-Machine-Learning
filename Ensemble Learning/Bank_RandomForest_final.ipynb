{
 "cells": [
  {
   "cell_type": "code",
   "execution_count": 1,
   "id": "6414dbb1",
   "metadata": {},
   "outputs": [],
   "source": [
    "import math\n",
    "import copy\n",
    "import numpy as np \n",
    "import statistics\n",
    "import matplotlib.pyplot as plt"
   ]
  },
  {
   "cell_type": "code",
   "execution_count": 2,
   "id": "e1519915",
   "metadata": {},
   "outputs": [],
   "source": [
    "class Node:\n",
    "    def __init__(self, label):\n",
    "        self.label = label\n",
    "        self.children = dict()\n",
    "\n",
    "    def isLeaf(self):\n",
    "        return len(self.children) == 0"
   ]
  },
  {
   "cell_type": "code",
   "execution_count": 3,
   "id": "d7235c35",
   "metadata": {},
   "outputs": [],
   "source": [
    "def get_total(data):\n",
    "    total = 0.0\n",
    "\n",
    "    for row in data:\n",
    "        total += row['weights']\n",
    "    \n",
    "    return total"
   ]
  },
  {
   "cell_type": "code",
   "execution_count": 4,
   "id": "5e0c1685",
   "metadata": {},
   "outputs": [],
   "source": [
    "def set_subset(data, attribute, val):\n",
    "    sub_data = []\n",
    "\n",
    "    for row in data:\n",
    "        if row[attribute] == val:\n",
    "            sub_data.append(row)\n",
    "\n",
    "    return sub_data"
   ]
  },
  {
   "cell_type": "code",
   "execution_count": 5,
   "id": "bac02bea",
   "metadata": {},
   "outputs": [],
   "source": [
    "def set_label(row, dt):\n",
    "    new_dt = dt\n",
    "\n",
    "    while not new_dt.isLeaf():\n",
    "        curr_attr = new_dt.label\n",
    "        attr_val = row[curr_attr]\n",
    "        new_dt = new_dt.children[attr_val]\n",
    "\n",
    "    return new_dt.label"
   ]
  },
  {
   "cell_type": "code",
   "execution_count": 6,
   "id": "f9b5bc0d",
   "metadata": {},
   "outputs": [],
   "source": [
    "def entropy(data):\n",
    "    \n",
    "    if len(data) == 0:\n",
    "        return 0\n",
    "    \n",
    "    counts = dict()\n",
    "\n",
    "    for row in data:\n",
    "        label = row['y']\n",
    "        if label not in counts:\n",
    "            counts[label] = 0.0\n",
    "            \n",
    "        counts[label] += row['weights']\n",
    "\n",
    "    entropy = 0.0\n",
    "    total = get_total(data)\n",
    "    for (label, count) in counts.items():\n",
    "        p = count / total\n",
    "        entropy += -p * math.log2(p)\n",
    "\n",
    "    return entropy\n",
    "\n",
    "def gini_index(data):\n",
    "    if len(data) == 0:\n",
    "        return 0\n",
    "    \n",
    "    counts = dict()\n",
    "\n",
    "    for row in data:\n",
    "        label = row['y']\n",
    "        if label not in counts:\n",
    "            counts[label] = 0.0\n",
    "        counts[label] += row['weights']\n",
    "\n",
    "    sq_sum = 0.0\n",
    "    total =  get_total(data)\n",
    "    for (label, count) in counts.items():\n",
    "        p = count / total\n",
    "        sq_sum +=p **2\n",
    "\n",
    "    return 1-sq_sum\n",
    "\n",
    "def ME(data):\n",
    "    if len(data) == 0:\n",
    "        return 0\n",
    "    \n",
    "    counts = dict()\n",
    "\n",
    "    for row in data:\n",
    "        label = row['y']\n",
    "        if label not in counts:\n",
    "            counts[label] = 0.0\n",
    "        counts[label] += row['weights']\n",
    "\n",
    "    max_p = 0.0\n",
    "    total = get_total(data)\n",
    "    for (label, count) in counts.items():\n",
    "        p = count / total\n",
    "        max_p = max(max_p, p)\n",
    "\n",
    "    return 1-max_p"
   ]
  },
  {
   "cell_type": "code",
   "execution_count": 7,
   "id": "94ce3cbf",
   "metadata": {},
   "outputs": [],
   "source": [
    "def info_gain(data,gain_type,attribute, vals):\n",
    "    \n",
    "    measure = None\n",
    "    gain = 0.0\n",
    "    if gain_type == 0:\n",
    "        measure=entropy(data)\n",
    "           \n",
    "    elif gain_type == 1:\n",
    "         measure=gini_index(data)\n",
    "        \n",
    "    elif gain_type == 2:\n",
    "         measure=ME(data)\n",
    "            \n",
    "    for val in vals:\n",
    "        sub_set = set_subset(data, attribute, val)\n",
    "        total=get_total(data)\n",
    "        sub_total=get_total(sub_set)\n",
    "        p = sub_total /total\n",
    "        gain += p * measure\n",
    "        gain_x= measure-gain\n",
    "        \n",
    "    return gain_x"
   ]
  },
  {
   "cell_type": "code",
   "execution_count": 8,
   "id": "f391e3ff",
   "metadata": {},
   "outputs": [],
   "source": [
    "def select_feature(data,gain_type, attributes):\n",
    "    gain_x= dict()\n",
    "\n",
    "    for ln, lv in attributes.items():\n",
    "        gain = info_gain(data,gain_type, ln, lv)\n",
    "        gain_x[ln] = gain\n",
    "        max_attr=max(gain_x.keys(), key=lambda key: gain_x[key])\n",
    "\n",
    "    return max_attr"
   ]
  },
  {
   "cell_type": "code",
   "execution_count": 9,
   "id": "c347a032",
   "metadata": {},
   "outputs": [],
   "source": [
    "def majority_label(data):\n",
    "    \n",
    "    counts = dict()\n",
    "    for row in data:\n",
    "        label = row['y']\n",
    "        \n",
    "        if label not in counts:\n",
    "            counts[label] = 0.0\n",
    "            \n",
    "        counts[label] += row['weights']\n",
    "        \n",
    "    common_label=max(counts.keys(), key=lambda key: counts[key])\n",
    "\n",
    "    return common_label"
   ]
  },
  {
   "cell_type": "code",
   "execution_count": 10,
   "id": "e4764762",
   "metadata": {},
   "outputs": [],
   "source": [
    "def ID3(data,gain_type, attributes, labels, max_depth,depth,size):\n",
    "    \n",
    "    if (len(attributes) == 0) or depth==max_depth:\n",
    "        label = majority_label(data)\n",
    "        \n",
    "        return Node(label)\n",
    "    \n",
    "    if (len(labels) == 1):\n",
    "        label = labels.pop()\n",
    "        \n",
    "        return Node(label)\n",
    "\n",
    "    #recursion\n",
    "    max_attr = select_feature(data,gain_type,attributes)\n",
    "    root = Node(max_attr)\n",
    "    \n",
    "\n",
    "    # split into subsets\n",
    "    for v in attributes[max_attr]:\n",
    "        sub_set = set_subset(data, max_attr, v)\n",
    "\n",
    "        if len(sub_set) == 0:\n",
    "            label = majority_label(data)\n",
    "            root.children[v] = Node(label)\n",
    "            \n",
    "        else:\n",
    "            \n",
    "            sub_attributes = copy.deepcopy(attributes)\n",
    "            sub_attributes.pop(max_attr)\n",
    "\n",
    "            # update subset labels set\n",
    "            sub_labels = set()\n",
    "            for row in sub_set:\n",
    "                sub_label = row['y']\n",
    "                if  sub_labels not in sub_labels:\n",
    "                    sub_labels.add(sub_label)\n",
    "\n",
    "            # recursion\n",
    "            root.children[v] = ID3(sub_set, gain_type,sub_attributes, sub_labels, max_depth, depth+1,size)\n",
    "\n",
    "    return root"
   ]
  },
  {
   "cell_type": "code",
   "execution_count": 11,
   "id": "bd37350d",
   "metadata": {},
   "outputs": [],
   "source": [
    "def cls(data, gain_type,attributes, labels,max_depth,depth,T,size):\n",
    "    \n",
    "    DT=[]\n",
    "    for t in range(0, T):\n",
    "        random_data=[random.choice(data) for i in range(len(data))]\n",
    "        dt= ID3(random_data, gain_type,attributes, labels, max_depth,depth,size)\n",
    "        DT.append(dt)\n",
    "    \n",
    "    return DT"
   ]
  },
  {
   "cell_type": "code",
   "execution_count": 12,
   "id": "68c5e81a",
   "metadata": {},
   "outputs": [],
   "source": [
    "def prediction(data, DT):\n",
    "    \n",
    "    h_rate = 0\n",
    "\n",
    "    for row in data:\n",
    "        pred = 0.0\n",
    "        \n",
    "        for dt in DT:\n",
    "            label = set_label(row,dt)\n",
    "            label = 1 if label == 'yes' else -1\n",
    "            pred += label \n",
    "\n",
    "        if row['y'] == 'yes' and pred > 0:\n",
    "            h_rate += 1\n",
    "        if row['y'] == 'no' and pred < 0:\n",
    "            h_rate += 1\n",
    "    \n",
    "    return h_rate/len(data)"
   ]
  },
  {
   "cell_type": "code",
   "execution_count": 13,
   "id": "a6d5b303",
   "metadata": {},
   "outputs": [],
   "source": [
    "attributes = {'age': [0, 1], \n",
    "        'job': ['admin.', 'unknown', 'unemployed', 'management', 'housemaid', 'entrepreneur', 'student', 'blue-collar', 'self-employed', 'retired', 'technician', 'services'], \n",
    "        'marital': ['married','divorced','single'], \n",
    "        'education': ['unknown', 'secondary', 'primary', 'tertiary'],\n",
    "        'default': ['yes', 'no'],\n",
    "        'balance': [0, 1], \n",
    "        'housing': ['yes', 'no'],\n",
    "        'loan': ['yes', 'no'],\n",
    "        'contact': ['unknown', 'telephone', 'cellular'],\n",
    "        'day': [0, 1],  \n",
    "        'month': ['jan', 'feb', 'mar', 'apr', 'may', 'jun', 'jul', 'aug', 'sep', 'oct', 'nov', 'dec'],\n",
    "        'duration': [0, 1],\n",
    "        'campaign': [0, 1], \n",
    "        'pdays': [0, 1], \n",
    "        'previous': [0, 1], \n",
    "        'poutcome': ['unknown', 'other', 'failure', 'success']}"
   ]
  },
  {
   "cell_type": "code",
   "execution_count": 14,
   "id": "f26321f0",
   "metadata": {},
   "outputs": [],
   "source": [
    "if __name__ == '__main__':\n",
    "    \n",
    "    columns = ['age', 'job', 'marital', 'education', 'default', 'balance', 'housing', 'loan', 'contact', 'day', 'month', 'duration', 'campaign', 'pdays', 'previous', 'poutcome', 'y']\n",
    "    labels = {'yes', 'no'}\n",
    "    numeric_attrs = ['age', 'balance', 'day', 'duration', 'campaign', 'pdays', 'previous']"
   ]
  },
  {
   "cell_type": "code",
   "execution_count": 15,
   "id": "7558a330",
   "metadata": {},
   "outputs": [],
   "source": [
    "# read training data\n",
    "train_data=[]\n",
    "with open('train.csv', 'r') as f:\n",
    "    for line in f:\n",
    "        example = dict()\n",
    "        terms = line.strip().split(',')\n",
    "        for i in range(len(terms)):\n",
    "            attrName = columns[i]\n",
    "            example[attrName] = terms[i]\n",
    "        \n",
    "        train_data.append(example)"
   ]
  },
  {
   "cell_type": "code",
   "execution_count": 16,
   "id": "33bc95d0",
   "metadata": {},
   "outputs": [],
   "source": [
    "# read test data\n",
    "test_data=[]\n",
    "with open('test.csv', 'r') as f:\n",
    "    for line in f:\n",
    "        example = dict()\n",
    "        terms = line.strip().split(',')\n",
    "        for i in range(len(terms)):\n",
    "            attrName = columns[i]\n",
    "            example[attrName] = terms[i]\n",
    "        \n",
    "        test_data.append(example)"
   ]
  },
  {
   "cell_type": "code",
   "execution_count": 17,
   "id": "42c75a98",
   "metadata": {},
   "outputs": [],
   "source": [
    "#convert numeric variable to binary variable\n",
    "medians = {'age': 0.0,'balance': 0.0,'day': 0.0,'duration': 0.0,'campaign': 0.0,'pdays': 0.0,'previous': 0.0}\n",
    " \n",
    "for key in medians.keys():\n",
    "    vals = []\n",
    "    for row in train_data:\n",
    "        vals.append(float(row[key]))\n",
    "    medians[key] = statistics.median(vals)\n"
   ]
  },
  {
   "cell_type": "code",
   "execution_count": 18,
   "id": "b330850b",
   "metadata": {},
   "outputs": [],
   "source": [
    "#if >median, 1 else 0\n",
    "for key, value in medians.items():\n",
    "    for row in train_data:\n",
    "        val = float(row[key])\n",
    "        row[key] = 1 if val > value else 0\n",
    "\n",
    "    for row in test_data:\n",
    "        val = float(row[key])\n",
    "        row[key] = 1 if val > value else 0"
   ]
  },
  {
   "cell_type": "code",
   "execution_count": 19,
   "id": "39409bdf",
   "metadata": {},
   "outputs": [],
   "source": [
    "#initialize the weight\n",
    "train_size=len(train_data)\n",
    "test_size=len(test_data)\n",
    "for row in train_data:\n",
    "    row['weights'] = 1/train_size\n",
    "\n",
    "for row in test_data:\n",
    "    row['weights'] = 1/test_size\n",
    "    "
   ]
  },
  {
   "cell_type": "code",
   "execution_count": 20,
   "id": "aba0ec6a",
   "metadata": {},
   "outputs": [],
   "source": [
    "def update_weight(data):\n",
    "    update_w = 1/len(data)\n",
    "    for row in data:\n",
    "        row['weights'] = update_w"
   ]
  },
  {
   "cell_type": "code",
   "execution_count": 21,
   "id": "08929f07",
   "metadata": {},
   "outputs": [],
   "source": [
    "import random"
   ]
  },
  {
   "cell_type": "code",
   "execution_count": 25,
   "id": "da18cd6d",
   "metadata": {},
   "outputs": [
    {
     "data": {
      "image/png": "[encoded data removed]",
      "text/plain": [
       "<Figure size 432x288 with 1 Axes>"
      ]
     },
     "metadata": {
      "needs_background": "light"
     },
     "output_type": "display_data"
    }
   ],
   "source": [
    "train_T=[]\n",
    "test_T=[]\n",
    "for T in range(50):\n",
    "    trees = cls(train_data,0, attributes, labels, 2,0,T,2)\n",
    "    h_train = prediction(train_data, trees)\n",
    "    h_test = prediction(test_data, trees)\n",
    "    h_x=1-h_train\n",
    "    h_y=1-h_test\n",
    "    train_T.append(h_x)\n",
    "    test_T.append(h_y)\n",
    "x1=[x for x in range(50) ]\n",
    "y1=train_T\n",
    "y2=test_T\n",
    "fig, ax = plt.subplots(figsize = (6,4))\n",
    "ax.plot(x1,y1, label='train error', c='black')\n",
    "ax.plot(x1,y2, label='test error', c='red')\n",
    "ax.legend()\n",
    "ax.set_title(\"Error per iteration for RF\")\n",
    "ax.set_xlabel('iteration')\n",
    "ax.set_ylabel('error')\n",
    "\n",
    "plt.show()"
   ]
  },
  {
   "cell_type": "code",
   "execution_count": null,
   "id": "651db4b1",
   "metadata": {},
   "outputs": [],
   "source": []
  },
  {
   "cell_type": "code",
   "execution_count": 26,
   "id": "644b8375",
   "metadata": {},
   "outputs": [],
   "source": [
    "def select_sample(data, data_size):\n",
    "    \n",
    "    data_copy = copy.deepcopy(data)\n",
    "    \n",
    "    samples = []\n",
    "    for i in range(data_size):\n",
    "        idx = random.randint(0, len(data_copy)-1)\n",
    "        samples.append(data_copy[idx])\n",
    "        del data_copy[idx]\n",
    "    return samples"
   ]
  },
  {
   "cell_type": "code",
   "execution_count": 30,
   "id": "8f15c7d6",
   "metadata": {},
   "outputs": [],
   "source": [
    "def select_random_feat(attributes, size):\n",
    "    sub_attr = dict()\n",
    "    attr_copy = list(attributes.keys())\n",
    "\n",
    "    # select random features\n",
    "    while len(sub_attr) < size:\n",
    "        idx = random.randint(0, len(attr_copy) - 1)\n",
    "        attr = attr_copy[idx]\n",
    "        if attr not in sub_attr:\n",
    "            sub_attr[attr] = attributes[attr]\n",
    "\n",
    "    return sub_attr"
   ]
  },
  {
   "cell_type": "code",
   "execution_count": 31,
   "id": "e9731f01",
   "metadata": {},
   "outputs": [],
   "source": [
    "sub_attr=select_random_feat(attributes,2)"
   ]
  },
  {
   "cell_type": "code",
   "execution_count": 32,
   "id": "b0a81c37",
   "metadata": {},
   "outputs": [],
   "source": [
    "pred = []\n",
    "#REPEAT for 100 times\n",
    "for i in range(100):\n",
    "    #Sample 1000 examples uniformly without replacement\n",
    "    samples=select_sample(train_data,data_size=1000)\n",
    "    #learn 500 trees.(here I use 100 instead)\n",
    "    DT = cls(train_data,0, sub_attr, labels, 1,0,100,4)\n",
    "    pred.append(DT)"
   ]
  },
  {
   "cell_type": "code",
   "execution_count": 33,
   "id": "f861c5ca",
   "metadata": {},
   "outputs": [],
   "source": [
    "#single tree bias and variance\n",
    "single_bias = 0.0\n",
    "single_var = 0.0\n",
    "sum_single_bias=0.0\n",
    "sum_single_var=0.0\n",
    "for row in test_data:\n",
    "    avg = 0\n",
    "    predictions = []\n",
    "    for DT in pred:\n",
    "        dt= DT[0]\n",
    "        label = set_label(row, dt)\n",
    "        label = 1 if label == 'yes' else -1\n",
    "        avg += label\n",
    "        predictions.append(label)\n",
    "    avg /= len(predictions)\n",
    "    y = 1 if row['y'] == 'yes' else -1\n",
    "    single_bias = pow(y - avg, 2)\n",
    "    single_var = np.var(predictions)\n",
    "\n",
    "    sum_single_bias += single_bias\n",
    "    sum_single_var += single_var\n",
    "    \n",
    "avg_single_bias = sum_single_bias/len(test_data)\n",
    "avg_single_var = sum_single_var/len(test_data)"
   ]
  },
  {
   "cell_type": "code",
   "execution_count": 34,
   "id": "e9a968b9",
   "metadata": {},
   "outputs": [
    {
     "name": "stdout",
     "output_type": "stream",
     "text": [
      "0.4664\n"
     ]
    }
   ],
   "source": [
    "print(avg_single_bias)"
   ]
  },
  {
   "cell_type": "code",
   "execution_count": null,
   "id": "7456c27f",
   "metadata": {},
   "outputs": [],
   "source": [
    "#RF tree bias and variance\n",
    "bag_bias = 0.0\n",
    "bag_var = 0.0\n",
    "sum_bag_bias=0.0\n",
    "sum_bag_var=0.0\n",
    "for row in test_data:\n",
    "    avg = 0\n",
    "    predictions = []\n",
    "    for DT in pred:\n",
    "        Label=0\n",
    "        for dt in DT:\n",
    "            label = set_label(row, dt)   \n",
    "            label = 1 if label == 'yes' else -1\n",
    "            Label/=len(DT)\n",
    "            Label+=label\n",
    "            avg += Label\n",
    "        \n",
    "        predictions.append(Label)\n",
    "    avg /= len(predictions)\n",
    "    \n",
    "    y = 1 if row['y'] == 'yes' else -1\n",
    "    bag_bias = pow(y - avg, 2)\n",
    "    bag_var = np.var(predictions)\n",
    "\n",
    "    sum_bag_bias += bag_bias\n",
    "    sum_bag_var += bag_var\n",
    "\n",
    "avg_bag_bias = sum_bag_bias/len(test_data)\n",
    "avg_bag_var = sum_bag_var/len(test_data)"
   ]
  },
  {
   "cell_type": "code",
   "execution_count": null,
   "id": "6213c54d",
   "metadata": {},
   "outputs": [],
   "source": []
  }
 ],
 "metadata": {
  "kernelspec": {
   "display_name": "Python 3",
   "language": "python",
   "name": "python3"
  },
  "language_info": {
   "codemirror_mode": {
    "name": "ipython",
    "version": 3
   },
   "file_extension": ".py",
   "mimetype": "text/x-python",
   "name": "python",
   "nbconvert_exporter": "python",
   "pygments_lexer": "ipython3",
   "version": "3.8.8"
  }
 },
 "nbformat": 4,
 "nbformat_minor": 5
}
