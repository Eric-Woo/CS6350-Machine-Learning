{
 "cells": [
  {
   "cell_type": "code",
   "execution_count": 1,
   "id": "6414dbb1",
   "metadata": {},
   "outputs": [],
   "source": [
    "import math\n",
    "import copy\n",
    "import numpy as np \n",
    "import statistics\n",
    "import matplotlib.pyplot as plt"
   ]
  },
  {
   "cell_type": "code",
   "execution_count": 2,
   "id": "e1519915",
   "metadata": {},
   "outputs": [],
   "source": [
    "class Node:\n",
    "    def __init__(self, label):\n",
    "        self.label = label\n",
    "        self.children = dict()\n",
    "\n",
    "    def isLeaf(self):\n",
    "        return len(self.children) == 0"
   ]
  },
  {
   "cell_type": "code",
   "execution_count": 3,
   "id": "d7235c35",
   "metadata": {},
   "outputs": [],
   "source": [
    "def get_total(data):\n",
    "    total = 0.0\n",
    "\n",
    "    for row in data:\n",
    "        total += row['weights']\n",
    "    \n",
    "    return total"
   ]
  },
  {
   "cell_type": "code",
   "execution_count": 4,
   "id": "5e0c1685",
   "metadata": {},
   "outputs": [],
   "source": [
    "def set_subset(data, attribute, val):\n",
    "    sub_data = []\n",
    "\n",
    "    for row in data:\n",
    "        if row[attribute] == val:\n",
    "            sub_data.append(row)\n",
    "\n",
    "    return sub_data"
   ]
  },
  {
   "cell_type": "code",
   "execution_count": 5,
   "id": "bac02bea",
   "metadata": {},
   "outputs": [],
   "source": [
    "def set_label(row, dt):\n",
    "    new_dt = dt\n",
    "\n",
    "    while not new_dt.isLeaf():\n",
    "        curr_attr = new_dt.label\n",
    "        attr_val = row[curr_attr]\n",
    "        new_dt = new_dt.children[attr_val]\n",
    "\n",
    "    return new_dt.label"
   ]
  },
  {
   "cell_type": "code",
   "execution_count": 6,
   "id": "f9b5bc0d",
   "metadata": {},
   "outputs": [],
   "source": [
    "def entropy(data):\n",
    "    \n",
    "    if len(data) == 0:\n",
    "        return 0\n",
    "    \n",
    "    counts = dict()\n",
    "\n",
    "    for row in data:\n",
    "        label = row['y']\n",
    "        if label not in counts:\n",
    "            counts[label] = 0.0\n",
    "            \n",
    "        counts[label] += row['weights']\n",
    "\n",
    "    entropy = 0.0\n",
    "    total = get_total(data)\n",
    "    for (label, count) in counts.items():\n",
    "        p = count / total\n",
    "        entropy += -p * math.log2(p)\n",
    "\n",
    "    return entropy\n",
    "\n",
    "def gini_index(data):\n",
    "    if len(data) == 0:\n",
    "        return 0\n",
    "    \n",
    "    counts = dict()\n",
    "\n",
    "    for row in data:\n",
    "        label = row['y']\n",
    "        if label not in counts:\n",
    "            counts[label] = 0.0\n",
    "        counts[label] += row['weights']\n",
    "\n",
    "    sq_sum = 0.0\n",
    "    total =  get_total(data)\n",
    "    for (label, count) in counts.items():\n",
    "        p = count / total\n",
    "        sq_sum +=p **2\n",
    "\n",
    "    return 1-sq_sum\n",
    "\n",
    "def ME(data):\n",
    "    if len(data) == 0:\n",
    "        return 0\n",
    "    \n",
    "    counts = dict()\n",
    "\n",
    "    for row in data:\n",
    "        label = row['y']\n",
    "        if label not in counts:\n",
    "            counts[label] = 0.0\n",
    "        counts[label] += row['weights']\n",
    "\n",
    "    max_p = 0.0\n",
    "    total = get_total(data)\n",
    "    for (label, count) in counts.items():\n",
    "        p = count / total\n",
    "        max_p = max(max_p, p)\n",
    "\n",
    "    return 1-max_p"
   ]
  },
  {
   "cell_type": "code",
   "execution_count": 7,
   "id": "94ce3cbf",
   "metadata": {},
   "outputs": [],
   "source": [
    "def info_gain(data,gain_type,attribute, vals):\n",
    "    \n",
    "    measure = None\n",
    "    gain = 0.0\n",
    "    if gain_type == 0:\n",
    "        measure=entropy(data)\n",
    "           \n",
    "    elif gain_type == 1:\n",
    "         measure=gini_index(data)\n",
    "        \n",
    "    elif gain_type == 2:\n",
    "         measure=ME(data)\n",
    "            \n",
    "    for val in vals:\n",
    "        sub_set = set_subset(data, attribute, val)\n",
    "        total=get_total(data)\n",
    "        sub_total=get_total(sub_set)\n",
    "        p = sub_total /total\n",
    "        gain += p * measure\n",
    "        gain_x= measure-gain\n",
    "        \n",
    "    return gain_x"
   ]
  },
  {
   "cell_type": "code",
   "execution_count": 8,
   "id": "f391e3ff",
   "metadata": {},
   "outputs": [],
   "source": [
    "def select_feature(data,gain_type, attributes):\n",
    "    gain_x= dict()\n",
    "\n",
    "    for ln, lv in attributes.items():\n",
    "        gain = info_gain(data,gain_type, ln, lv)\n",
    "        gain_x[ln] = gain\n",
    "        max_attr=max(gain_x.keys(), key=lambda key: gain_x[key])\n",
    "\n",
    "    return max_attr"
   ]
  },
  {
   "cell_type": "code",
   "execution_count": 9,
   "id": "c347a032",
   "metadata": {},
   "outputs": [],
   "source": [
    "def majority_label(data):\n",
    "    \n",
    "    counts = dict()\n",
    "    for row in data:\n",
    "        label = row['y']\n",
    "        \n",
    "        if label not in counts:\n",
    "            counts[label] = 0.0\n",
    "            \n",
    "        counts[label] += row['weights']\n",
    "        \n",
    "    common_label=max(counts.keys(), key=lambda key: counts[key])\n",
    "\n",
    "    return common_label"
   ]
  },
  {
   "cell_type": "code",
   "execution_count": 10,
   "id": "e4764762",
   "metadata": {},
   "outputs": [],
   "source": [
    "def ID3(data,gain_type, attributes, labels, max_depth,depth,size):\n",
    "    \n",
    "    if (len(attributes) == 0) or depth==max_depth:\n",
    "        label = majority_label(data)\n",
    "        \n",
    "        return Node(label)\n",
    "    \n",
    "    if (len(labels) == 1):\n",
    "        label = labels.pop()\n",
    "        \n",
    "        return Node(label)\n",
    "\n",
    "    #recursion\n",
    "    max_attr = select_feature(data,gain_type,attributes)\n",
    "    root = Node(max_attr)\n",
    "    \n",
    "\n",
    "    # split into subsets\n",
    "    for v in attributes[max_attr]:\n",
    "        sub_set = set_subset(data, max_attr, v)\n",
    "\n",
    "        if len(sub_set) == 0:\n",
    "            label = majority_label(data)\n",
    "            root.children[v] = Node(label)\n",
    "            \n",
    "        else:\n",
    "            \n",
    "            sub_attributes = copy.deepcopy(attributes)\n",
    "            sub_attributes.pop(max_attr)\n",
    "\n",
    "            # update subset labels set\n",
    "            sub_labels = set()\n",
    "            for row in sub_set:\n",
    "                sub_label = row['y']\n",
    "                if  sub_labels not in sub_labels:\n",
    "                    sub_labels.add(sub_label)\n",
    "\n",
    "            # recursion\n",
    "            root.children[v] = ID3(sub_set, gain_type,sub_attributes, sub_labels, max_depth, depth+1,size)\n",
    "\n",
    "    return root"
   ]
  },
  {
   "cell_type": "code",
   "execution_count": 11,
   "id": "bd37350d",
   "metadata": {},
   "outputs": [],
   "source": [
    "def cls(data, gain_type,attributes, labels,max_depth,depth,T,size):\n",
    "    \n",
    "    DT=[]\n",
    "    for t in range(0, T):\n",
    "        random_data=[random.choice(data) for i in range(len(data))]\n",
    "        dt= ID3(data, gain_type,attributes, labels, max_depth,depth,size)\n",
    "        DT.append(dt)\n",
    "    \n",
    "    return DT"
   ]
  },
  {
   "cell_type": "code",
   "execution_count": 12,
   "id": "68c5e81a",
   "metadata": {},
   "outputs": [],
   "source": [
    "def prediction(data, DT):\n",
    "    \n",
    "    h_rate = 0\n",
    "\n",
    "    for row in data:\n",
    "        pred = 0.0\n",
    "        \n",
    "        for dt in DT:\n",
    "            label = set_label(row,dt)\n",
    "            label = 1 if label == 'yes' else -1\n",
    "            pred += label \n",
    "\n",
    "        if row['y'] == 'yes' and pred > 0:\n",
    "            h_rate += 1\n",
    "        if row['y'] == 'no' and pred < 0:\n",
    "            h_rate += 1\n",
    "    \n",
    "    return h_rate/len(data)"
   ]
  },
  {
   "cell_type": "code",
   "execution_count": 13,
   "id": "a6d5b303",
   "metadata": {},
   "outputs": [],
   "source": [
    "attributes = {'X1': [0, 1], \n",
    "                'X2': [1, 2], \n",
    "                'X3': [0,1,2,3,4,5,6], \n",
    "                'X4': [0,1,2,3],\n",
    "                'X5': [0, 1],\n",
    "                'X6': [-2, -1, 0, 1, 2, 3, 4, 5, 6, 7, 8, 9], \n",
    "                'X7': [-2, -1, 0, 1, 2, 3, 4, 5, 6, 7, 8, 9], \n",
    "                'X8': [-2, -1, 0, 1, 2, 3, 4, 5, 6, 7, 8, 9], \n",
    "                'X9': [-2, -1, 0, 1, 2, 3, 4, 5, 6, 7, 8, 9], \n",
    "                'X10': [-2, -1, 0, 1, 2, 3, 4, 5, 6, 7, 8, 9], \n",
    "                'X11': [-2, -1, 0, 1, 2, 3, 4, 5, 6, 7, 8, 9], \n",
    "                'X12': [0, 1],\n",
    "                'X13': [0, 1],\n",
    "                'X14': [0, 1],\n",
    "                'X15': [0, 1],\n",
    "                'X16': [0, 1],\n",
    "                'X17': [0, 1],\n",
    "                'X18': [0, 1],\n",
    "                'X19': [0, 1],\n",
    "                'X20': [0, 1],\n",
    "                'X21': [0, 1],\n",
    "                'X22': [0, 1],\n",
    "                'X23': [0, 1],}"
   ]
  },
  {
   "cell_type": "code",
   "execution_count": 14,
   "id": "f26321f0",
   "metadata": {},
   "outputs": [],
   "source": [
    "if __name__ == '__main__':\n",
    "    \n",
    "    columns = ['X1','X2','X3','X4','X5','X6','X7','X8','X9','X10','X11','X12','X13','X14','X15','X16','X17','X18','X19','X20','X21','X22','X23','y']\n",
    "    labels = {\"yes\",\"no\"}\n",
    "    numeric_features = ['X1', 'X5', 'X12', 'X13', 'X14', 'X15', 'X16', 'X17', 'X18', 'X19', 'X20', 'X21', 'X22', 'X23']"
   ]
  },
  {
   "cell_type": "code",
   "execution_count": 15,
   "id": "7558a330",
   "metadata": {},
   "outputs": [],
   "source": [
    "# read training data\n",
    "train_data=[]\n",
    "with open('train.csv', 'r') as f:\n",
    "    for line in f:\n",
    "        example = dict()\n",
    "        terms = line.strip().split(',')\n",
    "        for i in range(len(terms)):\n",
    "            attrName = columns[i]\n",
    "            example[attrName] = terms[i]\n",
    "        \n",
    "        train_data.append(example)"
   ]
  },
  {
   "cell_type": "code",
   "execution_count": 16,
   "id": "33bc95d0",
   "metadata": {},
   "outputs": [],
   "source": [
    "# read test data\n",
    "test_data=[]\n",
    "with open('test.csv', 'r') as f:\n",
    "    for line in f:\n",
    "        example = dict()\n",
    "        terms = line.strip().split(',')\n",
    "        for i in range(len(terms)):\n",
    "            attrName = columns[i]\n",
    "            example[attrName] = terms[i]\n",
    "        \n",
    "        test_data.append(example)"
   ]
  },
  {
   "cell_type": "code",
   "execution_count": 17,
   "id": "42c75a98",
   "metadata": {},
   "outputs": [],
   "source": [
    "medians = {'X1':0, 'X5':0, 'X12':0, 'X13':0, 'X14':0, 'X15':0, 'X16':0, 'X17':0, 'X18':0, 'X19':0, 'X20':0, 'X21':0, 'X22':0,\"X23\":0}\n",
    "for key in medians.keys():\n",
    "    vals = []\n",
    "    for row in train_data:\n",
    "        vals.append(float(row[key]))\n",
    "    medians[key] = statistics.median(vals)"
   ]
  },
  {
   "cell_type": "code",
   "execution_count": 18,
   "id": "6e574230",
   "metadata": {},
   "outputs": [
    {
     "data": {
      "text/plain": [
       "{'X1': 140000.0,\n",
       " 'X5': 34.0,\n",
       " 'X12': 22330.0,\n",
       " 'X13': 21339.0,\n",
       " 'X14': 20039.0,\n",
       " 'X15': 18940.5,\n",
       " 'X16': 18107.5,\n",
       " 'X17': 17036.0,\n",
       " 'X18': 2100.0,\n",
       " 'X19': 2000.0,\n",
       " 'X20': 1702.5,\n",
       " 'X21': 1500.0,\n",
       " 'X22': 1500.0,\n",
       " 'X23': 1500.0}"
      ]
     },
     "execution_count": 18,
     "metadata": {},
     "output_type": "execute_result"
    }
   ],
   "source": [
    "medians"
   ]
  },
  {
   "cell_type": "code",
   "execution_count": 19,
   "id": "b330850b",
   "metadata": {},
   "outputs": [],
   "source": [
    "#if >median, 1 else 0\n",
    "for key, value in medians.items():\n",
    "    for row in train_data:\n",
    "        val = float(row[key])\n",
    "        row[key] = 1 if val > value else 0\n",
    "\n",
    "    for row in test_data:\n",
    "        val = float(row[key])\n",
    "        row[key] = 1 if val > value else 0"
   ]
  },
  {
   "cell_type": "code",
   "execution_count": 20,
   "id": "39409bdf",
   "metadata": {},
   "outputs": [],
   "source": [
    "#initialize the weight\n",
    "train_size=len(train_data)\n",
    "test_size=len(test_data)\n",
    "for row in train_data:\n",
    "    row['weights'] = 1/train_size\n",
    "\n",
    "for row in test_data:\n",
    "    row['weights'] = 1/test_size\n",
    "    "
   ]
  },
  {
   "cell_type": "code",
   "execution_count": 21,
   "id": "aba0ec6a",
   "metadata": {},
   "outputs": [],
   "source": [
    "def update_weight(data):\n",
    "    update_w = 1/len(data)\n",
    "    for row in data:\n",
    "        row['weights'] = update_w"
   ]
  },
  {
   "cell_type": "code",
   "execution_count": 22,
   "id": "08929f07",
   "metadata": {},
   "outputs": [],
   "source": [
    "import random"
   ]
  },
  {
   "cell_type": "code",
   "execution_count": null,
   "id": "1c8c1f05",
   "metadata": {},
   "outputs": [],
   "source": [
    "train_T=[]\n",
    "test_T=[]\n",
    "for T in range(100):\n",
    "    trees = cls(train_data,0, attributes, labels, 1,0,T,2)\n",
    "    h_train = prediction(train_data, trees)\n",
    "    h_test = prediction(test_data, trees)\n",
    "    h_x=1-h_train\n",
    "    h_y=1-h_test\n",
    "    train_T.append(h_x)\n",
    "    test_T.append(h_y)\n",
    "x1=[x for x in range(100) ]\n",
    "y1=train_T\n",
    "y2=test_T\n",
    "fig, ax = plt.subplots(figsize = (6,4))\n",
    "ax.plot(x1,y1, label='train error', c='black')\n",
    "ax.plot(x1,y2, label='test error', c='red')\n",
    "ax.legend()\n",
    "ax.set_title(\"Error per iteration for RF\")\n",
    "ax.set_xlabel('iteration')\n",
    "ax.set_ylabel('error')\n",
    "\n",
    "plt.show()"
   ]
  },
  {
   "cell_type": "code",
   "execution_count": null,
   "id": "651db4b1",
   "metadata": {},
   "outputs": [],
   "source": []
  },
  {
   "cell_type": "code",
   "execution_count": null,
   "id": "6213c54d",
   "metadata": {},
   "outputs": [],
   "source": []
  }
 ],
 "metadata": {
  "kernelspec": {
   "display_name": "Python 3",
   "language": "python",
   "name": "python3"
  },
  "language_info": {
   "codemirror_mode": {
    "name": "ipython",
    "version": 3
   },
   "file_extension": ".py",
   "mimetype": "text/x-python",
   "name": "python",
   "nbconvert_exporter": "python",
   "pygments_lexer": "ipython3",
   "version": "3.8.8"
  }
 },
 "nbformat": 4,
 "nbformat_minor": 5
}
